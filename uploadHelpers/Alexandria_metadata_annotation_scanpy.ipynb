{
 "cells": [
  {
   "cell_type": "code",
   "execution_count": 66,
   "metadata": {},
   "outputs": [],
   "source": [
    "%matplotlib inline\n",
    "import matplotlib\n",
    "import scanpy as sc\n",
    "import pandas as pd\n",
    "import anndata\n",
    "import convert_data_to_scp as conv\n",
    "import os\n",
    "import ipywidgets as widgets\n",
    "import requests\n",
    "import upload_helpers as uh\n",
    "import MetadataAdder as ma"
   ]
  },
  {
   "cell_type": "markdown",
   "metadata": {},
   "source": [
    "# Alexandria metadata annotation for scanpy files\n",
    "\n",
    "For this notebook, you are expected to have the following inputs:\n",
    "\n",
    "\n",
    "* an AnnData (scanpy) object saved as an h5ad file with the following attributes: \n",
    "    * containing few enough cells that you are willing to save it in dense format\n",
    "    * with some dimensionality reduction already run (ex. UMAP or tSNE)\n",
    "    * with some metadata/clustering already done\n",
    "    * at least one metadata column with a value describing the sample of each cell such that all cells from that sample have an identical value in that column\n",
    "    \n",
    "* (optional) a per sample csv, txt, excel, or tsv file with the following attributes:\n",
    "    * one row per sample\n",
    "    * the values in at least one column are sample names, and these sample names exactly match the values in the sample column in the scanpy metadata\n",
    "    \n",
    "* (optional) a per donor csv, txt, excel, or tsv file with the following attributes:\n",
    "    * This is useful if you have multiple samples per donor and some metadata that is the same each sample from the same donor\n",
    "    * there should be a column in this file with values as donor identifiers that maps to a column in the sample csv or the scanpy object\n",
    "    \n",
    "    \n",
    "    \n",
    "    \n",
    "    \n",
    "## Troubleshooting:\n",
    "\n",
    "If you are not seeing graphical output try running ``jupyter labextension install @jupyter-widgets/jupyterlab-manager``"
   ]
  },
  {
   "cell_type": "markdown",
   "metadata": {},
   "source": [
    "## USER INPUT: Paths to files"
   ]
  },
  {
   "cell_type": "code",
   "execution_count": 67,
   "metadata": {},
   "outputs": [],
   "source": [
    "\n",
    "# path to anndata/scanpy object\n",
    "anndata_path = \"epithelial_cell_clustering.h5ad\"\n",
    "\n",
    "# path to sample file, leave as \"\" if you are not using it\n",
    "sample_metadata_path = \"\"\n",
    "\n",
    "# path to donor file, leave as \"\" if you are not using it\n",
    "donor_metadata_path = \"\""
   ]
  },
  {
   "cell_type": "code",
   "execution_count": null,
   "metadata": {},
   "outputs": [],
   "source": []
  },
  {
   "cell_type": "code",
   "execution_count": 68,
   "metadata": {},
   "outputs": [
    {
     "name": "stdout",
     "output_type": "stream",
     "text": [
      "AnnData object with n_obs × n_vars = 4447 × 2259 \n",
      "    obs: 'sample', 'samplename_seurat_obj', 'incude for analysis', 'baby born', 'date processed', 'time post partum (days)', 'time post partum (weeks)', 'milk stage', 'donor ', 'milk processing ', 'bead lot ', 'array lot', 'cell count live (per mL)', 'cell count dead (per mL)', 'sample volume (mL)', 'time to processing (hrs)', 'time pumped', 'infant sick (yes or no)', 'weening (yes or no)', 'mastisis (yes or no)', 'other soreness in breast (yes or no)', 'other health issues reported', 'directly breast feeding (yes or no)', 'any formula (yes or no)', 'sample from right, left or both breasts? ', 'favored breast?', 'sample provided in', 'sequencing run ', 'FASTQ Location', 'Age', 'Week Delivered ', 'Labor Induced ', 'Antibiotics During Delivery ', 'Pregnancy Number', 'Miscarrage ', 'Delivery Mode', 'Race', 'doublet_scores', 'predicted_doublet', 'n_genes_by_counts', 'log1p_n_genes_by_counts', 'total_counts', 'log1p_total_counts', 'pct_counts_in_top_50_genes', 'pct_counts_in_top_100_genes', 'pct_counts_in_top_200_genes', 'pct_counts_in_top_500_genes', 'percent_mito', 'n_counts', 'leiden', 'general_celltype', 'all_cells_general_celltype', 'all_cells_leiden', 'n_genes', 'celltype'\n",
      "    var: 'n_cells', 'n_cells_by_counts', 'mean_counts', 'log1p_mean_counts', 'pct_dropout_by_counts', 'total_counts', 'log1p_total_counts', 'highly_variable', 'means', 'dispersions', 'dispersions_norm'\n",
      "    uns: 'Antibiotics During Delivery _colors', 'Delivery Mode_colors', 'Labor Induced _colors', 'Miscarrage _colors', 'Race_colors', 'any formula (yes or no)_colors', 'array lot_colors', 'bead lot _colors', 'cell count dead (per mL)_colors', 'cell count live (per mL)_colors', 'celltype_colors', 'dendrogram_leiden', 'directly breast feeding (yes or no)_colors', 'donor _colors', 'favored breast?_colors', 'infant sick (yes or no)_colors', 'leiden', 'leiden_colors', 'mastisis (yes or no)_colors', 'milk processing _colors', 'milk stage_colors', 'neighbors', 'other health issues reported_colors', 'other soreness in breast (yes or no)_colors', 'pca', 'rank_genes_groups', 'sample from right, left or both breasts? _colors', 'sample provided in_colors', 'sample volume (mL)_colors', 'sample_colors', 'sequencing run _colors', 'time pumped_colors', 'weening (yes or no)_colors'\n",
      "    obsm: 'X_pca', 'X_umap'\n",
      "    varm: 'PCs'\n"
     ]
    }
   ],
   "source": [
    "adata = sc.read_h5ad(anndata_path)\n",
    "\n",
    "print(adata)"
   ]
  },
  {
   "cell_type": "code",
   "execution_count": 69,
   "metadata": {},
   "outputs": [],
   "source": [
    "mapping_options = {}\n",
    "mapping_options[\"anndata\"] = adata\n",
    "if len(sample_metadata_path) > 0:\n",
    "    mapping_options[sample_metadata_path] = sample_metadata_path\n",
    "    \n",
    "if len(donor_metadata_path) > 0:\n",
    "    mapping_options[donor_metadata_path] =donor_metadata_path"
   ]
  },
  {
   "cell_type": "code",
   "execution_count": null,
   "metadata": {},
   "outputs": [],
   "source": [
    "output_dir = \"\""
   ]
  },
  {
   "cell_type": "markdown",
   "metadata": {},
   "source": [
    "## Step 1: Dimensionality reduction 'cluster files'\n",
    "\n",
    "The SCP expects one file per dimensionality reduction visualization, so the following code chunk will save a file for each dimensionality reduction stored in the ``obsm`` attribute of your ``AnnData`` object. The ``print(adata)`` command above should show you the available dimensionality reduction values. \n",
    "\n",
    "\n",
    "The upload interface also requires a minimum and maximum for each axis of each dimensionailty reduction. This next code chunk will also print out those results so you can enter them in the upload interface."
   ]
  },
  {
   "cell_type": "code",
   "execution_count": null,
   "metadata": {},
   "outputs": [],
   "source": [
    "conv.save_cluster_dfs(adata, output_dir)"
   ]
  },
  {
   "cell_type": "markdown",
   "metadata": {},
   "source": [
    "## Step 2: expression matrices\n",
    "\n",
    "Next you will save your expression matrix in the SCP format\n",
    "\n"
   ]
  },
  {
   "cell_type": "code",
   "execution_count": null,
   "metadata": {},
   "outputs": [],
   "source": [
    "out_df = make_expression_df(adata)\n",
    "out_df.to_csv(os.path.join(output_dir, \"expression_file.txt.gz\"), compression='gzip')"
   ]
  },
  {
   "cell_type": "markdown",
   "metadata": {},
   "source": [
    "## Step 3: Set up metadata\n",
    "\n",
    "Now we will convert metadata in the scanpy object to the correct metadata format and naming scheme for Alexandria"
   ]
  },
  {
   "cell_type": "code",
   "execution_count": 70,
   "metadata": {},
   "outputs": [],
   "source": [
    "cell_level_metadata = pd.DataFrame(index=adata.obs_names)"
   ]
  },
  {
   "cell_type": "markdown",
   "metadata": {},
   "source": [
    "### Starting with global metadata\n",
    "\n",
    "These metadata attributes will likely be the same for all of your columns"
   ]
  },
  {
   "cell_type": "code",
   "execution_count": 71,
   "metadata": {},
   "outputs": [],
   "source": [
    "global_attributes = {}"
   ]
  },
  {
   "cell_type": "markdown",
   "metadata": {},
   "source": [
    "### Select species for this data\n",
    "\n",
    "Type a search term in the drop down below (ex. 'homo' for human or 'mus' for mouse)\n",
    "\n",
    "then run the next code section and select the value from that drop-down\n",
    "\n",
    "If you do not see the value you were looking for and would like to search again, type in a new value in the text box and *rerun the code block that generates the species*"
   ]
  },
  {
   "cell_type": "code",
   "execution_count": 100,
   "metadata": {
    "scrolled": true
   },
   "outputs": [
    {
     "data": {
      "application/vnd.jupyter.widget-view+json": {
       "model_id": "1aa5c4d29b8c432bb924f6016ae55074",
       "version_major": 2,
       "version_minor": 0
      },
      "text/plain": [
       "Text(value='Species', description='Species:', placeholder='Species search')"
      ]
     },
     "metadata": {},
     "output_type": "display_data"
    }
   ],
   "source": [
    "s =widgets.Text(\n",
    "    value='Species',\n",
    "    placeholder='Species search',\n",
    "    description='Species:',\n",
    "    disabled=False\n",
    ")\n",
    "display(s)"
   ]
  },
  {
   "cell_type": "code",
   "execution_count": 105,
   "metadata": {},
   "outputs": [
    {
     "data": {
      "application/vnd.jupyter.widget-view+json": {
       "model_id": "dc620029c47a40e0b24331171e813533",
       "version_major": 2,
       "version_minor": 0
      },
      "text/plain": [
       "Dropdown(description='species', options=(('Mus musculoides: ', 'NCBITaxon_60742'), ('Mus fragilicauda: ', 'NCB…"
      ]
     },
     "metadata": {},
     "output_type": "display_data"
    }
   ],
   "source": [
    "list_for_dropdown, name_id_dict=uh.query_search_term('ncbitaxon',s.value)\n",
    "m=uh.choose_metadata_name_dropdown(list_for_dropdown,\"species\")\n",
    "display(m)"
   ]
  },
  {
   "cell_type": "markdown",
   "metadata": {},
   "source": [
    "### Once you are happy with your selection above, run the code block below!!"
   ]
  },
  {
   "cell_type": "code",
   "execution_count": 72,
   "metadata": {},
   "outputs": [
    {
     "ename": "AttributeError",
     "evalue": "'HBox' object has no attribute 'value'",
     "output_type": "error",
     "traceback": [
      "\u001b[0;31m---------------------------------------------------------------------------\u001b[0m",
      "\u001b[0;31mAttributeError\u001b[0m                            Traceback (most recent call last)",
      "\u001b[0;32m<ipython-input-72-f7a499cc76a6>\u001b[0m in \u001b[0;36m<module>\u001b[0;34m()\u001b[0m\n\u001b[0;32m----> 1\u001b[0;31m \u001b[0mglobal_attributes\u001b[0m\u001b[0;34m[\u001b[0m\u001b[0;34m'species'\u001b[0m\u001b[0;34m]\u001b[0m\u001b[0;34m=\u001b[0m\u001b[0mm\u001b[0m\u001b[0;34m.\u001b[0m\u001b[0mvalue\u001b[0m\u001b[0;34m\u001b[0m\u001b[0;34m\u001b[0m\u001b[0m\n\u001b[0m\u001b[1;32m      2\u001b[0m \u001b[0mglobal_attributes\u001b[0m\u001b[0;34m[\u001b[0m\u001b[0;34m'species__ontology_label'\u001b[0m\u001b[0;34m]\u001b[0m \u001b[0;34m=\u001b[0m \u001b[0mname_id_dict\u001b[0m\u001b[0;34m[\u001b[0m\u001b[0mm\u001b[0m\u001b[0;34m.\u001b[0m\u001b[0mvalue\u001b[0m\u001b[0;34m]\u001b[0m\u001b[0;34m\u001b[0m\u001b[0;34m\u001b[0m\u001b[0m\n",
      "\u001b[0;31mAttributeError\u001b[0m: 'HBox' object has no attribute 'value'"
     ]
    }
   ],
   "source": [
    "global_attributes['species']=m.value\n",
    "global_attributes['species__ontology_label'] = name_id_dict[m.value]"
   ]
  },
  {
   "cell_type": "markdown",
   "metadata": {},
   "source": [
    "### Select library preparation protocol for this data\n",
    "\n",
    "Just select from the dropdown below then run the code block under it"
   ]
  },
  {
   "cell_type": "code",
   "execution_count": 125,
   "metadata": {},
   "outputs": [
    {
     "name": "stdout",
     "output_type": "stream",
     "text": [
      "11\n"
     ]
    },
    {
     "data": {
      "application/vnd.jupyter.widget-view+json": {
       "model_id": "a304f6930420421797f44bab3c9bec6c",
       "version_major": 2,
       "version_minor": 0
      },
      "text/plain": [
       "Dropdown(description='experimental method', options=(('RARseq: Restriction site associated RNA sequencing', 'E…"
      ]
     },
     "metadata": {},
     "output_type": "display_data"
    }
   ],
   "source": [
    "list_for_dropdown, name_id_dict = uh.query_all_values_under_root(\"efo\",\"EFO_0001457\")\n",
    "m=uh.choose_metadata_name_dropdown(list_for_dropdown,\"experimental method\")\n",
    "display(m)"
   ]
  },
  {
   "cell_type": "code",
   "execution_count": 126,
   "metadata": {},
   "outputs": [],
   "source": [
    "global_attributes['library_preparation_protocol']=m.value\n",
    "global_attributes['library_preparation_protocol__ontology_label'] = name_id_dict[m.value]"
   ]
  },
  {
   "cell_type": "code",
   "execution_count": 73,
   "metadata": {},
   "outputs": [],
   "source": [
    "for k,v in global_attributes.items():\n",
    "    cell_level_metadata[k] = v\n",
    "\n",
    "cell_level_metadata[\"CellID\"] = cell_level_metadata.index"
   ]
  },
  {
   "cell_type": "code",
   "execution_count": 74,
   "metadata": {},
   "outputs": [],
   "source": [
    "metadata_info = pd.read_csv(\"metadata_name_type_info.tsv\",sep=\"\\t\",index_col=0)\n",
    "metadata_info[\"is unit\"] = [\"unit\" in i for i in metadata_info.index]\n",
    "available_metadata = metadata_info[~metadata_info[\"class\"].isin([\"unit_label\", \"ontology_label\"]) & ~metadata_info[\"is unit\"]].index\n",
    "\n",
    "available_metadata=available_metadata.drop(\"species\")\n",
    "available_metadata=available_metadata.drop('library_preparation_protocol')"
   ]
  },
  {
   "cell_type": "markdown",
   "metadata": {},
   "source": [
    "## Renaming metadata from your dataframe and files\n",
    "\n",
    "Now we will facilitate mapping any of your metadata to the Alexandria metadata convention.\n",
    "\n",
    "If there is required (or optional) metadata that you would like to add that is not already in one of your files AND is an ontology or controlled list metadata type AND follows the same pattern as some other metadata in your files (ex. sample level or donor level), you can do so by mapping the metadata from some unrelated metadata.\n",
    "\n",
    "For example, if you recorded the organ of each sample but did not save it as an explicit column, you can choose the sample column and map from that\n",
    "\n",
    "\n",
    "You should run this group of cells once per metadata source (as in sample level file, your cell level dataframe, etc)"
   ]
  },
  {
   "cell_type": "code",
   "execution_count": 139,
   "metadata": {},
   "outputs": [
    {
     "data": {
      "application/vnd.jupyter.widget-view+json": {
       "model_id": "",
       "version_major": 2,
       "version_minor": 0
      },
      "text/plain": [
       "Dropdown(description='table with metadata to map', options=('anndata',), value='anndata')"
      ]
     },
     "metadata": {},
     "output_type": "display_data"
    },
    {
     "data": {
      "application/vnd.jupyter.widget-view+json": {
       "model_id": "",
       "version_major": 2,
       "version_minor": 0
      },
      "text/plain": [
       "Button(description='select table', layout=Layout(height='40px', width='auto'), style=ButtonStyle())"
      ]
     },
     "metadata": {},
     "output_type": "display_data"
    },
    {
     "data": {
      "application/vnd.jupyter.widget-view+json": {
       "model_id": "",
       "version_major": 2,
       "version_minor": 0
      },
      "text/plain": [
       "Dropdown(description='my metadata column', options=('sample', 'samplename_seurat_obj', 'incude for analysis', …"
      ]
     },
     "metadata": {},
     "output_type": "display_data"
    },
    {
     "data": {
      "application/vnd.jupyter.widget-view+json": {
       "model_id": "",
       "version_major": 2,
       "version_minor": 0
      },
      "text/plain": [
       "Dropdown(description='Alexandria metadata column', options=('donor_id', 'ethnicity', 'race', 'mouse_strain', '…"
      ]
     },
     "metadata": {},
     "output_type": "display_data"
    },
    {
     "data": {
      "application/vnd.jupyter.widget-view+json": {
       "model_id": "",
       "version_major": 2,
       "version_minor": 0
      },
      "text/plain": [
       "Button(description='map ', layout=Layout(height='40px', width='auto'), style=ButtonStyle())"
      ]
     },
     "metadata": {},
     "output_type": "display_data"
    },
    {
     "data": {
      "application/vnd.jupyter.widget-view+json": {
       "model_id": "",
       "version_major": 2,
       "version_minor": 0
      },
      "text/plain": [
       "Button(description='save my maps, I am done with this matrix', layout=Layout(height='40px', width='auto'), sty…"
      ]
     },
     "metadata": {},
     "output_type": "display_data"
    },
    {
     "name": "stdout",
     "output_type": "stream",
     "text": [
      "This metadata column is a non-controlled string type. It will be directly mapped from the values in your column.\n"
     ]
    },
    {
     "data": {
      "application/vnd.jupyter.widget-view+json": {
       "model_id": "",
       "version_major": 2,
       "version_minor": 0
      },
      "text/plain": [
       "Dropdown(description='my metadata column', options=('sample', 'samplename_seurat_obj', 'incude for analysis', …"
      ]
     },
     "metadata": {},
     "output_type": "display_data"
    },
    {
     "data": {
      "application/vnd.jupyter.widget-view+json": {
       "model_id": "",
       "version_major": 2,
       "version_minor": 0
      },
      "text/plain": [
       "Dropdown(description='Alexandria metadata column', options=('ethnicity', 'race', 'mouse_strain', 'vaccination'…"
      ]
     },
     "metadata": {},
     "output_type": "display_data"
    },
    {
     "data": {
      "application/vnd.jupyter.widget-view+json": {
       "model_id": "",
       "version_major": 2,
       "version_minor": 0
      },
      "text/plain": [
       "Button(description='map ', layout=Layout(height='40px', width='auto'), style=ButtonStyle())"
      ]
     },
     "metadata": {},
     "output_type": "display_data"
    },
    {
     "data": {
      "application/vnd.jupyter.widget-view+json": {
       "model_id": "",
       "version_major": 2,
       "version_minor": 0
      },
      "text/plain": [
       "Button(description='save my maps, I am done with this matrix', layout=Layout(height='40px', width='auto'), sty…"
      ]
     },
     "metadata": {},
     "output_type": "display_data"
    },
    {
     "name": "stdout",
     "output_type": "stream",
     "text": [
      "Each value in this column will need to be mapped to a controlled vocabulary. Please select the unique value you would like to map first\n"
     ]
    },
    {
     "data": {
      "application/vnd.jupyter.widget-view+json": {
       "model_id": "",
       "version_major": 2,
       "version_minor": 0
      },
      "text/plain": [
       "HBox(children=(Text(value='BM01_12dpp', description='BM01_12dpp', placeholder='search term'), Button(descripti…"
      ]
     },
     "metadata": {},
     "output_type": "display_data"
    },
    {
     "data": {
      "application/vnd.jupyter.widget-view+json": {
       "model_id": "",
       "version_major": 2,
       "version_minor": 0
      },
      "text/plain": [
       "HBox(children=(Text(value='BM01_7wkpp', description='BM01_7wkpp', placeholder='search term'), Button(descripti…"
      ]
     },
     "metadata": {},
     "output_type": "display_data"
    },
    {
     "data": {
      "application/vnd.jupyter.widget-view+json": {
       "model_id": "",
       "version_major": 2,
       "version_minor": 0
      },
      "text/plain": [
       "HBox(children=(Text(value='BM01_16dpp_r3', description='BM01_16dpp_r3', placeholder='search term'), Button(des…"
      ]
     },
     "metadata": {},
     "output_type": "display_data"
    },
    {
     "data": {
      "application/vnd.jupyter.widget-view+json": {
       "model_id": "",
       "version_major": 2,
       "version_minor": 0
      },
      "text/plain": [
       "HBox(children=(Text(value='BM01_5dpp_r1', description='BM01_5dpp_r1', placeholder='search term'), Button(descr…"
      ]
     },
     "metadata": {},
     "output_type": "display_data"
    },
    {
     "data": {
      "application/vnd.jupyter.widget-view+json": {
       "model_id": "",
       "version_major": 2,
       "version_minor": 0
      },
      "text/plain": [
       "HBox(children=(Text(value='BM01_13wkpp_r2', description='BM01_13wkpp_r2', placeholder='search term'), Button(d…"
      ]
     },
     "metadata": {},
     "output_type": "display_data"
    },
    {
     "data": {
      "application/vnd.jupyter.widget-view+json": {
       "model_id": "",
       "version_major": 2,
       "version_minor": 0
      },
      "text/plain": [
       "Button(description='save', style=ButtonStyle())"
      ]
     },
     "metadata": {},
     "output_type": "display_data"
    }
   ],
   "source": [
    "meta_addr = ma.MetadataAdder(mapping_options, available_metadata, metadata_info, cell_level_metadata)"
   ]
  },
  {
   "cell_type": "code",
   "execution_count": 276,
   "metadata": {},
   "outputs": [],
   "source": [
    "cell_level_metadata = meta_attr.cell_level_metadata"
   ]
  },
  {
   "cell_type": "markdown",
   "metadata": {},
   "source": [
    "Now if you have any more files to add, go to step 1. If not go to the next cell"
   ]
  },
  {
   "cell_type": "markdown",
   "metadata": {},
   "source": [
    "## Check that all required keys are mapped"
   ]
  },
  {
   "cell_type": "code",
   "execution_count": 279,
   "metadata": {},
   "outputs": [],
   "source": [
    "required_keys = metadata_info.loc[metadata_info[\"required\"]==\"Yes\"].index"
   ]
  },
  {
   "cell_type": "code",
   "execution_count": 290,
   "metadata": {},
   "outputs": [
    {
     "data": {
      "text/plain": [
       "str"
      ]
     },
     "execution_count": 290,
     "metadata": {},
     "output_type": "execute_result"
    }
   ],
   "source": [
    "type(metadata_info.loc[\"disease\",\"default\"])"
   ]
  },
  {
   "cell_type": "code",
   "execution_count": 291,
   "metadata": {},
   "outputs": [
    {
     "name": "stdout",
     "output_type": "stream",
     "text": [
      "You need to add a value for is_living before proceeding!\n",
      "You need to add a value for sample_type before proceeding!\n",
      "You need to add a value for disease__ontology_label before proceeding!\n",
      "You need to add a value for CellID before proceeding!\n"
     ]
    }
   ],
   "source": [
    "for k in required_keys:\n",
    "    if k not in cell_level_metadata.columns:\n",
    "        #default?\n",
    "        default_val = metadata_info.loc[k,\"default\"]\n",
    "        if type(default_val) is str: # this is sketchy but right now all the defaults are strings so whatevs\n",
    "            cell_level_metadata[k] = default_val\n",
    "        else:\n",
    "            print(\"You need to add a value for \"+k+\" before proceeding!\")"
   ]
  },
  {
   "cell_type": "code",
   "execution_count": 293,
   "metadata": {},
   "outputs": [
    {
     "data": {
      "text/plain": [
       "Index(['required', 'default', 'type', 'array', 'class', 'ontology',\n",
       "       'ontology_root', 'controlled_list_entries', 'dependency',\n",
       "       'dependency_condition', 'dependent', 'attribute_description',\n",
       "       'is unit'],\n",
       "      dtype='object')"
      ]
     },
     "execution_count": 293,
     "metadata": {},
     "output_type": "execute_result"
    }
   ],
   "source": [
    "metadata_info.columns"
   ]
  },
  {
   "cell_type": "markdown",
   "metadata": {},
   "source": [
    "## All numeric metadata needs units, so now add units..."
   ]
  },
  {
   "cell_type": "code",
   "execution_count": 303,
   "metadata": {},
   "outputs": [
    {
     "name": "stdout",
     "output_type": "stream",
     "text": [
      "1\n"
     ]
    },
    {
     "data": {
      "application/vnd.jupyter.widget-view+json": {
       "model_id": "ab8bf8887bff4366a82bfec7ef517070",
       "version_major": 2,
       "version_minor": 0
      },
      "text/plain": [
       "Dropdown(description='organism_age__unit', options=((\"month: A time unit which is approximately equal to the l…"
      ]
     },
     "metadata": {},
     "output_type": "display_data"
    }
   ],
   "source": [
    "# make a list of unit metadata that you have\n",
    "my_metadata_info = metadata_info.loc[cell_level_metadata.columns]\n",
    "unit_dropdowns = {}\n",
    "name_id_dicts = {}\n",
    "for dep_metadata in my_metadata_info.loc[~my_metadata_info[\"dependent\"].isna()].index:\n",
    "    m_name = metadata_info.loc[dep_metadata,\"dependent\"]\n",
    "    \n",
    "    if metadata_info.loc[m_name, \"class\"] == \"ontology\":\n",
    "        ont = metadata_info.loc[m_name, \"ontology\"].split(\"/\")[-1]\n",
    "        list_for_dropdown, name_id_dict = uh.query_all_values_under_root(ont,metadata_info.loc[m_name, \"ontology_root\"])\n",
    "        unit_dropdowns[m_name] = uh.choose_metadata_name_dropdown(list_for_dropdown,m_name)\n",
    "        name_id_dicts[m_name] = name_id_dict\n",
    "    else:\n",
    "        unit_dropdowns[m_name] = widgets.Text(\n",
    "                    value=\"type unit here\",\n",
    "                    placeholder='type unit here',\n",
    "                    description=m_name,\n",
    "                    disabled=False\n",
    "                )\n",
    "    \n",
    "for n,v in unit_dropdowns.items():\n",
    "    display(v)"
   ]
  },
  {
   "cell_type": "code",
   "execution_count": 305,
   "metadata": {},
   "outputs": [],
   "source": [
    "unit_values = {}\n",
    "for n,v in unit_dropdowns.items():\n",
    "    cells_with_dep = cell_level_metadata.loc[~cell_level_metadata[metadata_info.loc[n,\"dependency\"]].isna()].index\n",
    "    val = v.value\n",
    "    if n in name_id_dicts:\n",
    "        cell_level_metadata.loc[cells_with_dep, n+\"__ontology_label\"] = name_id_dicts[n][val]\n",
    "    cell_level_metadata.loc[cells_with_dep,n] = val\n",
    "\n"
   ]
  },
  {
   "cell_type": "code",
   "execution_count": 307,
   "metadata": {},
   "outputs": [
    {
     "data": {
      "text/plain": [
       "(13341, 17)"
      ]
     },
     "execution_count": 307,
     "metadata": {},
     "output_type": "execute_result"
    }
   ],
   "source": []
  },
  {
   "cell_type": "code",
   "execution_count": 308,
   "metadata": {},
   "outputs": [
    {
     "data": {
      "text/plain": [
       "(4447, 8)"
      ]
     },
     "execution_count": 308,
     "metadata": {},
     "output_type": "execute_result"
    }
   ],
   "source": []
  },
  {
   "cell_type": "markdown",
   "metadata": {},
   "source": [
    "## Add in any unstructured metadata that you want to add (and their types)"
   ]
  },
  {
   "cell_type": "code",
   "execution_count": null,
   "metadata": {},
   "outputs": [],
   "source": []
  },
  {
   "cell_type": "markdown",
   "metadata": {},
   "source": [
    "## Map the structured Alexandria metadata types"
   ]
  }
 ],
 "metadata": {
  "kernelspec": {
   "display_name": "Python 3",
   "language": "python",
   "name": "python3"
  },
  "language_info": {
   "codemirror_mode": {
    "name": "ipython",
    "version": 3
   },
   "file_extension": ".py",
   "mimetype": "text/x-python",
   "name": "python",
   "nbconvert_exporter": "python",
   "pygments_lexer": "ipython3",
   "version": "3.6.8"
  }
 },
 "nbformat": 4,
 "nbformat_minor": 2
}
