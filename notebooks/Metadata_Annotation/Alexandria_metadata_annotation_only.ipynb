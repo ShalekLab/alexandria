{
 "cells": [
  {
   "cell_type": "code",
   "execution_count": 1,
   "metadata": {},
   "outputs": [
    {
     "name": "stderr",
     "output_type": "stream",
     "text": [
      "/Users/nyquist/anaconda3/lib/python3.6/site-packages/h5py/__init__.py:36: FutureWarning: Conversion of the second argument of issubdtype from `float` to `np.floating` is deprecated. In future, it will be treated as `np.float64 == np.dtype(float).type`.\n",
      "  from ._conv import register_converters as _register_converters\n"
     ]
    }
   ],
   "source": [
    "%matplotlib inline\n",
    "import matplotlib\n",
    "import scanpy as sc\n",
    "import pandas as pd\n",
    "import anndata\n",
    "import convert_adata_to_scp as conv\n",
    "import os\n",
    "import ipywidgets as widgets\n",
    "import requests\n",
    "import widget_helpers as uh\n",
    "import MetadataAdder as ma"
   ]
  },
  {
   "cell_type": "code",
   "execution_count": 2,
   "metadata": {},
   "outputs": [
    {
     "ename": "NameError",
     "evalue": "name 'importlib' is not defined",
     "output_type": "error",
     "traceback": [
      "\u001b[0;31m---------------------------------------------------------------------------\u001b[0m",
      "\u001b[0;31mNameError\u001b[0m                                 Traceback (most recent call last)",
      "\u001b[0;32m<ipython-input-2-9895470e0896>\u001b[0m in \u001b[0;36m<module>\u001b[0;34m()\u001b[0m\n\u001b[0;32m----> 1\u001b[0;31m \u001b[0mimportlib\u001b[0m\u001b[0;34m.\u001b[0m\u001b[0mreload\u001b[0m\u001b[0;34m(\u001b[0m\u001b[0mma\u001b[0m\u001b[0;34m)\u001b[0m\u001b[0;34m\u001b[0m\u001b[0;34m\u001b[0m\u001b[0m\n\u001b[0m",
      "\u001b[0;31mNameError\u001b[0m: name 'importlib' is not defined"
     ]
    }
   ],
   "source": [
    "importlib.reload(ma)"
   ]
  },
  {
   "cell_type": "markdown",
   "metadata": {},
   "source": [
    "# Alexandria metadata annotation for scanpy or Seurat files\n",
    "\n",
    "For this notebook, you are expected to have the following inputs:\n",
    "\n",
    "\n",
    "\n",
    "* ONE cell level metadata text or csv file:\n",
    "    * cells as rows, metadata as columns\n",
    "    * this can come from seurat_obs@meta.data containing cell-level metadata, or a scanpy_obs.obs\n",
    "    * all cell names must be unique and only include alphanumeric characters and underscores\n",
    "    * the cell names must exactly match the cells names in your expression files\n",
    "    * all cells must be in one metadata file\n",
    "\n",
    "\n",
    "---AND---\n",
    "* (optional) a per sample csv, txt, excel, or tsv file with the following attributes:\n",
    "    * one row per sample\n",
    "    * the values in at least one column are sample names, and these sample names exactly match the values in the sample column in the scanpy/seurat metadata\n",
    "    \n",
    "* (optional) a per donor csv, txt, excel, or tsv file with the following attributes:\n",
    "    * This is useful if you have multiple samples per donor and some metadata that is the same each sample from the same donor\n",
    "    * there should be a column in this file with values as donor identifiers that maps to a column in the sample csv or the scanpy/seurat object\n",
    "    \n",
    "    \n",
    "    \n",
    "    \n",
    "    \n",
    "## Troubleshooting:\n",
    "\n",
    "If you are not seeing graphical output try running ``jupyter labextension install @jupyter-widgets/jupyterlab-manager``"
   ]
  },
  {
   "cell_type": "markdown",
   "metadata": {},
   "source": [
    "## USER INPUT: Paths to files"
   ]
  },
  {
   "cell_type": "code",
   "execution_count": 65,
   "metadata": {},
   "outputs": [],
   "source": [
    "\n",
    "# complete path to cell level metadata file, \n",
    "# these should be: cells as rows and metadata/clusters as columns\n",
    "# this is required!\n",
    "#cell_metadata_path = \"/Users/nyquist/Dropbox (MIT)/Breast Milk Study/zz_Analysis/Sarah/all_cells_clustering/october_analysis/immune_cells_for_britt/immune_cells_metadata.csv\"\n",
    "cell_metadata_path = \"/Users/nyquist/Dropbox (MIT)/CD8_depletion/all_cells_metadata.csv\"\n",
    "#sample_metadata_path = \"/Users/nyquist/Dropbox (MIT)/shalek_data/Projects/Alexandria/test_metadata_files/sample_metadata.txt\"\n",
    "\n",
    "#donor_metadata_path = \"/Users/nyquist/Dropbox (MIT)/shalek_data/Projects/Alexandria/test_metadata_files/donor_metadata.txt\"\n",
    "\n",
    "\n",
    "# desired output directory full path (leave as \"\" if you want to output to the directory containing this notebook)\n",
    "output_dir = \"/Users/nyquist/Dropbox (MIT)/CD8_depletion/\"\n",
    "\n",
    "output_file_names = {}"
   ]
  },
  {
   "cell_type": "code",
   "execution_count": 3,
   "metadata": {},
   "outputs": [
    {
     "name": "stderr",
     "output_type": "stream",
     "text": [
      "/Users/nyquist/anaconda3/lib/python3.6/site-packages/IPython/core/interactiveshell.py:2785: DtypeWarning: Columns (2,3,4,5,32) have mixed types. Specify dtype option on import or set low_memory=False.\n",
      "  interactivity=interactivity, compiler=compiler, result=result)\n"
     ]
    },
    {
     "ename": "NameError",
     "evalue": "name 'sample_metadata_path' is not defined",
     "output_type": "error",
     "traceback": [
      "\u001b[0;31m---------------------------------------------------------------------------\u001b[0m",
      "\u001b[0;31mNameError\u001b[0m                                 Traceback (most recent call last)",
      "\u001b[0;32m<ipython-input-3-688dfc6b9264>\u001b[0m in \u001b[0;36m<module>\u001b[0;34m()\u001b[0m\n\u001b[1;32m      9\u001b[0m \u001b[0mmapping_options\u001b[0m\u001b[0;34m[\u001b[0m\u001b[0;34m\"cell level dataframe\"\u001b[0m\u001b[0;34m]\u001b[0m \u001b[0;34m=\u001b[0m \u001b[0mcell_df\u001b[0m\u001b[0;34m\u001b[0m\u001b[0;34m\u001b[0m\u001b[0m\n\u001b[1;32m     10\u001b[0m \u001b[0;34m\u001b[0m\u001b[0m\n\u001b[0;32m---> 11\u001b[0;31m \u001b[0;32mif\u001b[0m \u001b[0mlen\u001b[0m\u001b[0;34m(\u001b[0m\u001b[0msample_metadata_path\u001b[0m\u001b[0;34m)\u001b[0m \u001b[0;34m>\u001b[0m \u001b[0;36m0\u001b[0m\u001b[0;34m:\u001b[0m\u001b[0;34m\u001b[0m\u001b[0;34m\u001b[0m\u001b[0m\n\u001b[0m\u001b[1;32m     12\u001b[0m     \u001b[0mmapping_options\u001b[0m\u001b[0;34m[\u001b[0m\u001b[0;34m\"sample_metadata_path\"\u001b[0m\u001b[0;34m]\u001b[0m \u001b[0;34m=\u001b[0m \u001b[0msample_metadata_path\u001b[0m\u001b[0;34m\u001b[0m\u001b[0;34m\u001b[0m\u001b[0m\n\u001b[1;32m     13\u001b[0m \u001b[0;34m\u001b[0m\u001b[0m\n",
      "\u001b[0;31mNameError\u001b[0m: name 'sample_metadata_path' is not defined"
     ]
    }
   ],
   "source": [
    "# no editing required for this cell, just run it\n",
    "mapping_options = {}\n",
    "if \".txt\" in cell_metadata_path or \".tsv\" in cell_metadata_path:\n",
    "    cell_df = pd.read_csv(cell_metadata_path, index_col=0,sep=\"\\t\")\n",
    "elif \".csv\" in cell_metadata_path:\n",
    "    cell_df = pd.read_csv(cell_metadata_path, index_col=0)\n",
    "else:\n",
    "    print(\"cell_metadata_path must be a .tsv, .txt, or .csv file\")\n",
    "mapping_options[\"cell level dataframe\"] = cell_df\n",
    "\n",
    "if len(sample_metadata_path) > 0:\n",
    "    mapping_options[\"sample_metadata_path\"] = sample_metadata_path\n",
    "    \n",
    "if len(donor_metadata_path) > 0:\n",
    "    mapping_options[\"donor_metadata_path\"] = donor_metadata_path\n",
    "\n"
   ]
  },
  {
   "cell_type": "markdown",
   "metadata": {},
   "source": [
    "# Set up metadata\n",
    "\n",
    "Now we will convert metadata in your object to the correct metadata format and naming scheme for Alexandria\n",
    "\n",
    "\n",
    "This includes 3 parts:\n",
    "\n",
    "* Global Metadata\n",
    "\n",
    "* Alexandria structured metadata to be mapped from your metadata tables\n",
    "\n",
    "* Units for numeric metadata\n",
    "\n",
    "* Unstructured metadata mapped from your metadata tables\n"
   ]
  },
  {
   "cell_type": "code",
   "execution_count": 4,
   "metadata": {},
   "outputs": [],
   "source": [
    "# TODO: adjust this if you are not looking for cell level and are doing sample level instead\n",
    "cell_level_metadata = pd.DataFrame(index=mapping_options[\"cell level dataframe\"].index)"
   ]
  },
  {
   "cell_type": "markdown",
   "metadata": {},
   "source": [
    "### Step 3a: Starting with global metadata\n",
    "\n",
    "These metadata attributes must be the same for all of your columns"
   ]
  },
  {
   "cell_type": "code",
   "execution_count": 5,
   "metadata": {},
   "outputs": [],
   "source": [
    "global_attributes = {}"
   ]
  },
  {
   "cell_type": "markdown",
   "metadata": {},
   "source": [
    "### Global Metadata: Select species for this data\n",
    "\n",
    "Type a search term in the drop down below (ex. 'homo' for human or 'mus' for mouse)\n",
    "\n",
    "then run the next code section and select the value from that drop-down\n",
    "\n",
    "If you do not see the value you were looking for and would like to search again, type in a new value in the text box and *rerun the code block that generates the species*"
   ]
  },
  {
   "cell_type": "code",
   "execution_count": 6,
   "metadata": {
    "scrolled": true
   },
   "outputs": [
    {
     "data": {
      "application/vnd.jupyter.widget-view+json": {
       "model_id": "94be813eea694253b8e0428ad712472a",
       "version_major": 2,
       "version_minor": 0
      },
      "text/plain": [
       "Text(value='Species', description='Species:', placeholder='Species search')"
      ]
     },
     "metadata": {},
     "output_type": "display_data"
    },
    {
     "name": "stdout",
     "output_type": "stream",
     "text": [
      "enter a search term for the species in the box above then run the next notebook cell to see a dropdown of search results\n"
     ]
    }
   ],
   "source": [
    "s =widgets.Text(\n",
    "    value='Species',\n",
    "    placeholder='Species search',\n",
    "    description='Species:',\n",
    "    disabled=False\n",
    ")\n",
    "display(s)\n",
    "print(\"enter a search term for the species in the box above then run the next notebook cell to see a dropdown of search results\")"
   ]
  },
  {
   "cell_type": "code",
   "execution_count": 7,
   "metadata": {},
   "outputs": [
    {
     "data": {
      "application/vnd.jupyter.widget-view+json": {
       "model_id": "5a72f8fd62614645b1265afbc0457d53",
       "version_major": 2,
       "version_minor": 0
      },
      "text/plain": [
       "Dropdown(description='species', options=(('Macaca mulatta: ', 'NCBITaxon_9544'), ('Macaca mulatta vestita: ', …"
      ]
     },
     "metadata": {},
     "output_type": "display_data"
    }
   ],
   "source": [
    "list_for_dropdown, name_id_dict=uh.query_search_term('ncbitaxon',s.value)\n",
    "m=uh.choose_metadata_name_dropdown(list_for_dropdown,\"species\")\n",
    "display(m)"
   ]
  },
  {
   "cell_type": "markdown",
   "metadata": {},
   "source": [
    "### Once you are happy with your selection above, run the code block below!!"
   ]
  },
  {
   "cell_type": "code",
   "execution_count": 8,
   "metadata": {},
   "outputs": [],
   "source": [
    "global_attributes['species']=m.value\n",
    "global_attributes['species__ontology_label'] = name_id_dict[m.value]"
   ]
  },
  {
   "cell_type": "markdown",
   "metadata": {},
   "source": [
    "### Global Metadata: Select library preparation protocol for this data\n",
    "\n",
    "Just select from the dropdown below then run the code block under it"
   ]
  },
  {
   "cell_type": "code",
   "execution_count": 9,
   "metadata": {},
   "outputs": [
    {
     "name": "stdout",
     "output_type": "stream",
     "text": [
      "this takes a second if your internet connection isn't super fast\n",
      "11\n"
     ]
    },
    {
     "data": {
      "application/vnd.jupyter.widget-view+json": {
       "model_id": "af527f0dc8804134bd149f97341ed5dd",
       "version_major": 2,
       "version_minor": 0
      },
      "text/plain": [
       "Dropdown(description='experimental method', options=(('RARseq: Restriction site associated RNA sequencing', 'E…"
      ]
     },
     "metadata": {},
     "output_type": "display_data"
    },
    {
     "name": "stdout",
     "output_type": "stream",
     "text": [
      "select from dropdown above then run the next notebook cell. If you want to change the selection, you need to re-run the cell below\n"
     ]
    }
   ],
   "source": [
    "print(\"this takes a second if your internet connection isn't super fast\")\n",
    "list_for_dropdown, name_id_dict = uh.query_all_values_under_root(\"efo\",\"EFO_0001457\")\n",
    "exp_method_dpdn=uh.choose_metadata_name_dropdown(list_for_dropdown,\"experimental method\")\n",
    "display(exp_method_dpdn)\n",
    "print(\"select from dropdown above then run the next notebook cell. If you want to change the selection, you need to re-run the cell below\")"
   ]
  },
  {
   "cell_type": "code",
   "execution_count": 10,
   "metadata": {},
   "outputs": [
    {
     "name": "stdout",
     "output_type": "stream",
     "text": [
      "Seq-Well saved as library preparation protocol\n"
     ]
    }
   ],
   "source": [
    "global_attributes['library_preparation_protocol']=exp_method_dpdn.value\n",
    "global_attributes['library_preparation_protocol__ontology_label'] = name_id_dict[exp_method_dpdn.value]\n",
    "\n",
    "print(name_id_dict[exp_method_dpdn.value] +\" saved as library preparation protocol\")"
   ]
  },
  {
   "cell_type": "code",
   "execution_count": 11,
   "metadata": {},
   "outputs": [],
   "source": [
    "# explicitly saving the cellID column \n",
    "for k,v in global_attributes.items():\n",
    "    cell_level_metadata[k] = v\n",
    "\n",
    "cell_level_metadata[\"CellID\"] = cell_level_metadata.index"
   ]
  },
  {
   "cell_type": "code",
   "execution_count": 12,
   "metadata": {},
   "outputs": [],
   "source": [
    "# reading in all the metadata in the convention\n",
    "#TODO: make this work with JSON, for now it is just a table copy and pasted from the google sheets\n",
    "metadata_info = pd.read_csv(\"metadata_name_type_info.tsv\",sep=\"\\t\",index_col=0)\n",
    "metadata_info[\"is unit\"] = [\"unit\" in i for i in metadata_info.index] # removing units from this so people are less confused\n",
    "# removing the \"label\" types because we will add those automatically\n",
    "available_metadata = metadata_info[~metadata_info[\"class\"].isin([\"unit_label\", \"ontology_label\"]) & ~metadata_info[\"is unit\"]].index\n",
    "\n",
    "# we already added species and library prep so drop those as well\n",
    "available_metadata=available_metadata.drop(\"species\")\n",
    "available_metadata=available_metadata.drop('library_preparation_protocol')"
   ]
  },
  {
   "cell_type": "markdown",
   "metadata": {},
   "source": [
    "## Step 3b: Renaming metadata from your dataframe and files\n",
    "\n",
    "Now we will facilitate mapping any of your metadata to the Alexandria metadata convention.\n",
    "\n",
    "If there is required (or optional) metadata that you would like to add that is not already in one of your files AND is an ontology or controlled list metadata type AND follows the same pattern as some other metadata in your files (ex. sample level or donor level), you can do so by mapping the metadata from some unrelated metadata.\n",
    "\n",
    "For example, if you recorded the organ of each sample but did not save it as an explicit column, you can choose the sample column and map from that\n",
    "\n",
    "\n",
    "You should run this group of cells once per metadata source (as in sample level file, your cell level dataframe, etc)"
   ]
  },
  {
   "cell_type": "code",
   "execution_count": 13,
   "metadata": {},
   "outputs": [
    {
     "data": {
      "text/plain": [
       "Index(['required', 'default', 'type', 'array', 'class', 'ontology',\n",
       "       'ontology_root', 'controlled_list_entries', 'dependency',\n",
       "       'dependency_condition', 'dependent', 'attribute_description',\n",
       "       'is unit'],\n",
       "      dtype='object')"
      ]
     },
     "execution_count": 13,
     "metadata": {},
     "output_type": "execute_result"
    }
   ],
   "source": [
    "metadata_info.columns"
   ]
  },
  {
   "cell_type": "markdown",
   "metadata": {},
   "source": [
    "### The following metadata are required, make sure you add them:"
   ]
  },
  {
   "cell_type": "code",
   "execution_count": 14,
   "metadata": {},
   "outputs": [
    {
     "name": "stdout",
     "output_type": "stream",
     "text": [
      "species: The scientific binomial name for the species of the organism.\n",
      "species__ontology_label: species__ontology_label\n",
      "sex: Biological sex\n",
      "is_living: Whether organism was alive at time of biomaterial collection\n",
      "biosample_id: Biosample ID\n",
      "organ: The organ that the biomaterial came from\n",
      "organ__ontology_label: organ__ontology_label\n",
      "sample_type: one of: cell line, organoid, direct from donor (fresh), direct from donor (frozen), cultured primary cells\n",
      "disease: The disease state(s) of the individual donating the sample at the time of donation\n",
      "disease__ontology_label: disease__ontology_label\n",
      "library_preparation_protocol: The single cell RNA-sequencing protocol used for Library preparation\n",
      "library_preparation_protocol__ontology_label: library_preparation_protocol__ontology_label\n",
      "CellID: Cell ID\n",
      "donor_id: Donor ID\n"
     ]
    }
   ],
   "source": [
    "for k in metadata_info.loc[metadata_info[\"required\"]==\"Yes\"].index:\n",
    "    print(k+\": \"+str(metadata_info.loc[k,\"attribute_description\"]))"
   ]
  },
  {
   "cell_type": "code",
   "execution_count": 47,
   "metadata": {},
   "outputs": [
    {
     "data": {
      "text/plain": [
       "<module 'MetadataAdder' from '/Users/nyquist/Dropbox (MIT)/shalek_data/Projects/Alexandria/alexandria/uploadHelpers/MetadataAdder.py'>"
      ]
     },
     "execution_count": 47,
     "metadata": {},
     "output_type": "execute_result"
    }
   ],
   "source": [
    "import importlib\n",
    "importlib.reload(ma)"
   ]
  },
  {
   "cell_type": "code",
   "execution_count": 45,
   "metadata": {},
   "outputs": [
    {
     "data": {
      "text/plain": [
       "<module 'widget_helpers' from '/Users/nyquist/Dropbox (MIT)/shalek_data/Projects/Alexandria/alexandria/uploadHelpers/widget_helpers.py'>"
      ]
     },
     "execution_count": 45,
     "metadata": {},
     "output_type": "execute_result"
    }
   ],
   "source": [
    "importlib.reload(uh)"
   ]
  },
  {
   "cell_type": "code",
   "execution_count": 35,
   "metadata": {},
   "outputs": [
    {
     "data": {
      "text/plain": [
       "6.0"
      ]
     },
     "execution_count": 35,
     "metadata": {},
     "output_type": "execute_result"
    }
   ],
   "source": [
    "float(\"6.0\")"
   ]
  },
  {
   "cell_type": "code",
   "execution_count": 48,
   "metadata": {},
   "outputs": [
    {
     "data": {
      "application/vnd.jupyter.widget-view+json": {
       "model_id": "b703d71e7b3e4a2cafb4a0b0821c3abf",
       "version_major": 2,
       "version_minor": 0
      },
      "text/plain": [
       "Dropdown(description='table with metadata to map', options=('cell level dataframe',), style=DescriptionStyle(d…"
      ]
     },
     "metadata": {},
     "output_type": "display_data"
    },
    {
     "data": {
      "application/vnd.jupyter.widget-view+json": {
       "model_id": "03bc5dc6fec24ab7844d3079b6511b60",
       "version_major": 2,
       "version_minor": 0
      },
      "text/plain": [
       "Button(description='select table', layout=Layout(height='40px', width='auto'), style=ButtonStyle())"
      ]
     },
     "metadata": {},
     "output_type": "display_data"
    },
    {
     "data": {
      "application/vnd.jupyter.widget-view+json": {
       "model_id": "870b59970a6542f19c94b9938c83aa92",
       "version_major": 2,
       "version_minor": 0
      },
      "text/plain": [
       "Output()"
      ]
     },
     "metadata": {},
     "output_type": "display_data"
    },
    {
     "data": {
      "application/vnd.jupyter.widget-view+json": {
       "model_id": "",
       "version_major": 2,
       "version_minor": 0
      },
      "text/plain": [
       "Dropdown(description='my metadata column', options=('Animal', 'Array', 'CellID', 'CellType', 'Granuloma', 'UMA…"
      ]
     },
     "metadata": {},
     "output_type": "display_data"
    },
    {
     "data": {
      "application/vnd.jupyter.widget-view+json": {
       "model_id": "",
       "version_major": 2,
       "version_minor": 0
      },
      "text/plain": [
       "Dropdown(description='Alexandria metadata column', options=('ethnicity', 'race', 'mouse_strain', 'vaccination'…"
      ]
     },
     "metadata": {},
     "output_type": "display_data"
    },
    {
     "data": {
      "application/vnd.jupyter.widget-view+json": {
       "model_id": "",
       "version_major": 2,
       "version_minor": 0
      },
      "text/plain": [
       "Button(description='map ', layout=Layout(height='40px', width='auto'), style=ButtonStyle())"
      ]
     },
     "metadata": {},
     "output_type": "display_data"
    },
    {
     "data": {
      "application/vnd.jupyter.widget-view+json": {
       "model_id": "",
       "version_major": 2,
       "version_minor": 0
      },
      "text/plain": [
       "Button(description='save my maps, I am done with this matrix', layout=Layout(height='40px', width='auto'), sty…"
      ]
     },
     "metadata": {},
     "output_type": "display_data"
    },
    {
     "data": {
      "application/vnd.jupyter.widget-view+json": {
       "model_id": "",
       "version_major": 2,
       "version_minor": 0
      },
      "text/plain": [
       "FloatText(value=0.0, description='Old', style=DescriptionStyle(description_width='initial'))"
      ]
     },
     "metadata": {},
     "output_type": "display_data"
    },
    {
     "data": {
      "application/vnd.jupyter.widget-view+json": {
       "model_id": "",
       "version_major": 2,
       "version_minor": 0
      },
      "text/plain": [
       "FloatText(value=0.0, description='No gran', style=DescriptionStyle(description_width='initial'))"
      ]
     },
     "metadata": {},
     "output_type": "display_data"
    },
    {
     "data": {
      "application/vnd.jupyter.widget-view+json": {
       "model_id": "",
       "version_major": 2,
       "version_minor": 0
      },
      "text/plain": [
       "FloatText(value=0.0, description='New', style=DescriptionStyle(description_width='initial'))"
      ]
     },
     "metadata": {},
     "output_type": "display_data"
    },
    {
     "data": {
      "application/vnd.jupyter.widget-view+json": {
       "model_id": "",
       "version_major": 2,
       "version_minor": 0
      },
      "text/plain": [
       "Button(description='save numbers', style=ButtonStyle())"
      ]
     },
     "metadata": {},
     "output_type": "display_data"
    },
    {
     "data": {
      "application/vnd.jupyter.widget-view+json": {
       "model_id": "",
       "version_major": 2,
       "version_minor": 0
      },
      "text/plain": [
       "Dropdown(description='my metadata column', options=('Animal', 'Array', 'CellID', 'CellType', 'Granuloma', 'UMA…"
      ]
     },
     "metadata": {},
     "output_type": "display_data"
    },
    {
     "data": {
      "application/vnd.jupyter.widget-view+json": {
       "model_id": "",
       "version_major": 2,
       "version_minor": 0
      },
      "text/plain": [
       "Dropdown(description='Alexandria metadata column', options=('ethnicity', 'race', 'mouse_strain', 'vaccination'…"
      ]
     },
     "metadata": {},
     "output_type": "display_data"
    },
    {
     "data": {
      "application/vnd.jupyter.widget-view+json": {
       "model_id": "",
       "version_major": 2,
       "version_minor": 0
      },
      "text/plain": [
       "Button(description='map ', layout=Layout(height='40px', width='auto'), style=ButtonStyle())"
      ]
     },
     "metadata": {},
     "output_type": "display_data"
    },
    {
     "data": {
      "application/vnd.jupyter.widget-view+json": {
       "model_id": "",
       "version_major": 2,
       "version_minor": 0
      },
      "text/plain": [
       "Button(description='save my maps, I am done with this matrix', layout=Layout(height='40px', width='auto'), sty…"
      ]
     },
     "metadata": {},
     "output_type": "display_data"
    },
    {
     "data": {
      "application/vnd.jupyter.widget-view+json": {
       "model_id": "",
       "version_major": 2,
       "version_minor": 0
      },
      "text/plain": [
       "Dropdown(description='Old', options=('yes', 'no', 'unknown', ''), style=DescriptionStyle(description_width='in…"
      ]
     },
     "metadata": {},
     "output_type": "display_data"
    },
    {
     "data": {
      "application/vnd.jupyter.widget-view+json": {
       "model_id": "",
       "version_major": 2,
       "version_minor": 0
      },
      "text/plain": [
       "Dropdown(description='No gran', options=('yes', 'no', 'unknown', ''), style=DescriptionStyle(description_width…"
      ]
     },
     "metadata": {},
     "output_type": "display_data"
    },
    {
     "data": {
      "application/vnd.jupyter.widget-view+json": {
       "model_id": "",
       "version_major": 2,
       "version_minor": 0
      },
      "text/plain": [
       "Dropdown(description='New', options=('yes', 'no', 'unknown', ''), style=DescriptionStyle(description_width='in…"
      ]
     },
     "metadata": {},
     "output_type": "display_data"
    },
    {
     "data": {
      "application/vnd.jupyter.widget-view+json": {
       "model_id": "",
       "version_major": 2,
       "version_minor": 0
      },
      "text/plain": [
       "Button(description='map', style=ButtonStyle())"
      ]
     },
     "metadata": {},
     "output_type": "display_data"
    },
    {
     "data": {
      "application/vnd.jupyter.widget-view+json": {
       "model_id": "",
       "version_major": 2,
       "version_minor": 0
      },
      "text/plain": [
       "Dropdown(description='my metadata column', options=('Animal', 'Array', 'CellID', 'CellType', 'Granuloma', 'UMA…"
      ]
     },
     "metadata": {},
     "output_type": "display_data"
    },
    {
     "data": {
      "application/vnd.jupyter.widget-view+json": {
       "model_id": "",
       "version_major": 2,
       "version_minor": 0
      },
      "text/plain": [
       "Dropdown(description='Alexandria metadata column', options=('ethnicity', 'race', 'mouse_strain', 'vaccination'…"
      ]
     },
     "metadata": {},
     "output_type": "display_data"
    },
    {
     "data": {
      "application/vnd.jupyter.widget-view+json": {
       "model_id": "",
       "version_major": 2,
       "version_minor": 0
      },
      "text/plain": [
       "Button(description='map ', layout=Layout(height='40px', width='auto'), style=ButtonStyle())"
      ]
     },
     "metadata": {},
     "output_type": "display_data"
    },
    {
     "data": {
      "application/vnd.jupyter.widget-view+json": {
       "model_id": "",
       "version_major": 2,
       "version_minor": 0
      },
      "text/plain": [
       "Button(description='save my maps, I am done with this matrix', layout=Layout(height='40px', width='auto'), sty…"
      ]
     },
     "metadata": {},
     "output_type": "display_data"
    },
    {
     "data": {
      "application/vnd.jupyter.widget-view+json": {
       "model_id": "",
       "version_major": 2,
       "version_minor": 0
      },
      "text/plain": [
       "Dropdown(description='0.0', options=('cell line', 'organoid', 'direct from donor - fresh', 'direct from donor …"
      ]
     },
     "metadata": {},
     "output_type": "display_data"
    },
    {
     "data": {
      "application/vnd.jupyter.widget-view+json": {
       "model_id": "",
       "version_major": 2,
       "version_minor": 0
      },
      "text/plain": [
       "Dropdown(description='nan', options=('cell line', 'organoid', 'direct from donor - fresh', 'direct from donor …"
      ]
     },
     "metadata": {},
     "output_type": "display_data"
    },
    {
     "data": {
      "application/vnd.jupyter.widget-view+json": {
       "model_id": "",
       "version_major": 2,
       "version_minor": 0
      },
      "text/plain": [
       "Dropdown(description='1.0', options=('cell line', 'organoid', 'direct from donor - fresh', 'direct from donor …"
      ]
     },
     "metadata": {},
     "output_type": "display_data"
    },
    {
     "data": {
      "application/vnd.jupyter.widget-view+json": {
       "model_id": "",
       "version_major": 2,
       "version_minor": 0
      },
      "text/plain": [
       "Dropdown(description='0', options=('cell line', 'organoid', 'direct from donor - fresh', 'direct from donor - …"
      ]
     },
     "metadata": {},
     "output_type": "display_data"
    },
    {
     "data": {
      "application/vnd.jupyter.widget-view+json": {
       "model_id": "",
       "version_major": 2,
       "version_minor": 0
      },
      "text/plain": [
       "Dropdown(description='0?', options=('cell line', 'organoid', 'direct from donor - fresh', 'direct from donor -…"
      ]
     },
     "metadata": {},
     "output_type": "display_data"
    },
    {
     "data": {
      "application/vnd.jupyter.widget-view+json": {
       "model_id": "",
       "version_major": 2,
       "version_minor": 0
      },
      "text/plain": [
       "Dropdown(description='1', options=('cell line', 'organoid', 'direct from donor - fresh', 'direct from donor - …"
      ]
     },
     "metadata": {},
     "output_type": "display_data"
    },
    {
     "data": {
      "application/vnd.jupyter.widget-view+json": {
       "model_id": "",
       "version_major": 2,
       "version_minor": 0
      },
      "text/plain": [
       "Button(description='map', style=ButtonStyle())"
      ]
     },
     "metadata": {},
     "output_type": "display_data"
    },
    {
     "data": {
      "application/vnd.jupyter.widget-view+json": {
       "model_id": "",
       "version_major": 2,
       "version_minor": 0
      },
      "text/plain": [
       "Dropdown(description='my metadata column', options=('Animal', 'Array', 'CellID', 'CellType', 'Granuloma', 'UMA…"
      ]
     },
     "metadata": {},
     "output_type": "display_data"
    },
    {
     "data": {
      "application/vnd.jupyter.widget-view+json": {
       "model_id": "",
       "version_major": 2,
       "version_minor": 0
      },
      "text/plain": [
       "Dropdown(description='Alexandria metadata column', options=('ethnicity', 'race', 'mouse_strain', 'vaccination'…"
      ]
     },
     "metadata": {},
     "output_type": "display_data"
    },
    {
     "data": {
      "application/vnd.jupyter.widget-view+json": {
       "model_id": "",
       "version_major": 2,
       "version_minor": 0
      },
      "text/plain": [
       "Button(description='map ', layout=Layout(height='40px', width='auto'), style=ButtonStyle())"
      ]
     },
     "metadata": {},
     "output_type": "display_data"
    },
    {
     "data": {
      "application/vnd.jupyter.widget-view+json": {
       "model_id": "",
       "version_major": 2,
       "version_minor": 0
      },
      "text/plain": [
       "Button(description='save my maps, I am done with this matrix', layout=Layout(height='40px', width='auto'), sty…"
      ]
     },
     "metadata": {},
     "output_type": "display_data"
    },
    {
     "data": {
      "application/vnd.jupyter.widget-view+json": {
       "model_id": "",
       "version_major": 2,
       "version_minor": 0
      },
      "text/plain": [
       "HBox(children=(Text(value='Old', description='Old', placeholder='search term', style=DescriptionStyle(descript…"
      ]
     },
     "metadata": {},
     "output_type": "display_data"
    },
    {
     "data": {
      "application/vnd.jupyter.widget-view+json": {
       "model_id": "",
       "version_major": 2,
       "version_minor": 0
      },
      "text/plain": [
       "HBox(children=(Text(value='No gran', description='No gran', placeholder='search term', style=DescriptionStyle(…"
      ]
     },
     "metadata": {},
     "output_type": "display_data"
    },
    {
     "data": {
      "application/vnd.jupyter.widget-view+json": {
       "model_id": "",
       "version_major": 2,
       "version_minor": 0
      },
      "text/plain": [
       "HBox(children=(Text(value='New', description='New', placeholder='search term', style=DescriptionStyle(descript…"
      ]
     },
     "metadata": {},
     "output_type": "display_data"
    },
    {
     "data": {
      "application/vnd.jupyter.widget-view+json": {
       "model_id": "",
       "version_major": 2,
       "version_minor": 0
      },
      "text/plain": [
       "Button(description='save', style=ButtonStyle())"
      ]
     },
     "metadata": {},
     "output_type": "display_data"
    },
    {
     "data": {
      "application/vnd.jupyter.widget-view+json": {
       "model_id": "",
       "version_major": 2,
       "version_minor": 0
      },
      "text/plain": [
       "Dropdown(description='my metadata column', options=('Animal', 'Array', 'CellID', 'CellType', 'Granuloma', 'UMA…"
      ]
     },
     "metadata": {},
     "output_type": "display_data"
    },
    {
     "data": {
      "application/vnd.jupyter.widget-view+json": {
       "model_id": "",
       "version_major": 2,
       "version_minor": 0
      },
      "text/plain": [
       "Dropdown(description='Alexandria metadata column', options=('ethnicity', 'race', 'mouse_strain', 'vaccination'…"
      ]
     },
     "metadata": {},
     "output_type": "display_data"
    },
    {
     "data": {
      "application/vnd.jupyter.widget-view+json": {
       "model_id": "",
       "version_major": 2,
       "version_minor": 0
      },
      "text/plain": [
       "Button(description='map ', layout=Layout(height='40px', width='auto'), style=ButtonStyle())"
      ]
     },
     "metadata": {},
     "output_type": "display_data"
    },
    {
     "data": {
      "application/vnd.jupyter.widget-view+json": {
       "model_id": "",
       "version_major": 2,
       "version_minor": 0
      },
      "text/plain": [
       "Button(description='save my maps, I am done with this matrix', layout=Layout(height='40px', width='auto'), sty…"
      ]
     },
     "metadata": {},
     "output_type": "display_data"
    },
    {
     "data": {
      "application/vnd.jupyter.widget-view+json": {
       "model_id": "",
       "version_major": 2,
       "version_minor": 0
      },
      "text/plain": [
       "Dropdown(description='Old', options=('male', 'female', 'mixed', 'unknown', ''), style=DescriptionStyle(descrip…"
      ]
     },
     "metadata": {},
     "output_type": "display_data"
    },
    {
     "data": {
      "application/vnd.jupyter.widget-view+json": {
       "model_id": "",
       "version_major": 2,
       "version_minor": 0
      },
      "text/plain": [
       "Dropdown(description='No gran', options=('male', 'female', 'mixed', 'unknown', ''), style=DescriptionStyle(des…"
      ]
     },
     "metadata": {},
     "output_type": "display_data"
    },
    {
     "data": {
      "application/vnd.jupyter.widget-view+json": {
       "model_id": "",
       "version_major": 2,
       "version_minor": 0
      },
      "text/plain": [
       "Dropdown(description='New', options=('male', 'female', 'mixed', 'unknown', ''), style=DescriptionStyle(descrip…"
      ]
     },
     "metadata": {},
     "output_type": "display_data"
    },
    {
     "data": {
      "application/vnd.jupyter.widget-view+json": {
       "model_id": "",
       "version_major": 2,
       "version_minor": 0
      },
      "text/plain": [
       "Button(description='map', style=ButtonStyle())"
      ]
     },
     "metadata": {},
     "output_type": "display_data"
    },
    {
     "data": {
      "application/vnd.jupyter.widget-view+json": {
       "model_id": "dbffcfdb8c96404cb63e9d275b2c8688",
       "version_major": 2,
       "version_minor": 0
      },
      "text/plain": [
       "Dropdown(description='my metadata column', options=('Animal', 'Array', 'CellID', 'CellType', 'Granuloma', 'UMA…"
      ]
     },
     "metadata": {},
     "output_type": "display_data"
    },
    {
     "data": {
      "application/vnd.jupyter.widget-view+json": {
       "model_id": "5b50877073134089a6862a6b9f0af66d",
       "version_major": 2,
       "version_minor": 0
      },
      "text/plain": [
       "Dropdown(description='Alexandria metadata column', options=('ethnicity', 'race', 'mouse_strain', 'vaccination'…"
      ]
     },
     "metadata": {},
     "output_type": "display_data"
    },
    {
     "data": {
      "application/vnd.jupyter.widget-view+json": {
       "model_id": "61243aa55a004e6c8fe8baa5d07ee95b",
       "version_major": 2,
       "version_minor": 0
      },
      "text/plain": [
       "Button(description='map ', layout=Layout(height='40px', width='auto'), style=ButtonStyle())"
      ]
     },
     "metadata": {},
     "output_type": "display_data"
    },
    {
     "data": {
      "application/vnd.jupyter.widget-view+json": {
       "model_id": "812208b00a7441838a20b2d188b75c6d",
       "version_major": 2,
       "version_minor": 0
      },
      "text/plain": [
       "Button(description='save my maps, I am done with this matrix', layout=Layout(height='40px', width='auto'), sty…"
      ]
     },
     "metadata": {},
     "output_type": "display_data"
    }
   ],
   "source": [
    "# this is the workhorse cell of the metadata adder!\n",
    "# TODO: give indication of which metadata has been added\n",
    "# TODO: array type metadata is not handled at all yet\n",
    "# Searching celltypes is crazy slow, maybe stop loading all of the children as search results?\n",
    "meta_addr = ma.MetadataAdder(mapping_options, available_metadata, metadata_info, cell_level_metadata)"
   ]
  },
  {
   "cell_type": "code",
   "execution_count": 49,
   "metadata": {},
   "outputs": [],
   "source": [
    "cell_level_metadata = meta_addr.cell_level_metadata\n"
   ]
  },
  {
   "cell_type": "code",
   "execution_count": 50,
   "metadata": {},
   "outputs": [
    {
     "data": {
      "text/html": [
       "<div>\n",
       "<style scoped>\n",
       "    .dataframe tbody tr th:only-of-type {\n",
       "        vertical-align: middle;\n",
       "    }\n",
       "\n",
       "    .dataframe tbody tr th {\n",
       "        vertical-align: top;\n",
       "    }\n",
       "\n",
       "    .dataframe thead th {\n",
       "        text-align: right;\n",
       "    }\n",
       "</style>\n",
       "<table border=\"1\" class=\"dataframe\">\n",
       "  <thead>\n",
       "    <tr style=\"text-align: right;\">\n",
       "      <th></th>\n",
       "      <th>species</th>\n",
       "      <th>species__ontology_label</th>\n",
       "      <th>library_preparation_protocol</th>\n",
       "      <th>library_preparation_protocol__ontology_label</th>\n",
       "      <th>CellID</th>\n",
       "      <th>donor_id</th>\n",
       "      <th>biosample_id</th>\n",
       "      <th>cell_type</th>\n",
       "      <th>cell_type__ontology_label</th>\n",
       "      <th>disease</th>\n",
       "      <th>disease__ontology_label</th>\n",
       "      <th>organ</th>\n",
       "      <th>organ__ontology_label</th>\n",
       "      <th>disease__time_since_onset</th>\n",
       "      <th>is_living</th>\n",
       "      <th>sample_type</th>\n",
       "      <th>sequencing_instrument_manufacturer_model</th>\n",
       "      <th>sequencing_instrument_manufacturer_model__ontology_label</th>\n",
       "      <th>sex</th>\n",
       "    </tr>\n",
       "  </thead>\n",
       "  <tbody>\n",
       "    <tr>\n",
       "      <th>Array1_28818_AAAAAAGCGGTC</th>\n",
       "      <td>NCBITaxon_9544</td>\n",
       "      <td>Macaca mulatta</td>\n",
       "      <td>EFO_0008919</td>\n",
       "      <td>Seq-Well</td>\n",
       "      <td>Array1_28818_AAAAAAGCGGTC</td>\n",
       "      <td>28818</td>\n",
       "      <td>Array1_28818</td>\n",
       "      <td>CL_0000084</td>\n",
       "      <td>T cell</td>\n",
       "      <td>MONDO_0018076</td>\n",
       "      <td>tuberculosis</td>\n",
       "      <td>UBERON_0002170</td>\n",
       "      <td>upper lobe of right lung</td>\n",
       "      <td>6.0</td>\n",
       "      <td>no</td>\n",
       "      <td>direct from donor - fresh</td>\n",
       "      <td>EFO_0008637</td>\n",
       "      <td>Illumina NovaSeq 6000</td>\n",
       "      <td>unknown</td>\n",
       "    </tr>\n",
       "    <tr>\n",
       "      <th>Array1_28818_AAAAAATACGAC</th>\n",
       "      <td>NCBITaxon_9544</td>\n",
       "      <td>Macaca mulatta</td>\n",
       "      <td>EFO_0008919</td>\n",
       "      <td>Seq-Well</td>\n",
       "      <td>Array1_28818_AAAAAATACGAC</td>\n",
       "      <td>28818</td>\n",
       "      <td>Array1_28818</td>\n",
       "      <td>CL_0000097</td>\n",
       "      <td>mast cell</td>\n",
       "      <td>MONDO_0018076</td>\n",
       "      <td>tuberculosis</td>\n",
       "      <td>UBERON_0002170</td>\n",
       "      <td>upper lobe of right lung</td>\n",
       "      <td>6.0</td>\n",
       "      <td>no</td>\n",
       "      <td>direct from donor - fresh</td>\n",
       "      <td>EFO_0008637</td>\n",
       "      <td>Illumina NovaSeq 6000</td>\n",
       "      <td>unknown</td>\n",
       "    </tr>\n",
       "    <tr>\n",
       "      <th>Array1_28818_AAAAACAAGGAG</th>\n",
       "      <td>NCBITaxon_9544</td>\n",
       "      <td>Macaca mulatta</td>\n",
       "      <td>EFO_0008919</td>\n",
       "      <td>Seq-Well</td>\n",
       "      <td>Array1_28818_AAAAACAAGGAG</td>\n",
       "      <td>28818</td>\n",
       "      <td>Array1_28818</td>\n",
       "      <td>CL_0000097</td>\n",
       "      <td>mast cell</td>\n",
       "      <td>MONDO_0018076</td>\n",
       "      <td>tuberculosis</td>\n",
       "      <td>UBERON_0002170</td>\n",
       "      <td>upper lobe of right lung</td>\n",
       "      <td>6.0</td>\n",
       "      <td>no</td>\n",
       "      <td>direct from donor - fresh</td>\n",
       "      <td>EFO_0008637</td>\n",
       "      <td>Illumina NovaSeq 6000</td>\n",
       "      <td>unknown</td>\n",
       "    </tr>\n",
       "    <tr>\n",
       "      <th>Array1_28818_AAAAACCCTTCT</th>\n",
       "      <td>NCBITaxon_9544</td>\n",
       "      <td>Macaca mulatta</td>\n",
       "      <td>EFO_0008919</td>\n",
       "      <td>Seq-Well</td>\n",
       "      <td>Array1_28818_AAAAACCCTTCT</td>\n",
       "      <td>28818</td>\n",
       "      <td>Array1_28818</td>\n",
       "      <td>CL_0000235</td>\n",
       "      <td>macrophage</td>\n",
       "      <td>MONDO_0018076</td>\n",
       "      <td>tuberculosis</td>\n",
       "      <td>UBERON_0002170</td>\n",
       "      <td>upper lobe of right lung</td>\n",
       "      <td>6.0</td>\n",
       "      <td>no</td>\n",
       "      <td>direct from donor - fresh</td>\n",
       "      <td>EFO_0008637</td>\n",
       "      <td>Illumina NovaSeq 6000</td>\n",
       "      <td>unknown</td>\n",
       "    </tr>\n",
       "    <tr>\n",
       "      <th>Array1_28818_AAAAACCTGGGA</th>\n",
       "      <td>NCBITaxon_9544</td>\n",
       "      <td>Macaca mulatta</td>\n",
       "      <td>EFO_0008919</td>\n",
       "      <td>Seq-Well</td>\n",
       "      <td>Array1_28818_AAAAACCTGGGA</td>\n",
       "      <td>28818</td>\n",
       "      <td>Array1_28818</td>\n",
       "      <td>CL_0000084</td>\n",
       "      <td>T cell</td>\n",
       "      <td>MONDO_0018076</td>\n",
       "      <td>tuberculosis</td>\n",
       "      <td>UBERON_0002170</td>\n",
       "      <td>upper lobe of right lung</td>\n",
       "      <td>6.0</td>\n",
       "      <td>no</td>\n",
       "      <td>direct from donor - fresh</td>\n",
       "      <td>EFO_0008637</td>\n",
       "      <td>Illumina NovaSeq 6000</td>\n",
       "      <td>unknown</td>\n",
       "    </tr>\n",
       "    <tr>\n",
       "      <th>Array1_28818_AAAAACTGTGGG</th>\n",
       "      <td>NCBITaxon_9544</td>\n",
       "      <td>Macaca mulatta</td>\n",
       "      <td>EFO_0008919</td>\n",
       "      <td>Seq-Well</td>\n",
       "      <td>Array1_28818_AAAAACTGTGGG</td>\n",
       "      <td>28818</td>\n",
       "      <td>Array1_28818</td>\n",
       "      <td>CL_0000097</td>\n",
       "      <td>mast cell</td>\n",
       "      <td>MONDO_0018076</td>\n",
       "      <td>tuberculosis</td>\n",
       "      <td>UBERON_0002170</td>\n",
       "      <td>upper lobe of right lung</td>\n",
       "      <td>6.0</td>\n",
       "      <td>no</td>\n",
       "      <td>direct from donor - fresh</td>\n",
       "      <td>EFO_0008637</td>\n",
       "      <td>Illumina NovaSeq 6000</td>\n",
       "      <td>unknown</td>\n",
       "    </tr>\n",
       "    <tr>\n",
       "      <th>Array1_28818_AAAAAGGGATTG</th>\n",
       "      <td>NCBITaxon_9544</td>\n",
       "      <td>Macaca mulatta</td>\n",
       "      <td>EFO_0008919</td>\n",
       "      <td>Seq-Well</td>\n",
       "      <td>Array1_28818_AAAAAGGGATTG</td>\n",
       "      <td>28818</td>\n",
       "      <td>Array1_28818</td>\n",
       "      <td>CL_0000235</td>\n",
       "      <td>macrophage</td>\n",
       "      <td>MONDO_0018076</td>\n",
       "      <td>tuberculosis</td>\n",
       "      <td>UBERON_0002170</td>\n",
       "      <td>upper lobe of right lung</td>\n",
       "      <td>6.0</td>\n",
       "      <td>no</td>\n",
       "      <td>direct from donor - fresh</td>\n",
       "      <td>EFO_0008637</td>\n",
       "      <td>Illumina NovaSeq 6000</td>\n",
       "      <td>unknown</td>\n",
       "    </tr>\n",
       "    <tr>\n",
       "      <th>Array1_28818_AAAAAGTACACA</th>\n",
       "      <td>NCBITaxon_9544</td>\n",
       "      <td>Macaca mulatta</td>\n",
       "      <td>EFO_0008919</td>\n",
       "      <td>Seq-Well</td>\n",
       "      <td>Array1_28818_AAAAAGTACACA</td>\n",
       "      <td>28818</td>\n",
       "      <td>Array1_28818</td>\n",
       "      <td>CL_0000084</td>\n",
       "      <td>T cell</td>\n",
       "      <td>MONDO_0018076</td>\n",
       "      <td>tuberculosis</td>\n",
       "      <td>UBERON_0002170</td>\n",
       "      <td>upper lobe of right lung</td>\n",
       "      <td>6.0</td>\n",
       "      <td>no</td>\n",
       "      <td>direct from donor - fresh</td>\n",
       "      <td>EFO_0008637</td>\n",
       "      <td>Illumina NovaSeq 6000</td>\n",
       "      <td>unknown</td>\n",
       "    </tr>\n",
       "    <tr>\n",
       "      <th>Array1_28818_AAAAAGTGTGAC</th>\n",
       "      <td>NCBITaxon_9544</td>\n",
       "      <td>Macaca mulatta</td>\n",
       "      <td>EFO_0008919</td>\n",
       "      <td>Seq-Well</td>\n",
       "      <td>Array1_28818_AAAAAGTGTGAC</td>\n",
       "      <td>28818</td>\n",
       "      <td>Array1_28818</td>\n",
       "      <td>CL_0000236</td>\n",
       "      <td>B cell</td>\n",
       "      <td>MONDO_0018076</td>\n",
       "      <td>tuberculosis</td>\n",
       "      <td>UBERON_0002170</td>\n",
       "      <td>upper lobe of right lung</td>\n",
       "      <td>6.0</td>\n",
       "      <td>no</td>\n",
       "      <td>direct from donor - fresh</td>\n",
       "      <td>EFO_0008637</td>\n",
       "      <td>Illumina NovaSeq 6000</td>\n",
       "      <td>unknown</td>\n",
       "    </tr>\n",
       "    <tr>\n",
       "      <th>Array1_28818_AAAAATAAACAG</th>\n",
       "      <td>NCBITaxon_9544</td>\n",
       "      <td>Macaca mulatta</td>\n",
       "      <td>EFO_0008919</td>\n",
       "      <td>Seq-Well</td>\n",
       "      <td>Array1_28818_AAAAATAAACAG</td>\n",
       "      <td>28818</td>\n",
       "      <td>Array1_28818</td>\n",
       "      <td>CL_0000084</td>\n",
       "      <td>T cell</td>\n",
       "      <td>MONDO_0018076</td>\n",
       "      <td>tuberculosis</td>\n",
       "      <td>UBERON_0002170</td>\n",
       "      <td>upper lobe of right lung</td>\n",
       "      <td>6.0</td>\n",
       "      <td>no</td>\n",
       "      <td>direct from donor - fresh</td>\n",
       "      <td>EFO_0008637</td>\n",
       "      <td>Illumina NovaSeq 6000</td>\n",
       "      <td>unknown</td>\n",
       "    </tr>\n",
       "    <tr>\n",
       "      <th>Array1_28818_AAAAATCTGACG</th>\n",
       "      <td>NCBITaxon_9544</td>\n",
       "      <td>Macaca mulatta</td>\n",
       "      <td>EFO_0008919</td>\n",
       "      <td>Seq-Well</td>\n",
       "      <td>Array1_28818_AAAAATCTGACG</td>\n",
       "      <td>28818</td>\n",
       "      <td>Array1_28818</td>\n",
       "      <td>CL_0000097</td>\n",
       "      <td>mast cell</td>\n",
       "      <td>MONDO_0018076</td>\n",
       "      <td>tuberculosis</td>\n",
       "      <td>UBERON_0002170</td>\n",
       "      <td>upper lobe of right lung</td>\n",
       "      <td>6.0</td>\n",
       "      <td>no</td>\n",
       "      <td>direct from donor - fresh</td>\n",
       "      <td>EFO_0008637</td>\n",
       "      <td>Illumina NovaSeq 6000</td>\n",
       "      <td>unknown</td>\n",
       "    </tr>\n",
       "    <tr>\n",
       "      <th>Array1_28818_AAAACACTGGAG</th>\n",
       "      <td>NCBITaxon_9544</td>\n",
       "      <td>Macaca mulatta</td>\n",
       "      <td>EFO_0008919</td>\n",
       "      <td>Seq-Well</td>\n",
       "      <td>Array1_28818_AAAACACTGGAG</td>\n",
       "      <td>28818</td>\n",
       "      <td>Array1_28818</td>\n",
       "      <td>CL_0000235</td>\n",
       "      <td>macrophage</td>\n",
       "      <td>MONDO_0018076</td>\n",
       "      <td>tuberculosis</td>\n",
       "      <td>UBERON_0002170</td>\n",
       "      <td>upper lobe of right lung</td>\n",
       "      <td>6.0</td>\n",
       "      <td>no</td>\n",
       "      <td>direct from donor - fresh</td>\n",
       "      <td>EFO_0008637</td>\n",
       "      <td>Illumina NovaSeq 6000</td>\n",
       "      <td>unknown</td>\n",
       "    </tr>\n",
       "    <tr>\n",
       "      <th>Array1_28818_AAAACAGAGCGA</th>\n",
       "      <td>NCBITaxon_9544</td>\n",
       "      <td>Macaca mulatta</td>\n",
       "      <td>EFO_0008919</td>\n",
       "      <td>Seq-Well</td>\n",
       "      <td>Array1_28818_AAAACAGAGCGA</td>\n",
       "      <td>28818</td>\n",
       "      <td>Array1_28818</td>\n",
       "      <td>CL_0000097</td>\n",
       "      <td>mast cell</td>\n",
       "      <td>MONDO_0018076</td>\n",
       "      <td>tuberculosis</td>\n",
       "      <td>UBERON_0002170</td>\n",
       "      <td>upper lobe of right lung</td>\n",
       "      <td>6.0</td>\n",
       "      <td>no</td>\n",
       "      <td>direct from donor - fresh</td>\n",
       "      <td>EFO_0008637</td>\n",
       "      <td>Illumina NovaSeq 6000</td>\n",
       "      <td>unknown</td>\n",
       "    </tr>\n",
       "    <tr>\n",
       "      <th>Array1_28818_AAAACATGTCGT</th>\n",
       "      <td>NCBITaxon_9544</td>\n",
       "      <td>Macaca mulatta</td>\n",
       "      <td>EFO_0008919</td>\n",
       "      <td>Seq-Well</td>\n",
       "      <td>Array1_28818_AAAACATGTCGT</td>\n",
       "      <td>28818</td>\n",
       "      <td>Array1_28818</td>\n",
       "      <td>CL_0000236</td>\n",
       "      <td>B cell</td>\n",
       "      <td>MONDO_0018076</td>\n",
       "      <td>tuberculosis</td>\n",
       "      <td>UBERON_0002170</td>\n",
       "      <td>upper lobe of right lung</td>\n",
       "      <td>6.0</td>\n",
       "      <td>no</td>\n",
       "      <td>direct from donor - fresh</td>\n",
       "      <td>EFO_0008637</td>\n",
       "      <td>Illumina NovaSeq 6000</td>\n",
       "      <td>unknown</td>\n",
       "    </tr>\n",
       "    <tr>\n",
       "      <th>Array1_28818_AAAACCAAGGTG</th>\n",
       "      <td>NCBITaxon_9544</td>\n",
       "      <td>Macaca mulatta</td>\n",
       "      <td>EFO_0008919</td>\n",
       "      <td>Seq-Well</td>\n",
       "      <td>Array1_28818_AAAACCAAGGTG</td>\n",
       "      <td>28818</td>\n",
       "      <td>Array1_28818</td>\n",
       "      <td>CL_0000057</td>\n",
       "      <td>fibroblast</td>\n",
       "      <td>MONDO_0018076</td>\n",
       "      <td>tuberculosis</td>\n",
       "      <td>UBERON_0002170</td>\n",
       "      <td>upper lobe of right lung</td>\n",
       "      <td>6.0</td>\n",
       "      <td>no</td>\n",
       "      <td>direct from donor - fresh</td>\n",
       "      <td>EFO_0008637</td>\n",
       "      <td>Illumina NovaSeq 6000</td>\n",
       "      <td>unknown</td>\n",
       "    </tr>\n",
       "    <tr>\n",
       "      <th>Array1_28818_AAAACCGATGTG</th>\n",
       "      <td>NCBITaxon_9544</td>\n",
       "      <td>Macaca mulatta</td>\n",
       "      <td>EFO_0008919</td>\n",
       "      <td>Seq-Well</td>\n",
       "      <td>Array1_28818_AAAACCGATGTG</td>\n",
       "      <td>28818</td>\n",
       "      <td>Array1_28818</td>\n",
       "      <td>CL_0000084</td>\n",
       "      <td>T cell</td>\n",
       "      <td>MONDO_0018076</td>\n",
       "      <td>tuberculosis</td>\n",
       "      <td>UBERON_0002170</td>\n",
       "      <td>upper lobe of right lung</td>\n",
       "      <td>6.0</td>\n",
       "      <td>no</td>\n",
       "      <td>direct from donor - fresh</td>\n",
       "      <td>EFO_0008637</td>\n",
       "      <td>Illumina NovaSeq 6000</td>\n",
       "      <td>unknown</td>\n",
       "    </tr>\n",
       "    <tr>\n",
       "      <th>Array1_28818_AAAACCTAGTCT</th>\n",
       "      <td>NCBITaxon_9544</td>\n",
       "      <td>Macaca mulatta</td>\n",
       "      <td>EFO_0008919</td>\n",
       "      <td>Seq-Well</td>\n",
       "      <td>Array1_28818_AAAACCTAGTCT</td>\n",
       "      <td>28818</td>\n",
       "      <td>Array1_28818</td>\n",
       "      <td>CL_0000235</td>\n",
       "      <td>macrophage</td>\n",
       "      <td>MONDO_0018076</td>\n",
       "      <td>tuberculosis</td>\n",
       "      <td>UBERON_0002170</td>\n",
       "      <td>upper lobe of right lung</td>\n",
       "      <td>6.0</td>\n",
       "      <td>no</td>\n",
       "      <td>direct from donor - fresh</td>\n",
       "      <td>EFO_0008637</td>\n",
       "      <td>Illumina NovaSeq 6000</td>\n",
       "      <td>unknown</td>\n",
       "    </tr>\n",
       "    <tr>\n",
       "      <th>Array1_28818_AAAACGAATCTC</th>\n",
       "      <td>NCBITaxon_9544</td>\n",
       "      <td>Macaca mulatta</td>\n",
       "      <td>EFO_0008919</td>\n",
       "      <td>Seq-Well</td>\n",
       "      <td>Array1_28818_AAAACGAATCTC</td>\n",
       "      <td>28818</td>\n",
       "      <td>Array1_28818</td>\n",
       "      <td>CL_0000097</td>\n",
       "      <td>mast cell</td>\n",
       "      <td>MONDO_0018076</td>\n",
       "      <td>tuberculosis</td>\n",
       "      <td>UBERON_0002170</td>\n",
       "      <td>upper lobe of right lung</td>\n",
       "      <td>6.0</td>\n",
       "      <td>no</td>\n",
       "      <td>direct from donor - fresh</td>\n",
       "      <td>EFO_0008637</td>\n",
       "      <td>Illumina NovaSeq 6000</td>\n",
       "      <td>unknown</td>\n",
       "    </tr>\n",
       "    <tr>\n",
       "      <th>Array1_28818_AAAACGCTATAC</th>\n",
       "      <td>NCBITaxon_9544</td>\n",
       "      <td>Macaca mulatta</td>\n",
       "      <td>EFO_0008919</td>\n",
       "      <td>Seq-Well</td>\n",
       "      <td>Array1_28818_AAAACGCTATAC</td>\n",
       "      <td>28818</td>\n",
       "      <td>Array1_28818</td>\n",
       "      <td>CL_0000236</td>\n",
       "      <td>B cell</td>\n",
       "      <td>MONDO_0018076</td>\n",
       "      <td>tuberculosis</td>\n",
       "      <td>UBERON_0002170</td>\n",
       "      <td>upper lobe of right lung</td>\n",
       "      <td>6.0</td>\n",
       "      <td>no</td>\n",
       "      <td>direct from donor - fresh</td>\n",
       "      <td>EFO_0008637</td>\n",
       "      <td>Illumina NovaSeq 6000</td>\n",
       "      <td>unknown</td>\n",
       "    </tr>\n",
       "    <tr>\n",
       "      <th>Array1_28818_AAAACTTACGCG</th>\n",
       "      <td>NCBITaxon_9544</td>\n",
       "      <td>Macaca mulatta</td>\n",
       "      <td>EFO_0008919</td>\n",
       "      <td>Seq-Well</td>\n",
       "      <td>Array1_28818_AAAACTTACGCG</td>\n",
       "      <td>28818</td>\n",
       "      <td>Array1_28818</td>\n",
       "      <td>CL_0000097</td>\n",
       "      <td>mast cell</td>\n",
       "      <td>MONDO_0018076</td>\n",
       "      <td>tuberculosis</td>\n",
       "      <td>UBERON_0002170</td>\n",
       "      <td>upper lobe of right lung</td>\n",
       "      <td>6.0</td>\n",
       "      <td>no</td>\n",
       "      <td>direct from donor - fresh</td>\n",
       "      <td>EFO_0008637</td>\n",
       "      <td>Illumina NovaSeq 6000</td>\n",
       "      <td>unknown</td>\n",
       "    </tr>\n",
       "    <tr>\n",
       "      <th>Array1_28818_AAAAGAATCACT</th>\n",
       "      <td>NCBITaxon_9544</td>\n",
       "      <td>Macaca mulatta</td>\n",
       "      <td>EFO_0008919</td>\n",
       "      <td>Seq-Well</td>\n",
       "      <td>Array1_28818_AAAAGAATCACT</td>\n",
       "      <td>28818</td>\n",
       "      <td>Array1_28818</td>\n",
       "      <td>CL_0000235</td>\n",
       "      <td>macrophage</td>\n",
       "      <td>MONDO_0018076</td>\n",
       "      <td>tuberculosis</td>\n",
       "      <td>UBERON_0002170</td>\n",
       "      <td>upper lobe of right lung</td>\n",
       "      <td>6.0</td>\n",
       "      <td>no</td>\n",
       "      <td>direct from donor - fresh</td>\n",
       "      <td>EFO_0008637</td>\n",
       "      <td>Illumina NovaSeq 6000</td>\n",
       "      <td>unknown</td>\n",
       "    </tr>\n",
       "    <tr>\n",
       "      <th>Array1_28818_AAAAGCCAATGC</th>\n",
       "      <td>NCBITaxon_9544</td>\n",
       "      <td>Macaca mulatta</td>\n",
       "      <td>EFO_0008919</td>\n",
       "      <td>Seq-Well</td>\n",
       "      <td>Array1_28818_AAAAGCCAATGC</td>\n",
       "      <td>28818</td>\n",
       "      <td>Array1_28818</td>\n",
       "      <td>CL_0000084</td>\n",
       "      <td>T cell</td>\n",
       "      <td>MONDO_0018076</td>\n",
       "      <td>tuberculosis</td>\n",
       "      <td>UBERON_0002170</td>\n",
       "      <td>upper lobe of right lung</td>\n",
       "      <td>6.0</td>\n",
       "      <td>no</td>\n",
       "      <td>direct from donor - fresh</td>\n",
       "      <td>EFO_0008637</td>\n",
       "      <td>Illumina NovaSeq 6000</td>\n",
       "      <td>unknown</td>\n",
       "    </tr>\n",
       "    <tr>\n",
       "      <th>Array1_28818_AAAAGCGCTTAT</th>\n",
       "      <td>NCBITaxon_9544</td>\n",
       "      <td>Macaca mulatta</td>\n",
       "      <td>EFO_0008919</td>\n",
       "      <td>Seq-Well</td>\n",
       "      <td>Array1_28818_AAAAGCGCTTAT</td>\n",
       "      <td>28818</td>\n",
       "      <td>Array1_28818</td>\n",
       "      <td>CL_0000451</td>\n",
       "      <td>dendritic cell</td>\n",
       "      <td>MONDO_0018076</td>\n",
       "      <td>tuberculosis</td>\n",
       "      <td>UBERON_0002170</td>\n",
       "      <td>upper lobe of right lung</td>\n",
       "      <td>6.0</td>\n",
       "      <td>no</td>\n",
       "      <td>direct from donor - fresh</td>\n",
       "      <td>EFO_0008637</td>\n",
       "      <td>Illumina NovaSeq 6000</td>\n",
       "      <td>unknown</td>\n",
       "    </tr>\n",
       "    <tr>\n",
       "      <th>Array1_28818_AAAAGGAAGTAG</th>\n",
       "      <td>NCBITaxon_9544</td>\n",
       "      <td>Macaca mulatta</td>\n",
       "      <td>EFO_0008919</td>\n",
       "      <td>Seq-Well</td>\n",
       "      <td>Array1_28818_AAAAGGAAGTAG</td>\n",
       "      <td>28818</td>\n",
       "      <td>Array1_28818</td>\n",
       "      <td>CL_0000235</td>\n",
       "      <td>macrophage</td>\n",
       "      <td>MONDO_0018076</td>\n",
       "      <td>tuberculosis</td>\n",
       "      <td>UBERON_0002170</td>\n",
       "      <td>upper lobe of right lung</td>\n",
       "      <td>6.0</td>\n",
       "      <td>no</td>\n",
       "      <td>direct from donor - fresh</td>\n",
       "      <td>EFO_0008637</td>\n",
       "      <td>Illumina NovaSeq 6000</td>\n",
       "      <td>unknown</td>\n",
       "    </tr>\n",
       "    <tr>\n",
       "      <th>Array1_28818_AAAAGGCAAAGG</th>\n",
       "      <td>NCBITaxon_9544</td>\n",
       "      <td>Macaca mulatta</td>\n",
       "      <td>EFO_0008919</td>\n",
       "      <td>Seq-Well</td>\n",
       "      <td>Array1_28818_AAAAGGCAAAGG</td>\n",
       "      <td>28818</td>\n",
       "      <td>Array1_28818</td>\n",
       "      <td>CL_0000451</td>\n",
       "      <td>dendritic cell</td>\n",
       "      <td>MONDO_0018076</td>\n",
       "      <td>tuberculosis</td>\n",
       "      <td>UBERON_0002170</td>\n",
       "      <td>upper lobe of right lung</td>\n",
       "      <td>6.0</td>\n",
       "      <td>no</td>\n",
       "      <td>direct from donor - fresh</td>\n",
       "      <td>EFO_0008637</td>\n",
       "      <td>Illumina NovaSeq 6000</td>\n",
       "      <td>unknown</td>\n",
       "    </tr>\n",
       "    <tr>\n",
       "      <th>Array1_28818_AAAAGTAATGTG</th>\n",
       "      <td>NCBITaxon_9544</td>\n",
       "      <td>Macaca mulatta</td>\n",
       "      <td>EFO_0008919</td>\n",
       "      <td>Seq-Well</td>\n",
       "      <td>Array1_28818_AAAAGTAATGTG</td>\n",
       "      <td>28818</td>\n",
       "      <td>Array1_28818</td>\n",
       "      <td>CL_0000236</td>\n",
       "      <td>B cell</td>\n",
       "      <td>MONDO_0018076</td>\n",
       "      <td>tuberculosis</td>\n",
       "      <td>UBERON_0002170</td>\n",
       "      <td>upper lobe of right lung</td>\n",
       "      <td>6.0</td>\n",
       "      <td>no</td>\n",
       "      <td>direct from donor - fresh</td>\n",
       "      <td>EFO_0008637</td>\n",
       "      <td>Illumina NovaSeq 6000</td>\n",
       "      <td>unknown</td>\n",
       "    </tr>\n",
       "    <tr>\n",
       "      <th>Array1_28818_AAAAGTACGTGT</th>\n",
       "      <td>NCBITaxon_9544</td>\n",
       "      <td>Macaca mulatta</td>\n",
       "      <td>EFO_0008919</td>\n",
       "      <td>Seq-Well</td>\n",
       "      <td>Array1_28818_AAAAGTACGTGT</td>\n",
       "      <td>28818</td>\n",
       "      <td>Array1_28818</td>\n",
       "      <td>CL_0000236</td>\n",
       "      <td>B cell</td>\n",
       "      <td>MONDO_0018076</td>\n",
       "      <td>tuberculosis</td>\n",
       "      <td>UBERON_0002170</td>\n",
       "      <td>upper lobe of right lung</td>\n",
       "      <td>6.0</td>\n",
       "      <td>no</td>\n",
       "      <td>direct from donor - fresh</td>\n",
       "      <td>EFO_0008637</td>\n",
       "      <td>Illumina NovaSeq 6000</td>\n",
       "      <td>unknown</td>\n",
       "    </tr>\n",
       "    <tr>\n",
       "      <th>Array1_28818_AAAAGTATCCGT</th>\n",
       "      <td>NCBITaxon_9544</td>\n",
       "      <td>Macaca mulatta</td>\n",
       "      <td>EFO_0008919</td>\n",
       "      <td>Seq-Well</td>\n",
       "      <td>Array1_28818_AAAAGTATCCGT</td>\n",
       "      <td>28818</td>\n",
       "      <td>Array1_28818</td>\n",
       "      <td>CL_0000084</td>\n",
       "      <td>T cell</td>\n",
       "      <td>MONDO_0018076</td>\n",
       "      <td>tuberculosis</td>\n",
       "      <td>UBERON_0002170</td>\n",
       "      <td>upper lobe of right lung</td>\n",
       "      <td>6.0</td>\n",
       "      <td>no</td>\n",
       "      <td>direct from donor - fresh</td>\n",
       "      <td>EFO_0008637</td>\n",
       "      <td>Illumina NovaSeq 6000</td>\n",
       "      <td>unknown</td>\n",
       "    </tr>\n",
       "    <tr>\n",
       "      <th>Array1_28818_AAAAGTCAGTCA</th>\n",
       "      <td>NCBITaxon_9544</td>\n",
       "      <td>Macaca mulatta</td>\n",
       "      <td>EFO_0008919</td>\n",
       "      <td>Seq-Well</td>\n",
       "      <td>Array1_28818_AAAAGTCAGTCA</td>\n",
       "      <td>28818</td>\n",
       "      <td>Array1_28818</td>\n",
       "      <td>CL_0000235</td>\n",
       "      <td>macrophage</td>\n",
       "      <td>MONDO_0018076</td>\n",
       "      <td>tuberculosis</td>\n",
       "      <td>UBERON_0002170</td>\n",
       "      <td>upper lobe of right lung</td>\n",
       "      <td>6.0</td>\n",
       "      <td>no</td>\n",
       "      <td>direct from donor - fresh</td>\n",
       "      <td>EFO_0008637</td>\n",
       "      <td>Illumina NovaSeq 6000</td>\n",
       "      <td>unknown</td>\n",
       "    </tr>\n",
       "    <tr>\n",
       "      <th>Array1_28818_AAAAGTTAGTCC</th>\n",
       "      <td>NCBITaxon_9544</td>\n",
       "      <td>Macaca mulatta</td>\n",
       "      <td>EFO_0008919</td>\n",
       "      <td>Seq-Well</td>\n",
       "      <td>Array1_28818_AAAAGTTAGTCC</td>\n",
       "      <td>28818</td>\n",
       "      <td>Array1_28818</td>\n",
       "      <td>CL_0000235</td>\n",
       "      <td>macrophage</td>\n",
       "      <td>MONDO_0018076</td>\n",
       "      <td>tuberculosis</td>\n",
       "      <td>UBERON_0002170</td>\n",
       "      <td>upper lobe of right lung</td>\n",
       "      <td>6.0</td>\n",
       "      <td>no</td>\n",
       "      <td>direct from donor - fresh</td>\n",
       "      <td>EFO_0008637</td>\n",
       "      <td>Illumina NovaSeq 6000</td>\n",
       "      <td>unknown</td>\n",
       "    </tr>\n",
       "    <tr>\n",
       "      <th>...</th>\n",
       "      <td>...</td>\n",
       "      <td>...</td>\n",
       "      <td>...</td>\n",
       "      <td>...</td>\n",
       "      <td>...</td>\n",
       "      <td>...</td>\n",
       "      <td>...</td>\n",
       "      <td>...</td>\n",
       "      <td>...</td>\n",
       "      <td>...</td>\n",
       "      <td>...</td>\n",
       "      <td>...</td>\n",
       "      <td>...</td>\n",
       "      <td>...</td>\n",
       "      <td>...</td>\n",
       "      <td>...</td>\n",
       "      <td>...</td>\n",
       "      <td>...</td>\n",
       "      <td>...</td>\n",
       "    </tr>\n",
       "    <tr>\n",
       "      <th>Array5_30518_TTTGGTTTTGTA</th>\n",
       "      <td>NCBITaxon_9544</td>\n",
       "      <td>Macaca mulatta</td>\n",
       "      <td>EFO_0008919</td>\n",
       "      <td>Seq-Well</td>\n",
       "      <td>Array5_30518_TTTGGTTTTGTA</td>\n",
       "      <td>30518</td>\n",
       "      <td>Array5_30518</td>\n",
       "      <td>CL_0000235</td>\n",
       "      <td>macrophage</td>\n",
       "      <td>MONDO_0018076</td>\n",
       "      <td>tuberculosis</td>\n",
       "      <td>UBERON_0008952</td>\n",
       "      <td>upper lobe of left lung</td>\n",
       "      <td>6.0</td>\n",
       "      <td>no</td>\n",
       "      <td>direct from donor - fresh</td>\n",
       "      <td>EFO_0008637</td>\n",
       "      <td>Illumina NovaSeq 6000</td>\n",
       "      <td>unknown</td>\n",
       "    </tr>\n",
       "    <tr>\n",
       "      <th>Array5_30518_TTTGTAACCACA</th>\n",
       "      <td>NCBITaxon_9544</td>\n",
       "      <td>Macaca mulatta</td>\n",
       "      <td>EFO_0008919</td>\n",
       "      <td>Seq-Well</td>\n",
       "      <td>Array5_30518_TTTGTAACCACA</td>\n",
       "      <td>30518</td>\n",
       "      <td>Array5_30518</td>\n",
       "      <td>CL_0000235</td>\n",
       "      <td>macrophage</td>\n",
       "      <td>MONDO_0018076</td>\n",
       "      <td>tuberculosis</td>\n",
       "      <td>UBERON_0008952</td>\n",
       "      <td>upper lobe of left lung</td>\n",
       "      <td>6.0</td>\n",
       "      <td>no</td>\n",
       "      <td>direct from donor - fresh</td>\n",
       "      <td>EFO_0008637</td>\n",
       "      <td>Illumina NovaSeq 6000</td>\n",
       "      <td>unknown</td>\n",
       "    </tr>\n",
       "    <tr>\n",
       "      <th>Array5_30518_TTTGTATTTCAG</th>\n",
       "      <td>NCBITaxon_9544</td>\n",
       "      <td>Macaca mulatta</td>\n",
       "      <td>EFO_0008919</td>\n",
       "      <td>Seq-Well</td>\n",
       "      <td>Array5_30518_TTTGTATTTCAG</td>\n",
       "      <td>30518</td>\n",
       "      <td>Array5_30518</td>\n",
       "      <td>CL_0000235</td>\n",
       "      <td>macrophage</td>\n",
       "      <td>MONDO_0018076</td>\n",
       "      <td>tuberculosis</td>\n",
       "      <td>UBERON_0008952</td>\n",
       "      <td>upper lobe of left lung</td>\n",
       "      <td>6.0</td>\n",
       "      <td>no</td>\n",
       "      <td>direct from donor - fresh</td>\n",
       "      <td>EFO_0008637</td>\n",
       "      <td>Illumina NovaSeq 6000</td>\n",
       "      <td>unknown</td>\n",
       "    </tr>\n",
       "    <tr>\n",
       "      <th>Array5_30518_TTTGTCCGGCTC</th>\n",
       "      <td>NCBITaxon_9544</td>\n",
       "      <td>Macaca mulatta</td>\n",
       "      <td>EFO_0008919</td>\n",
       "      <td>Seq-Well</td>\n",
       "      <td>Array5_30518_TTTGTCCGGCTC</td>\n",
       "      <td>30518</td>\n",
       "      <td>Array5_30518</td>\n",
       "      <td>CL_0000235</td>\n",
       "      <td>macrophage</td>\n",
       "      <td>MONDO_0018076</td>\n",
       "      <td>tuberculosis</td>\n",
       "      <td>UBERON_0008952</td>\n",
       "      <td>upper lobe of left lung</td>\n",
       "      <td>6.0</td>\n",
       "      <td>no</td>\n",
       "      <td>direct from donor - fresh</td>\n",
       "      <td>EFO_0008637</td>\n",
       "      <td>Illumina NovaSeq 6000</td>\n",
       "      <td>unknown</td>\n",
       "    </tr>\n",
       "    <tr>\n",
       "      <th>Array5_30518_TTTGTCGCGTAT</th>\n",
       "      <td>NCBITaxon_9544</td>\n",
       "      <td>Macaca mulatta</td>\n",
       "      <td>EFO_0008919</td>\n",
       "      <td>Seq-Well</td>\n",
       "      <td>Array5_30518_TTTGTCGCGTAT</td>\n",
       "      <td>30518</td>\n",
       "      <td>Array5_30518</td>\n",
       "      <td>CL_0000235</td>\n",
       "      <td>macrophage</td>\n",
       "      <td>MONDO_0018076</td>\n",
       "      <td>tuberculosis</td>\n",
       "      <td>UBERON_0008952</td>\n",
       "      <td>upper lobe of left lung</td>\n",
       "      <td>6.0</td>\n",
       "      <td>no</td>\n",
       "      <td>direct from donor - fresh</td>\n",
       "      <td>EFO_0008637</td>\n",
       "      <td>Illumina NovaSeq 6000</td>\n",
       "      <td>unknown</td>\n",
       "    </tr>\n",
       "    <tr>\n",
       "      <th>Array5_30518_TTTGTCGTGCAC</th>\n",
       "      <td>NCBITaxon_9544</td>\n",
       "      <td>Macaca mulatta</td>\n",
       "      <td>EFO_0008919</td>\n",
       "      <td>Seq-Well</td>\n",
       "      <td>Array5_30518_TTTGTCGTGCAC</td>\n",
       "      <td>30518</td>\n",
       "      <td>Array5_30518</td>\n",
       "      <td>CL_0000235</td>\n",
       "      <td>macrophage</td>\n",
       "      <td>MONDO_0018076</td>\n",
       "      <td>tuberculosis</td>\n",
       "      <td>UBERON_0008952</td>\n",
       "      <td>upper lobe of left lung</td>\n",
       "      <td>6.0</td>\n",
       "      <td>no</td>\n",
       "      <td>direct from donor - fresh</td>\n",
       "      <td>EFO_0008637</td>\n",
       "      <td>Illumina NovaSeq 6000</td>\n",
       "      <td>unknown</td>\n",
       "    </tr>\n",
       "    <tr>\n",
       "      <th>Array5_30518_TTTGTTTCTATT</th>\n",
       "      <td>NCBITaxon_9544</td>\n",
       "      <td>Macaca mulatta</td>\n",
       "      <td>EFO_0008919</td>\n",
       "      <td>Seq-Well</td>\n",
       "      <td>Array5_30518_TTTGTTTCTATT</td>\n",
       "      <td>30518</td>\n",
       "      <td>Array5_30518</td>\n",
       "      <td>CL_0000235</td>\n",
       "      <td>macrophage</td>\n",
       "      <td>MONDO_0018076</td>\n",
       "      <td>tuberculosis</td>\n",
       "      <td>UBERON_0008952</td>\n",
       "      <td>upper lobe of left lung</td>\n",
       "      <td>6.0</td>\n",
       "      <td>no</td>\n",
       "      <td>direct from donor - fresh</td>\n",
       "      <td>EFO_0008637</td>\n",
       "      <td>Illumina NovaSeq 6000</td>\n",
       "      <td>unknown</td>\n",
       "    </tr>\n",
       "    <tr>\n",
       "      <th>Array5_30518_TTTTAAATCAGG</th>\n",
       "      <td>NCBITaxon_9544</td>\n",
       "      <td>Macaca mulatta</td>\n",
       "      <td>EFO_0008919</td>\n",
       "      <td>Seq-Well</td>\n",
       "      <td>Array5_30518_TTTTAAATCAGG</td>\n",
       "      <td>30518</td>\n",
       "      <td>Array5_30518</td>\n",
       "      <td>CL_0000235</td>\n",
       "      <td>macrophage</td>\n",
       "      <td>MONDO_0018076</td>\n",
       "      <td>tuberculosis</td>\n",
       "      <td>UBERON_0008952</td>\n",
       "      <td>upper lobe of left lung</td>\n",
       "      <td>6.0</td>\n",
       "      <td>no</td>\n",
       "      <td>direct from donor - fresh</td>\n",
       "      <td>EFO_0008637</td>\n",
       "      <td>Illumina NovaSeq 6000</td>\n",
       "      <td>unknown</td>\n",
       "    </tr>\n",
       "    <tr>\n",
       "      <th>Array5_30518_TTTTAAGCTCTA</th>\n",
       "      <td>NCBITaxon_9544</td>\n",
       "      <td>Macaca mulatta</td>\n",
       "      <td>EFO_0008919</td>\n",
       "      <td>Seq-Well</td>\n",
       "      <td>Array5_30518_TTTTAAGCTCTA</td>\n",
       "      <td>30518</td>\n",
       "      <td>Array5_30518</td>\n",
       "      <td>CL_0000235</td>\n",
       "      <td>macrophage</td>\n",
       "      <td>MONDO_0018076</td>\n",
       "      <td>tuberculosis</td>\n",
       "      <td>UBERON_0008952</td>\n",
       "      <td>upper lobe of left lung</td>\n",
       "      <td>6.0</td>\n",
       "      <td>no</td>\n",
       "      <td>direct from donor - fresh</td>\n",
       "      <td>EFO_0008637</td>\n",
       "      <td>Illumina NovaSeq 6000</td>\n",
       "      <td>unknown</td>\n",
       "    </tr>\n",
       "    <tr>\n",
       "      <th>Array5_30518_TTTTAATGTAAC</th>\n",
       "      <td>NCBITaxon_9544</td>\n",
       "      <td>Macaca mulatta</td>\n",
       "      <td>EFO_0008919</td>\n",
       "      <td>Seq-Well</td>\n",
       "      <td>Array5_30518_TTTTAATGTAAC</td>\n",
       "      <td>30518</td>\n",
       "      <td>Array5_30518</td>\n",
       "      <td>CL_0000084</td>\n",
       "      <td>T cell</td>\n",
       "      <td>MONDO_0018076</td>\n",
       "      <td>tuberculosis</td>\n",
       "      <td>UBERON_0008952</td>\n",
       "      <td>upper lobe of left lung</td>\n",
       "      <td>6.0</td>\n",
       "      <td>no</td>\n",
       "      <td>direct from donor - fresh</td>\n",
       "      <td>EFO_0008637</td>\n",
       "      <td>Illumina NovaSeq 6000</td>\n",
       "      <td>unknown</td>\n",
       "    </tr>\n",
       "    <tr>\n",
       "      <th>Array5_30518_TTTTACGGTGAT</th>\n",
       "      <td>NCBITaxon_9544</td>\n",
       "      <td>Macaca mulatta</td>\n",
       "      <td>EFO_0008919</td>\n",
       "      <td>Seq-Well</td>\n",
       "      <td>Array5_30518_TTTTACGGTGAT</td>\n",
       "      <td>30518</td>\n",
       "      <td>Array5_30518</td>\n",
       "      <td>CL_0000235</td>\n",
       "      <td>macrophage</td>\n",
       "      <td>MONDO_0018076</td>\n",
       "      <td>tuberculosis</td>\n",
       "      <td>UBERON_0008952</td>\n",
       "      <td>upper lobe of left lung</td>\n",
       "      <td>6.0</td>\n",
       "      <td>no</td>\n",
       "      <td>direct from donor - fresh</td>\n",
       "      <td>EFO_0008637</td>\n",
       "      <td>Illumina NovaSeq 6000</td>\n",
       "      <td>unknown</td>\n",
       "    </tr>\n",
       "    <tr>\n",
       "      <th>Array5_30518_TTTTACGTTTTG</th>\n",
       "      <td>NCBITaxon_9544</td>\n",
       "      <td>Macaca mulatta</td>\n",
       "      <td>EFO_0008919</td>\n",
       "      <td>Seq-Well</td>\n",
       "      <td>Array5_30518_TTTTACGTTTTG</td>\n",
       "      <td>30518</td>\n",
       "      <td>Array5_30518</td>\n",
       "      <td>CL_0000235</td>\n",
       "      <td>macrophage</td>\n",
       "      <td>MONDO_0018076</td>\n",
       "      <td>tuberculosis</td>\n",
       "      <td>UBERON_0008952</td>\n",
       "      <td>upper lobe of left lung</td>\n",
       "      <td>6.0</td>\n",
       "      <td>no</td>\n",
       "      <td>direct from donor - fresh</td>\n",
       "      <td>EFO_0008637</td>\n",
       "      <td>Illumina NovaSeq 6000</td>\n",
       "      <td>unknown</td>\n",
       "    </tr>\n",
       "    <tr>\n",
       "      <th>Array5_30518_TTTTAGATCTAA</th>\n",
       "      <td>NCBITaxon_9544</td>\n",
       "      <td>Macaca mulatta</td>\n",
       "      <td>EFO_0008919</td>\n",
       "      <td>Seq-Well</td>\n",
       "      <td>Array5_30518_TTTTAGATCTAA</td>\n",
       "      <td>30518</td>\n",
       "      <td>Array5_30518</td>\n",
       "      <td>CL_0000235</td>\n",
       "      <td>macrophage</td>\n",
       "      <td>MONDO_0018076</td>\n",
       "      <td>tuberculosis</td>\n",
       "      <td>UBERON_0008952</td>\n",
       "      <td>upper lobe of left lung</td>\n",
       "      <td>6.0</td>\n",
       "      <td>no</td>\n",
       "      <td>direct from donor - fresh</td>\n",
       "      <td>EFO_0008637</td>\n",
       "      <td>Illumina NovaSeq 6000</td>\n",
       "      <td>unknown</td>\n",
       "    </tr>\n",
       "    <tr>\n",
       "      <th>Array5_30518_TTTTAGTACCTT</th>\n",
       "      <td>NCBITaxon_9544</td>\n",
       "      <td>Macaca mulatta</td>\n",
       "      <td>EFO_0008919</td>\n",
       "      <td>Seq-Well</td>\n",
       "      <td>Array5_30518_TTTTAGTACCTT</td>\n",
       "      <td>30518</td>\n",
       "      <td>Array5_30518</td>\n",
       "      <td>CL_0000235</td>\n",
       "      <td>macrophage</td>\n",
       "      <td>MONDO_0018076</td>\n",
       "      <td>tuberculosis</td>\n",
       "      <td>UBERON_0008952</td>\n",
       "      <td>upper lobe of left lung</td>\n",
       "      <td>6.0</td>\n",
       "      <td>no</td>\n",
       "      <td>direct from donor - fresh</td>\n",
       "      <td>EFO_0008637</td>\n",
       "      <td>Illumina NovaSeq 6000</td>\n",
       "      <td>unknown</td>\n",
       "    </tr>\n",
       "    <tr>\n",
       "      <th>Array5_30518_TTTTAGTGGTCC</th>\n",
       "      <td>NCBITaxon_9544</td>\n",
       "      <td>Macaca mulatta</td>\n",
       "      <td>EFO_0008919</td>\n",
       "      <td>Seq-Well</td>\n",
       "      <td>Array5_30518_TTTTAGTGGTCC</td>\n",
       "      <td>30518</td>\n",
       "      <td>Array5_30518</td>\n",
       "      <td>CL_0000235</td>\n",
       "      <td>macrophage</td>\n",
       "      <td>MONDO_0018076</td>\n",
       "      <td>tuberculosis</td>\n",
       "      <td>UBERON_0008952</td>\n",
       "      <td>upper lobe of left lung</td>\n",
       "      <td>6.0</td>\n",
       "      <td>no</td>\n",
       "      <td>direct from donor - fresh</td>\n",
       "      <td>EFO_0008637</td>\n",
       "      <td>Illumina NovaSeq 6000</td>\n",
       "      <td>unknown</td>\n",
       "    </tr>\n",
       "    <tr>\n",
       "      <th>Array5_30518_TTTTCAAGTGTC</th>\n",
       "      <td>NCBITaxon_9544</td>\n",
       "      <td>Macaca mulatta</td>\n",
       "      <td>EFO_0008919</td>\n",
       "      <td>Seq-Well</td>\n",
       "      <td>Array5_30518_TTTTCAAGTGTC</td>\n",
       "      <td>30518</td>\n",
       "      <td>Array5_30518</td>\n",
       "      <td>CL_0000235</td>\n",
       "      <td>macrophage</td>\n",
       "      <td>MONDO_0018076</td>\n",
       "      <td>tuberculosis</td>\n",
       "      <td>UBERON_0008952</td>\n",
       "      <td>upper lobe of left lung</td>\n",
       "      <td>6.0</td>\n",
       "      <td>no</td>\n",
       "      <td>direct from donor - fresh</td>\n",
       "      <td>EFO_0008637</td>\n",
       "      <td>Illumina NovaSeq 6000</td>\n",
       "      <td>unknown</td>\n",
       "    </tr>\n",
       "    <tr>\n",
       "      <th>Array5_30518_TTTTCAATCCGG</th>\n",
       "      <td>NCBITaxon_9544</td>\n",
       "      <td>Macaca mulatta</td>\n",
       "      <td>EFO_0008919</td>\n",
       "      <td>Seq-Well</td>\n",
       "      <td>Array5_30518_TTTTCAATCCGG</td>\n",
       "      <td>30518</td>\n",
       "      <td>Array5_30518</td>\n",
       "      <td>CL_0000235</td>\n",
       "      <td>macrophage</td>\n",
       "      <td>MONDO_0018076</td>\n",
       "      <td>tuberculosis</td>\n",
       "      <td>UBERON_0008952</td>\n",
       "      <td>upper lobe of left lung</td>\n",
       "      <td>6.0</td>\n",
       "      <td>no</td>\n",
       "      <td>direct from donor - fresh</td>\n",
       "      <td>EFO_0008637</td>\n",
       "      <td>Illumina NovaSeq 6000</td>\n",
       "      <td>unknown</td>\n",
       "    </tr>\n",
       "    <tr>\n",
       "      <th>Array5_30518_TTTTCACCCGTT</th>\n",
       "      <td>NCBITaxon_9544</td>\n",
       "      <td>Macaca mulatta</td>\n",
       "      <td>EFO_0008919</td>\n",
       "      <td>Seq-Well</td>\n",
       "      <td>Array5_30518_TTTTCACCCGTT</td>\n",
       "      <td>30518</td>\n",
       "      <td>Array5_30518</td>\n",
       "      <td>CL_0000775</td>\n",
       "      <td>neutrophil</td>\n",
       "      <td>MONDO_0018076</td>\n",
       "      <td>tuberculosis</td>\n",
       "      <td>UBERON_0008952</td>\n",
       "      <td>upper lobe of left lung</td>\n",
       "      <td>6.0</td>\n",
       "      <td>no</td>\n",
       "      <td>direct from donor - fresh</td>\n",
       "      <td>EFO_0008637</td>\n",
       "      <td>Illumina NovaSeq 6000</td>\n",
       "      <td>unknown</td>\n",
       "    </tr>\n",
       "    <tr>\n",
       "      <th>Array5_30518_TTTTCAGAAAGC</th>\n",
       "      <td>NCBITaxon_9544</td>\n",
       "      <td>Macaca mulatta</td>\n",
       "      <td>EFO_0008919</td>\n",
       "      <td>Seq-Well</td>\n",
       "      <td>Array5_30518_TTTTCAGAAAGC</td>\n",
       "      <td>30518</td>\n",
       "      <td>Array5_30518</td>\n",
       "      <td>CL_0000235</td>\n",
       "      <td>macrophage</td>\n",
       "      <td>MONDO_0018076</td>\n",
       "      <td>tuberculosis</td>\n",
       "      <td>UBERON_0008952</td>\n",
       "      <td>upper lobe of left lung</td>\n",
       "      <td>6.0</td>\n",
       "      <td>no</td>\n",
       "      <td>direct from donor - fresh</td>\n",
       "      <td>EFO_0008637</td>\n",
       "      <td>Illumina NovaSeq 6000</td>\n",
       "      <td>unknown</td>\n",
       "    </tr>\n",
       "    <tr>\n",
       "      <th>Array5_30518_TTTTCCACAGCA</th>\n",
       "      <td>NCBITaxon_9544</td>\n",
       "      <td>Macaca mulatta</td>\n",
       "      <td>EFO_0008919</td>\n",
       "      <td>Seq-Well</td>\n",
       "      <td>Array5_30518_TTTTCCACAGCA</td>\n",
       "      <td>30518</td>\n",
       "      <td>Array5_30518</td>\n",
       "      <td>CL_0000235</td>\n",
       "      <td>macrophage</td>\n",
       "      <td>MONDO_0018076</td>\n",
       "      <td>tuberculosis</td>\n",
       "      <td>UBERON_0008952</td>\n",
       "      <td>upper lobe of left lung</td>\n",
       "      <td>6.0</td>\n",
       "      <td>no</td>\n",
       "      <td>direct from donor - fresh</td>\n",
       "      <td>EFO_0008637</td>\n",
       "      <td>Illumina NovaSeq 6000</td>\n",
       "      <td>unknown</td>\n",
       "    </tr>\n",
       "    <tr>\n",
       "      <th>Array5_30518_TTTTCCACGAAC</th>\n",
       "      <td>NCBITaxon_9544</td>\n",
       "      <td>Macaca mulatta</td>\n",
       "      <td>EFO_0008919</td>\n",
       "      <td>Seq-Well</td>\n",
       "      <td>Array5_30518_TTTTCCACGAAC</td>\n",
       "      <td>30518</td>\n",
       "      <td>Array5_30518</td>\n",
       "      <td>CL_0000097</td>\n",
       "      <td>mast cell</td>\n",
       "      <td>MONDO_0018076</td>\n",
       "      <td>tuberculosis</td>\n",
       "      <td>UBERON_0008952</td>\n",
       "      <td>upper lobe of left lung</td>\n",
       "      <td>6.0</td>\n",
       "      <td>no</td>\n",
       "      <td>direct from donor - fresh</td>\n",
       "      <td>EFO_0008637</td>\n",
       "      <td>Illumina NovaSeq 6000</td>\n",
       "      <td>unknown</td>\n",
       "    </tr>\n",
       "    <tr>\n",
       "      <th>Array5_30518_TTTTCCATTCTG</th>\n",
       "      <td>NCBITaxon_9544</td>\n",
       "      <td>Macaca mulatta</td>\n",
       "      <td>EFO_0008919</td>\n",
       "      <td>Seq-Well</td>\n",
       "      <td>Array5_30518_TTTTCCATTCTG</td>\n",
       "      <td>30518</td>\n",
       "      <td>Array5_30518</td>\n",
       "      <td>CL_0000235</td>\n",
       "      <td>macrophage</td>\n",
       "      <td>MONDO_0018076</td>\n",
       "      <td>tuberculosis</td>\n",
       "      <td>UBERON_0008952</td>\n",
       "      <td>upper lobe of left lung</td>\n",
       "      <td>6.0</td>\n",
       "      <td>no</td>\n",
       "      <td>direct from donor - fresh</td>\n",
       "      <td>EFO_0008637</td>\n",
       "      <td>Illumina NovaSeq 6000</td>\n",
       "      <td>unknown</td>\n",
       "    </tr>\n",
       "    <tr>\n",
       "      <th>Array5_30518_TTTTCGACTGTT</th>\n",
       "      <td>NCBITaxon_9544</td>\n",
       "      <td>Macaca mulatta</td>\n",
       "      <td>EFO_0008919</td>\n",
       "      <td>Seq-Well</td>\n",
       "      <td>Array5_30518_TTTTCGACTGTT</td>\n",
       "      <td>30518</td>\n",
       "      <td>Array5_30518</td>\n",
       "      <td>CL_0000235</td>\n",
       "      <td>macrophage</td>\n",
       "      <td>MONDO_0018076</td>\n",
       "      <td>tuberculosis</td>\n",
       "      <td>UBERON_0008952</td>\n",
       "      <td>upper lobe of left lung</td>\n",
       "      <td>6.0</td>\n",
       "      <td>no</td>\n",
       "      <td>direct from donor - fresh</td>\n",
       "      <td>EFO_0008637</td>\n",
       "      <td>Illumina NovaSeq 6000</td>\n",
       "      <td>unknown</td>\n",
       "    </tr>\n",
       "    <tr>\n",
       "      <th>Array5_30518_TTTTCGAGACAG</th>\n",
       "      <td>NCBITaxon_9544</td>\n",
       "      <td>Macaca mulatta</td>\n",
       "      <td>EFO_0008919</td>\n",
       "      <td>Seq-Well</td>\n",
       "      <td>Array5_30518_TTTTCGAGACAG</td>\n",
       "      <td>30518</td>\n",
       "      <td>Array5_30518</td>\n",
       "      <td>CL_0000235</td>\n",
       "      <td>macrophage</td>\n",
       "      <td>MONDO_0018076</td>\n",
       "      <td>tuberculosis</td>\n",
       "      <td>UBERON_0008952</td>\n",
       "      <td>upper lobe of left lung</td>\n",
       "      <td>6.0</td>\n",
       "      <td>no</td>\n",
       "      <td>direct from donor - fresh</td>\n",
       "      <td>EFO_0008637</td>\n",
       "      <td>Illumina NovaSeq 6000</td>\n",
       "      <td>unknown</td>\n",
       "    </tr>\n",
       "    <tr>\n",
       "      <th>Array5_30518_TTTTCTCATCTC</th>\n",
       "      <td>NCBITaxon_9544</td>\n",
       "      <td>Macaca mulatta</td>\n",
       "      <td>EFO_0008919</td>\n",
       "      <td>Seq-Well</td>\n",
       "      <td>Array5_30518_TTTTCTCATCTC</td>\n",
       "      <td>30518</td>\n",
       "      <td>Array5_30518</td>\n",
       "      <td>CL_0000235</td>\n",
       "      <td>macrophage</td>\n",
       "      <td>MONDO_0018076</td>\n",
       "      <td>tuberculosis</td>\n",
       "      <td>UBERON_0008952</td>\n",
       "      <td>upper lobe of left lung</td>\n",
       "      <td>6.0</td>\n",
       "      <td>no</td>\n",
       "      <td>direct from donor - fresh</td>\n",
       "      <td>EFO_0008637</td>\n",
       "      <td>Illumina NovaSeq 6000</td>\n",
       "      <td>unknown</td>\n",
       "    </tr>\n",
       "    <tr>\n",
       "      <th>Array5_30518_TTTTGAGAGAAG</th>\n",
       "      <td>NCBITaxon_9544</td>\n",
       "      <td>Macaca mulatta</td>\n",
       "      <td>EFO_0008919</td>\n",
       "      <td>Seq-Well</td>\n",
       "      <td>Array5_30518_TTTTGAGAGAAG</td>\n",
       "      <td>30518</td>\n",
       "      <td>Array5_30518</td>\n",
       "      <td>CL_0000235</td>\n",
       "      <td>macrophage</td>\n",
       "      <td>MONDO_0018076</td>\n",
       "      <td>tuberculosis</td>\n",
       "      <td>UBERON_0008952</td>\n",
       "      <td>upper lobe of left lung</td>\n",
       "      <td>6.0</td>\n",
       "      <td>no</td>\n",
       "      <td>direct from donor - fresh</td>\n",
       "      <td>EFO_0008637</td>\n",
       "      <td>Illumina NovaSeq 6000</td>\n",
       "      <td>unknown</td>\n",
       "    </tr>\n",
       "    <tr>\n",
       "      <th>Array5_30518_TTTTGAGCTCGG</th>\n",
       "      <td>NCBITaxon_9544</td>\n",
       "      <td>Macaca mulatta</td>\n",
       "      <td>EFO_0008919</td>\n",
       "      <td>Seq-Well</td>\n",
       "      <td>Array5_30518_TTTTGAGCTCGG</td>\n",
       "      <td>30518</td>\n",
       "      <td>Array5_30518</td>\n",
       "      <td>CL_0000057</td>\n",
       "      <td>fibroblast</td>\n",
       "      <td>MONDO_0018076</td>\n",
       "      <td>tuberculosis</td>\n",
       "      <td>UBERON_0008952</td>\n",
       "      <td>upper lobe of left lung</td>\n",
       "      <td>6.0</td>\n",
       "      <td>no</td>\n",
       "      <td>direct from donor - fresh</td>\n",
       "      <td>EFO_0008637</td>\n",
       "      <td>Illumina NovaSeq 6000</td>\n",
       "      <td>unknown</td>\n",
       "    </tr>\n",
       "    <tr>\n",
       "      <th>Array5_30518_TTTTGCCCAGAG</th>\n",
       "      <td>NCBITaxon_9544</td>\n",
       "      <td>Macaca mulatta</td>\n",
       "      <td>EFO_0008919</td>\n",
       "      <td>Seq-Well</td>\n",
       "      <td>Array5_30518_TTTTGCCCAGAG</td>\n",
       "      <td>30518</td>\n",
       "      <td>Array5_30518</td>\n",
       "      <td>CL_0000235</td>\n",
       "      <td>macrophage</td>\n",
       "      <td>MONDO_0018076</td>\n",
       "      <td>tuberculosis</td>\n",
       "      <td>UBERON_0008952</td>\n",
       "      <td>upper lobe of left lung</td>\n",
       "      <td>6.0</td>\n",
       "      <td>no</td>\n",
       "      <td>direct from donor - fresh</td>\n",
       "      <td>EFO_0008637</td>\n",
       "      <td>Illumina NovaSeq 6000</td>\n",
       "      <td>unknown</td>\n",
       "    </tr>\n",
       "    <tr>\n",
       "      <th>Array5_30518_TTTTGCGGGCCT</th>\n",
       "      <td>NCBITaxon_9544</td>\n",
       "      <td>Macaca mulatta</td>\n",
       "      <td>EFO_0008919</td>\n",
       "      <td>Seq-Well</td>\n",
       "      <td>Array5_30518_TTTTGCGGGCCT</td>\n",
       "      <td>30518</td>\n",
       "      <td>Array5_30518</td>\n",
       "      <td>CL_0000235</td>\n",
       "      <td>macrophage</td>\n",
       "      <td>MONDO_0018076</td>\n",
       "      <td>tuberculosis</td>\n",
       "      <td>UBERON_0008952</td>\n",
       "      <td>upper lobe of left lung</td>\n",
       "      <td>6.0</td>\n",
       "      <td>no</td>\n",
       "      <td>direct from donor - fresh</td>\n",
       "      <td>EFO_0008637</td>\n",
       "      <td>Illumina NovaSeq 6000</td>\n",
       "      <td>unknown</td>\n",
       "    </tr>\n",
       "    <tr>\n",
       "      <th>Array5_30518_TTTTTATTTGTT</th>\n",
       "      <td>NCBITaxon_9544</td>\n",
       "      <td>Macaca mulatta</td>\n",
       "      <td>EFO_0008919</td>\n",
       "      <td>Seq-Well</td>\n",
       "      <td>Array5_30518_TTTTTATTTGTT</td>\n",
       "      <td>30518</td>\n",
       "      <td>Array5_30518</td>\n",
       "      <td>CL_0000235</td>\n",
       "      <td>macrophage</td>\n",
       "      <td>MONDO_0018076</td>\n",
       "      <td>tuberculosis</td>\n",
       "      <td>UBERON_0008952</td>\n",
       "      <td>upper lobe of left lung</td>\n",
       "      <td>6.0</td>\n",
       "      <td>no</td>\n",
       "      <td>direct from donor - fresh</td>\n",
       "      <td>EFO_0008637</td>\n",
       "      <td>Illumina NovaSeq 6000</td>\n",
       "      <td>unknown</td>\n",
       "    </tr>\n",
       "  </tbody>\n",
       "</table>\n",
       "<p>215238 rows × 19 columns</p>\n",
       "</div>"
      ],
      "text/plain": [
       "                                  species species__ontology_label  \\\n",
       "Array1_28818_AAAAAAGCGGTC  NCBITaxon_9544          Macaca mulatta   \n",
       "Array1_28818_AAAAAATACGAC  NCBITaxon_9544          Macaca mulatta   \n",
       "Array1_28818_AAAAACAAGGAG  NCBITaxon_9544          Macaca mulatta   \n",
       "Array1_28818_AAAAACCCTTCT  NCBITaxon_9544          Macaca mulatta   \n",
       "Array1_28818_AAAAACCTGGGA  NCBITaxon_9544          Macaca mulatta   \n",
       "Array1_28818_AAAAACTGTGGG  NCBITaxon_9544          Macaca mulatta   \n",
       "Array1_28818_AAAAAGGGATTG  NCBITaxon_9544          Macaca mulatta   \n",
       "Array1_28818_AAAAAGTACACA  NCBITaxon_9544          Macaca mulatta   \n",
       "Array1_28818_AAAAAGTGTGAC  NCBITaxon_9544          Macaca mulatta   \n",
       "Array1_28818_AAAAATAAACAG  NCBITaxon_9544          Macaca mulatta   \n",
       "Array1_28818_AAAAATCTGACG  NCBITaxon_9544          Macaca mulatta   \n",
       "Array1_28818_AAAACACTGGAG  NCBITaxon_9544          Macaca mulatta   \n",
       "Array1_28818_AAAACAGAGCGA  NCBITaxon_9544          Macaca mulatta   \n",
       "Array1_28818_AAAACATGTCGT  NCBITaxon_9544          Macaca mulatta   \n",
       "Array1_28818_AAAACCAAGGTG  NCBITaxon_9544          Macaca mulatta   \n",
       "Array1_28818_AAAACCGATGTG  NCBITaxon_9544          Macaca mulatta   \n",
       "Array1_28818_AAAACCTAGTCT  NCBITaxon_9544          Macaca mulatta   \n",
       "Array1_28818_AAAACGAATCTC  NCBITaxon_9544          Macaca mulatta   \n",
       "Array1_28818_AAAACGCTATAC  NCBITaxon_9544          Macaca mulatta   \n",
       "Array1_28818_AAAACTTACGCG  NCBITaxon_9544          Macaca mulatta   \n",
       "Array1_28818_AAAAGAATCACT  NCBITaxon_9544          Macaca mulatta   \n",
       "Array1_28818_AAAAGCCAATGC  NCBITaxon_9544          Macaca mulatta   \n",
       "Array1_28818_AAAAGCGCTTAT  NCBITaxon_9544          Macaca mulatta   \n",
       "Array1_28818_AAAAGGAAGTAG  NCBITaxon_9544          Macaca mulatta   \n",
       "Array1_28818_AAAAGGCAAAGG  NCBITaxon_9544          Macaca mulatta   \n",
       "Array1_28818_AAAAGTAATGTG  NCBITaxon_9544          Macaca mulatta   \n",
       "Array1_28818_AAAAGTACGTGT  NCBITaxon_9544          Macaca mulatta   \n",
       "Array1_28818_AAAAGTATCCGT  NCBITaxon_9544          Macaca mulatta   \n",
       "Array1_28818_AAAAGTCAGTCA  NCBITaxon_9544          Macaca mulatta   \n",
       "Array1_28818_AAAAGTTAGTCC  NCBITaxon_9544          Macaca mulatta   \n",
       "...                                   ...                     ...   \n",
       "Array5_30518_TTTGGTTTTGTA  NCBITaxon_9544          Macaca mulatta   \n",
       "Array5_30518_TTTGTAACCACA  NCBITaxon_9544          Macaca mulatta   \n",
       "Array5_30518_TTTGTATTTCAG  NCBITaxon_9544          Macaca mulatta   \n",
       "Array5_30518_TTTGTCCGGCTC  NCBITaxon_9544          Macaca mulatta   \n",
       "Array5_30518_TTTGTCGCGTAT  NCBITaxon_9544          Macaca mulatta   \n",
       "Array5_30518_TTTGTCGTGCAC  NCBITaxon_9544          Macaca mulatta   \n",
       "Array5_30518_TTTGTTTCTATT  NCBITaxon_9544          Macaca mulatta   \n",
       "Array5_30518_TTTTAAATCAGG  NCBITaxon_9544          Macaca mulatta   \n",
       "Array5_30518_TTTTAAGCTCTA  NCBITaxon_9544          Macaca mulatta   \n",
       "Array5_30518_TTTTAATGTAAC  NCBITaxon_9544          Macaca mulatta   \n",
       "Array5_30518_TTTTACGGTGAT  NCBITaxon_9544          Macaca mulatta   \n",
       "Array5_30518_TTTTACGTTTTG  NCBITaxon_9544          Macaca mulatta   \n",
       "Array5_30518_TTTTAGATCTAA  NCBITaxon_9544          Macaca mulatta   \n",
       "Array5_30518_TTTTAGTACCTT  NCBITaxon_9544          Macaca mulatta   \n",
       "Array5_30518_TTTTAGTGGTCC  NCBITaxon_9544          Macaca mulatta   \n",
       "Array5_30518_TTTTCAAGTGTC  NCBITaxon_9544          Macaca mulatta   \n",
       "Array5_30518_TTTTCAATCCGG  NCBITaxon_9544          Macaca mulatta   \n",
       "Array5_30518_TTTTCACCCGTT  NCBITaxon_9544          Macaca mulatta   \n",
       "Array5_30518_TTTTCAGAAAGC  NCBITaxon_9544          Macaca mulatta   \n",
       "Array5_30518_TTTTCCACAGCA  NCBITaxon_9544          Macaca mulatta   \n",
       "Array5_30518_TTTTCCACGAAC  NCBITaxon_9544          Macaca mulatta   \n",
       "Array5_30518_TTTTCCATTCTG  NCBITaxon_9544          Macaca mulatta   \n",
       "Array5_30518_TTTTCGACTGTT  NCBITaxon_9544          Macaca mulatta   \n",
       "Array5_30518_TTTTCGAGACAG  NCBITaxon_9544          Macaca mulatta   \n",
       "Array5_30518_TTTTCTCATCTC  NCBITaxon_9544          Macaca mulatta   \n",
       "Array5_30518_TTTTGAGAGAAG  NCBITaxon_9544          Macaca mulatta   \n",
       "Array5_30518_TTTTGAGCTCGG  NCBITaxon_9544          Macaca mulatta   \n",
       "Array5_30518_TTTTGCCCAGAG  NCBITaxon_9544          Macaca mulatta   \n",
       "Array5_30518_TTTTGCGGGCCT  NCBITaxon_9544          Macaca mulatta   \n",
       "Array5_30518_TTTTTATTTGTT  NCBITaxon_9544          Macaca mulatta   \n",
       "\n",
       "                          library_preparation_protocol  \\\n",
       "Array1_28818_AAAAAAGCGGTC                  EFO_0008919   \n",
       "Array1_28818_AAAAAATACGAC                  EFO_0008919   \n",
       "Array1_28818_AAAAACAAGGAG                  EFO_0008919   \n",
       "Array1_28818_AAAAACCCTTCT                  EFO_0008919   \n",
       "Array1_28818_AAAAACCTGGGA                  EFO_0008919   \n",
       "Array1_28818_AAAAACTGTGGG                  EFO_0008919   \n",
       "Array1_28818_AAAAAGGGATTG                  EFO_0008919   \n",
       "Array1_28818_AAAAAGTACACA                  EFO_0008919   \n",
       "Array1_28818_AAAAAGTGTGAC                  EFO_0008919   \n",
       "Array1_28818_AAAAATAAACAG                  EFO_0008919   \n",
       "Array1_28818_AAAAATCTGACG                  EFO_0008919   \n",
       "Array1_28818_AAAACACTGGAG                  EFO_0008919   \n",
       "Array1_28818_AAAACAGAGCGA                  EFO_0008919   \n",
       "Array1_28818_AAAACATGTCGT                  EFO_0008919   \n",
       "Array1_28818_AAAACCAAGGTG                  EFO_0008919   \n",
       "Array1_28818_AAAACCGATGTG                  EFO_0008919   \n",
       "Array1_28818_AAAACCTAGTCT                  EFO_0008919   \n",
       "Array1_28818_AAAACGAATCTC                  EFO_0008919   \n",
       "Array1_28818_AAAACGCTATAC                  EFO_0008919   \n",
       "Array1_28818_AAAACTTACGCG                  EFO_0008919   \n",
       "Array1_28818_AAAAGAATCACT                  EFO_0008919   \n",
       "Array1_28818_AAAAGCCAATGC                  EFO_0008919   \n",
       "Array1_28818_AAAAGCGCTTAT                  EFO_0008919   \n",
       "Array1_28818_AAAAGGAAGTAG                  EFO_0008919   \n",
       "Array1_28818_AAAAGGCAAAGG                  EFO_0008919   \n",
       "Array1_28818_AAAAGTAATGTG                  EFO_0008919   \n",
       "Array1_28818_AAAAGTACGTGT                  EFO_0008919   \n",
       "Array1_28818_AAAAGTATCCGT                  EFO_0008919   \n",
       "Array1_28818_AAAAGTCAGTCA                  EFO_0008919   \n",
       "Array1_28818_AAAAGTTAGTCC                  EFO_0008919   \n",
       "...                                                ...   \n",
       "Array5_30518_TTTGGTTTTGTA                  EFO_0008919   \n",
       "Array5_30518_TTTGTAACCACA                  EFO_0008919   \n",
       "Array5_30518_TTTGTATTTCAG                  EFO_0008919   \n",
       "Array5_30518_TTTGTCCGGCTC                  EFO_0008919   \n",
       "Array5_30518_TTTGTCGCGTAT                  EFO_0008919   \n",
       "Array5_30518_TTTGTCGTGCAC                  EFO_0008919   \n",
       "Array5_30518_TTTGTTTCTATT                  EFO_0008919   \n",
       "Array5_30518_TTTTAAATCAGG                  EFO_0008919   \n",
       "Array5_30518_TTTTAAGCTCTA                  EFO_0008919   \n",
       "Array5_30518_TTTTAATGTAAC                  EFO_0008919   \n",
       "Array5_30518_TTTTACGGTGAT                  EFO_0008919   \n",
       "Array5_30518_TTTTACGTTTTG                  EFO_0008919   \n",
       "Array5_30518_TTTTAGATCTAA                  EFO_0008919   \n",
       "Array5_30518_TTTTAGTACCTT                  EFO_0008919   \n",
       "Array5_30518_TTTTAGTGGTCC                  EFO_0008919   \n",
       "Array5_30518_TTTTCAAGTGTC                  EFO_0008919   \n",
       "Array5_30518_TTTTCAATCCGG                  EFO_0008919   \n",
       "Array5_30518_TTTTCACCCGTT                  EFO_0008919   \n",
       "Array5_30518_TTTTCAGAAAGC                  EFO_0008919   \n",
       "Array5_30518_TTTTCCACAGCA                  EFO_0008919   \n",
       "Array5_30518_TTTTCCACGAAC                  EFO_0008919   \n",
       "Array5_30518_TTTTCCATTCTG                  EFO_0008919   \n",
       "Array5_30518_TTTTCGACTGTT                  EFO_0008919   \n",
       "Array5_30518_TTTTCGAGACAG                  EFO_0008919   \n",
       "Array5_30518_TTTTCTCATCTC                  EFO_0008919   \n",
       "Array5_30518_TTTTGAGAGAAG                  EFO_0008919   \n",
       "Array5_30518_TTTTGAGCTCGG                  EFO_0008919   \n",
       "Array5_30518_TTTTGCCCAGAG                  EFO_0008919   \n",
       "Array5_30518_TTTTGCGGGCCT                  EFO_0008919   \n",
       "Array5_30518_TTTTTATTTGTT                  EFO_0008919   \n",
       "\n",
       "                          library_preparation_protocol__ontology_label  \\\n",
       "Array1_28818_AAAAAAGCGGTC                                     Seq-Well   \n",
       "Array1_28818_AAAAAATACGAC                                     Seq-Well   \n",
       "Array1_28818_AAAAACAAGGAG                                     Seq-Well   \n",
       "Array1_28818_AAAAACCCTTCT                                     Seq-Well   \n",
       "Array1_28818_AAAAACCTGGGA                                     Seq-Well   \n",
       "Array1_28818_AAAAACTGTGGG                                     Seq-Well   \n",
       "Array1_28818_AAAAAGGGATTG                                     Seq-Well   \n",
       "Array1_28818_AAAAAGTACACA                                     Seq-Well   \n",
       "Array1_28818_AAAAAGTGTGAC                                     Seq-Well   \n",
       "Array1_28818_AAAAATAAACAG                                     Seq-Well   \n",
       "Array1_28818_AAAAATCTGACG                                     Seq-Well   \n",
       "Array1_28818_AAAACACTGGAG                                     Seq-Well   \n",
       "Array1_28818_AAAACAGAGCGA                                     Seq-Well   \n",
       "Array1_28818_AAAACATGTCGT                                     Seq-Well   \n",
       "Array1_28818_AAAACCAAGGTG                                     Seq-Well   \n",
       "Array1_28818_AAAACCGATGTG                                     Seq-Well   \n",
       "Array1_28818_AAAACCTAGTCT                                     Seq-Well   \n",
       "Array1_28818_AAAACGAATCTC                                     Seq-Well   \n",
       "Array1_28818_AAAACGCTATAC                                     Seq-Well   \n",
       "Array1_28818_AAAACTTACGCG                                     Seq-Well   \n",
       "Array1_28818_AAAAGAATCACT                                     Seq-Well   \n",
       "Array1_28818_AAAAGCCAATGC                                     Seq-Well   \n",
       "Array1_28818_AAAAGCGCTTAT                                     Seq-Well   \n",
       "Array1_28818_AAAAGGAAGTAG                                     Seq-Well   \n",
       "Array1_28818_AAAAGGCAAAGG                                     Seq-Well   \n",
       "Array1_28818_AAAAGTAATGTG                                     Seq-Well   \n",
       "Array1_28818_AAAAGTACGTGT                                     Seq-Well   \n",
       "Array1_28818_AAAAGTATCCGT                                     Seq-Well   \n",
       "Array1_28818_AAAAGTCAGTCA                                     Seq-Well   \n",
       "Array1_28818_AAAAGTTAGTCC                                     Seq-Well   \n",
       "...                                                                ...   \n",
       "Array5_30518_TTTGGTTTTGTA                                     Seq-Well   \n",
       "Array5_30518_TTTGTAACCACA                                     Seq-Well   \n",
       "Array5_30518_TTTGTATTTCAG                                     Seq-Well   \n",
       "Array5_30518_TTTGTCCGGCTC                                     Seq-Well   \n",
       "Array5_30518_TTTGTCGCGTAT                                     Seq-Well   \n",
       "Array5_30518_TTTGTCGTGCAC                                     Seq-Well   \n",
       "Array5_30518_TTTGTTTCTATT                                     Seq-Well   \n",
       "Array5_30518_TTTTAAATCAGG                                     Seq-Well   \n",
       "Array5_30518_TTTTAAGCTCTA                                     Seq-Well   \n",
       "Array5_30518_TTTTAATGTAAC                                     Seq-Well   \n",
       "Array5_30518_TTTTACGGTGAT                                     Seq-Well   \n",
       "Array5_30518_TTTTACGTTTTG                                     Seq-Well   \n",
       "Array5_30518_TTTTAGATCTAA                                     Seq-Well   \n",
       "Array5_30518_TTTTAGTACCTT                                     Seq-Well   \n",
       "Array5_30518_TTTTAGTGGTCC                                     Seq-Well   \n",
       "Array5_30518_TTTTCAAGTGTC                                     Seq-Well   \n",
       "Array5_30518_TTTTCAATCCGG                                     Seq-Well   \n",
       "Array5_30518_TTTTCACCCGTT                                     Seq-Well   \n",
       "Array5_30518_TTTTCAGAAAGC                                     Seq-Well   \n",
       "Array5_30518_TTTTCCACAGCA                                     Seq-Well   \n",
       "Array5_30518_TTTTCCACGAAC                                     Seq-Well   \n",
       "Array5_30518_TTTTCCATTCTG                                     Seq-Well   \n",
       "Array5_30518_TTTTCGACTGTT                                     Seq-Well   \n",
       "Array5_30518_TTTTCGAGACAG                                     Seq-Well   \n",
       "Array5_30518_TTTTCTCATCTC                                     Seq-Well   \n",
       "Array5_30518_TTTTGAGAGAAG                                     Seq-Well   \n",
       "Array5_30518_TTTTGAGCTCGG                                     Seq-Well   \n",
       "Array5_30518_TTTTGCCCAGAG                                     Seq-Well   \n",
       "Array5_30518_TTTTGCGGGCCT                                     Seq-Well   \n",
       "Array5_30518_TTTTTATTTGTT                                     Seq-Well   \n",
       "\n",
       "                                              CellID donor_id  biosample_id  \\\n",
       "Array1_28818_AAAAAAGCGGTC  Array1_28818_AAAAAAGCGGTC    28818  Array1_28818   \n",
       "Array1_28818_AAAAAATACGAC  Array1_28818_AAAAAATACGAC    28818  Array1_28818   \n",
       "Array1_28818_AAAAACAAGGAG  Array1_28818_AAAAACAAGGAG    28818  Array1_28818   \n",
       "Array1_28818_AAAAACCCTTCT  Array1_28818_AAAAACCCTTCT    28818  Array1_28818   \n",
       "Array1_28818_AAAAACCTGGGA  Array1_28818_AAAAACCTGGGA    28818  Array1_28818   \n",
       "Array1_28818_AAAAACTGTGGG  Array1_28818_AAAAACTGTGGG    28818  Array1_28818   \n",
       "Array1_28818_AAAAAGGGATTG  Array1_28818_AAAAAGGGATTG    28818  Array1_28818   \n",
       "Array1_28818_AAAAAGTACACA  Array1_28818_AAAAAGTACACA    28818  Array1_28818   \n",
       "Array1_28818_AAAAAGTGTGAC  Array1_28818_AAAAAGTGTGAC    28818  Array1_28818   \n",
       "Array1_28818_AAAAATAAACAG  Array1_28818_AAAAATAAACAG    28818  Array1_28818   \n",
       "Array1_28818_AAAAATCTGACG  Array1_28818_AAAAATCTGACG    28818  Array1_28818   \n",
       "Array1_28818_AAAACACTGGAG  Array1_28818_AAAACACTGGAG    28818  Array1_28818   \n",
       "Array1_28818_AAAACAGAGCGA  Array1_28818_AAAACAGAGCGA    28818  Array1_28818   \n",
       "Array1_28818_AAAACATGTCGT  Array1_28818_AAAACATGTCGT    28818  Array1_28818   \n",
       "Array1_28818_AAAACCAAGGTG  Array1_28818_AAAACCAAGGTG    28818  Array1_28818   \n",
       "Array1_28818_AAAACCGATGTG  Array1_28818_AAAACCGATGTG    28818  Array1_28818   \n",
       "Array1_28818_AAAACCTAGTCT  Array1_28818_AAAACCTAGTCT    28818  Array1_28818   \n",
       "Array1_28818_AAAACGAATCTC  Array1_28818_AAAACGAATCTC    28818  Array1_28818   \n",
       "Array1_28818_AAAACGCTATAC  Array1_28818_AAAACGCTATAC    28818  Array1_28818   \n",
       "Array1_28818_AAAACTTACGCG  Array1_28818_AAAACTTACGCG    28818  Array1_28818   \n",
       "Array1_28818_AAAAGAATCACT  Array1_28818_AAAAGAATCACT    28818  Array1_28818   \n",
       "Array1_28818_AAAAGCCAATGC  Array1_28818_AAAAGCCAATGC    28818  Array1_28818   \n",
       "Array1_28818_AAAAGCGCTTAT  Array1_28818_AAAAGCGCTTAT    28818  Array1_28818   \n",
       "Array1_28818_AAAAGGAAGTAG  Array1_28818_AAAAGGAAGTAG    28818  Array1_28818   \n",
       "Array1_28818_AAAAGGCAAAGG  Array1_28818_AAAAGGCAAAGG    28818  Array1_28818   \n",
       "Array1_28818_AAAAGTAATGTG  Array1_28818_AAAAGTAATGTG    28818  Array1_28818   \n",
       "Array1_28818_AAAAGTACGTGT  Array1_28818_AAAAGTACGTGT    28818  Array1_28818   \n",
       "Array1_28818_AAAAGTATCCGT  Array1_28818_AAAAGTATCCGT    28818  Array1_28818   \n",
       "Array1_28818_AAAAGTCAGTCA  Array1_28818_AAAAGTCAGTCA    28818  Array1_28818   \n",
       "Array1_28818_AAAAGTTAGTCC  Array1_28818_AAAAGTTAGTCC    28818  Array1_28818   \n",
       "...                                              ...      ...           ...   \n",
       "Array5_30518_TTTGGTTTTGTA  Array5_30518_TTTGGTTTTGTA    30518  Array5_30518   \n",
       "Array5_30518_TTTGTAACCACA  Array5_30518_TTTGTAACCACA    30518  Array5_30518   \n",
       "Array5_30518_TTTGTATTTCAG  Array5_30518_TTTGTATTTCAG    30518  Array5_30518   \n",
       "Array5_30518_TTTGTCCGGCTC  Array5_30518_TTTGTCCGGCTC    30518  Array5_30518   \n",
       "Array5_30518_TTTGTCGCGTAT  Array5_30518_TTTGTCGCGTAT    30518  Array5_30518   \n",
       "Array5_30518_TTTGTCGTGCAC  Array5_30518_TTTGTCGTGCAC    30518  Array5_30518   \n",
       "Array5_30518_TTTGTTTCTATT  Array5_30518_TTTGTTTCTATT    30518  Array5_30518   \n",
       "Array5_30518_TTTTAAATCAGG  Array5_30518_TTTTAAATCAGG    30518  Array5_30518   \n",
       "Array5_30518_TTTTAAGCTCTA  Array5_30518_TTTTAAGCTCTA    30518  Array5_30518   \n",
       "Array5_30518_TTTTAATGTAAC  Array5_30518_TTTTAATGTAAC    30518  Array5_30518   \n",
       "Array5_30518_TTTTACGGTGAT  Array5_30518_TTTTACGGTGAT    30518  Array5_30518   \n",
       "Array5_30518_TTTTACGTTTTG  Array5_30518_TTTTACGTTTTG    30518  Array5_30518   \n",
       "Array5_30518_TTTTAGATCTAA  Array5_30518_TTTTAGATCTAA    30518  Array5_30518   \n",
       "Array5_30518_TTTTAGTACCTT  Array5_30518_TTTTAGTACCTT    30518  Array5_30518   \n",
       "Array5_30518_TTTTAGTGGTCC  Array5_30518_TTTTAGTGGTCC    30518  Array5_30518   \n",
       "Array5_30518_TTTTCAAGTGTC  Array5_30518_TTTTCAAGTGTC    30518  Array5_30518   \n",
       "Array5_30518_TTTTCAATCCGG  Array5_30518_TTTTCAATCCGG    30518  Array5_30518   \n",
       "Array5_30518_TTTTCACCCGTT  Array5_30518_TTTTCACCCGTT    30518  Array5_30518   \n",
       "Array5_30518_TTTTCAGAAAGC  Array5_30518_TTTTCAGAAAGC    30518  Array5_30518   \n",
       "Array5_30518_TTTTCCACAGCA  Array5_30518_TTTTCCACAGCA    30518  Array5_30518   \n",
       "Array5_30518_TTTTCCACGAAC  Array5_30518_TTTTCCACGAAC    30518  Array5_30518   \n",
       "Array5_30518_TTTTCCATTCTG  Array5_30518_TTTTCCATTCTG    30518  Array5_30518   \n",
       "Array5_30518_TTTTCGACTGTT  Array5_30518_TTTTCGACTGTT    30518  Array5_30518   \n",
       "Array5_30518_TTTTCGAGACAG  Array5_30518_TTTTCGAGACAG    30518  Array5_30518   \n",
       "Array5_30518_TTTTCTCATCTC  Array5_30518_TTTTCTCATCTC    30518  Array5_30518   \n",
       "Array5_30518_TTTTGAGAGAAG  Array5_30518_TTTTGAGAGAAG    30518  Array5_30518   \n",
       "Array5_30518_TTTTGAGCTCGG  Array5_30518_TTTTGAGCTCGG    30518  Array5_30518   \n",
       "Array5_30518_TTTTGCCCAGAG  Array5_30518_TTTTGCCCAGAG    30518  Array5_30518   \n",
       "Array5_30518_TTTTGCGGGCCT  Array5_30518_TTTTGCGGGCCT    30518  Array5_30518   \n",
       "Array5_30518_TTTTTATTTGTT  Array5_30518_TTTTTATTTGTT    30518  Array5_30518   \n",
       "\n",
       "                            cell_type cell_type__ontology_label  \\\n",
       "Array1_28818_AAAAAAGCGGTC  CL_0000084                    T cell   \n",
       "Array1_28818_AAAAAATACGAC  CL_0000097                 mast cell   \n",
       "Array1_28818_AAAAACAAGGAG  CL_0000097                 mast cell   \n",
       "Array1_28818_AAAAACCCTTCT  CL_0000235                macrophage   \n",
       "Array1_28818_AAAAACCTGGGA  CL_0000084                    T cell   \n",
       "Array1_28818_AAAAACTGTGGG  CL_0000097                 mast cell   \n",
       "Array1_28818_AAAAAGGGATTG  CL_0000235                macrophage   \n",
       "Array1_28818_AAAAAGTACACA  CL_0000084                    T cell   \n",
       "Array1_28818_AAAAAGTGTGAC  CL_0000236                    B cell   \n",
       "Array1_28818_AAAAATAAACAG  CL_0000084                    T cell   \n",
       "Array1_28818_AAAAATCTGACG  CL_0000097                 mast cell   \n",
       "Array1_28818_AAAACACTGGAG  CL_0000235                macrophage   \n",
       "Array1_28818_AAAACAGAGCGA  CL_0000097                 mast cell   \n",
       "Array1_28818_AAAACATGTCGT  CL_0000236                    B cell   \n",
       "Array1_28818_AAAACCAAGGTG  CL_0000057                fibroblast   \n",
       "Array1_28818_AAAACCGATGTG  CL_0000084                    T cell   \n",
       "Array1_28818_AAAACCTAGTCT  CL_0000235                macrophage   \n",
       "Array1_28818_AAAACGAATCTC  CL_0000097                 mast cell   \n",
       "Array1_28818_AAAACGCTATAC  CL_0000236                    B cell   \n",
       "Array1_28818_AAAACTTACGCG  CL_0000097                 mast cell   \n",
       "Array1_28818_AAAAGAATCACT  CL_0000235                macrophage   \n",
       "Array1_28818_AAAAGCCAATGC  CL_0000084                    T cell   \n",
       "Array1_28818_AAAAGCGCTTAT  CL_0000451            dendritic cell   \n",
       "Array1_28818_AAAAGGAAGTAG  CL_0000235                macrophage   \n",
       "Array1_28818_AAAAGGCAAAGG  CL_0000451            dendritic cell   \n",
       "Array1_28818_AAAAGTAATGTG  CL_0000236                    B cell   \n",
       "Array1_28818_AAAAGTACGTGT  CL_0000236                    B cell   \n",
       "Array1_28818_AAAAGTATCCGT  CL_0000084                    T cell   \n",
       "Array1_28818_AAAAGTCAGTCA  CL_0000235                macrophage   \n",
       "Array1_28818_AAAAGTTAGTCC  CL_0000235                macrophage   \n",
       "...                               ...                       ...   \n",
       "Array5_30518_TTTGGTTTTGTA  CL_0000235                macrophage   \n",
       "Array5_30518_TTTGTAACCACA  CL_0000235                macrophage   \n",
       "Array5_30518_TTTGTATTTCAG  CL_0000235                macrophage   \n",
       "Array5_30518_TTTGTCCGGCTC  CL_0000235                macrophage   \n",
       "Array5_30518_TTTGTCGCGTAT  CL_0000235                macrophage   \n",
       "Array5_30518_TTTGTCGTGCAC  CL_0000235                macrophage   \n",
       "Array5_30518_TTTGTTTCTATT  CL_0000235                macrophage   \n",
       "Array5_30518_TTTTAAATCAGG  CL_0000235                macrophage   \n",
       "Array5_30518_TTTTAAGCTCTA  CL_0000235                macrophage   \n",
       "Array5_30518_TTTTAATGTAAC  CL_0000084                    T cell   \n",
       "Array5_30518_TTTTACGGTGAT  CL_0000235                macrophage   \n",
       "Array5_30518_TTTTACGTTTTG  CL_0000235                macrophage   \n",
       "Array5_30518_TTTTAGATCTAA  CL_0000235                macrophage   \n",
       "Array5_30518_TTTTAGTACCTT  CL_0000235                macrophage   \n",
       "Array5_30518_TTTTAGTGGTCC  CL_0000235                macrophage   \n",
       "Array5_30518_TTTTCAAGTGTC  CL_0000235                macrophage   \n",
       "Array5_30518_TTTTCAATCCGG  CL_0000235                macrophage   \n",
       "Array5_30518_TTTTCACCCGTT  CL_0000775                neutrophil   \n",
       "Array5_30518_TTTTCAGAAAGC  CL_0000235                macrophage   \n",
       "Array5_30518_TTTTCCACAGCA  CL_0000235                macrophage   \n",
       "Array5_30518_TTTTCCACGAAC  CL_0000097                 mast cell   \n",
       "Array5_30518_TTTTCCATTCTG  CL_0000235                macrophage   \n",
       "Array5_30518_TTTTCGACTGTT  CL_0000235                macrophage   \n",
       "Array5_30518_TTTTCGAGACAG  CL_0000235                macrophage   \n",
       "Array5_30518_TTTTCTCATCTC  CL_0000235                macrophage   \n",
       "Array5_30518_TTTTGAGAGAAG  CL_0000235                macrophage   \n",
       "Array5_30518_TTTTGAGCTCGG  CL_0000057                fibroblast   \n",
       "Array5_30518_TTTTGCCCAGAG  CL_0000235                macrophage   \n",
       "Array5_30518_TTTTGCGGGCCT  CL_0000235                macrophage   \n",
       "Array5_30518_TTTTTATTTGTT  CL_0000235                macrophage   \n",
       "\n",
       "                                 disease disease__ontology_label  \\\n",
       "Array1_28818_AAAAAAGCGGTC  MONDO_0018076            tuberculosis   \n",
       "Array1_28818_AAAAAATACGAC  MONDO_0018076            tuberculosis   \n",
       "Array1_28818_AAAAACAAGGAG  MONDO_0018076            tuberculosis   \n",
       "Array1_28818_AAAAACCCTTCT  MONDO_0018076            tuberculosis   \n",
       "Array1_28818_AAAAACCTGGGA  MONDO_0018076            tuberculosis   \n",
       "Array1_28818_AAAAACTGTGGG  MONDO_0018076            tuberculosis   \n",
       "Array1_28818_AAAAAGGGATTG  MONDO_0018076            tuberculosis   \n",
       "Array1_28818_AAAAAGTACACA  MONDO_0018076            tuberculosis   \n",
       "Array1_28818_AAAAAGTGTGAC  MONDO_0018076            tuberculosis   \n",
       "Array1_28818_AAAAATAAACAG  MONDO_0018076            tuberculosis   \n",
       "Array1_28818_AAAAATCTGACG  MONDO_0018076            tuberculosis   \n",
       "Array1_28818_AAAACACTGGAG  MONDO_0018076            tuberculosis   \n",
       "Array1_28818_AAAACAGAGCGA  MONDO_0018076            tuberculosis   \n",
       "Array1_28818_AAAACATGTCGT  MONDO_0018076            tuberculosis   \n",
       "Array1_28818_AAAACCAAGGTG  MONDO_0018076            tuberculosis   \n",
       "Array1_28818_AAAACCGATGTG  MONDO_0018076            tuberculosis   \n",
       "Array1_28818_AAAACCTAGTCT  MONDO_0018076            tuberculosis   \n",
       "Array1_28818_AAAACGAATCTC  MONDO_0018076            tuberculosis   \n",
       "Array1_28818_AAAACGCTATAC  MONDO_0018076            tuberculosis   \n",
       "Array1_28818_AAAACTTACGCG  MONDO_0018076            tuberculosis   \n",
       "Array1_28818_AAAAGAATCACT  MONDO_0018076            tuberculosis   \n",
       "Array1_28818_AAAAGCCAATGC  MONDO_0018076            tuberculosis   \n",
       "Array1_28818_AAAAGCGCTTAT  MONDO_0018076            tuberculosis   \n",
       "Array1_28818_AAAAGGAAGTAG  MONDO_0018076            tuberculosis   \n",
       "Array1_28818_AAAAGGCAAAGG  MONDO_0018076            tuberculosis   \n",
       "Array1_28818_AAAAGTAATGTG  MONDO_0018076            tuberculosis   \n",
       "Array1_28818_AAAAGTACGTGT  MONDO_0018076            tuberculosis   \n",
       "Array1_28818_AAAAGTATCCGT  MONDO_0018076            tuberculosis   \n",
       "Array1_28818_AAAAGTCAGTCA  MONDO_0018076            tuberculosis   \n",
       "Array1_28818_AAAAGTTAGTCC  MONDO_0018076            tuberculosis   \n",
       "...                                  ...                     ...   \n",
       "Array5_30518_TTTGGTTTTGTA  MONDO_0018076            tuberculosis   \n",
       "Array5_30518_TTTGTAACCACA  MONDO_0018076            tuberculosis   \n",
       "Array5_30518_TTTGTATTTCAG  MONDO_0018076            tuberculosis   \n",
       "Array5_30518_TTTGTCCGGCTC  MONDO_0018076            tuberculosis   \n",
       "Array5_30518_TTTGTCGCGTAT  MONDO_0018076            tuberculosis   \n",
       "Array5_30518_TTTGTCGTGCAC  MONDO_0018076            tuberculosis   \n",
       "Array5_30518_TTTGTTTCTATT  MONDO_0018076            tuberculosis   \n",
       "Array5_30518_TTTTAAATCAGG  MONDO_0018076            tuberculosis   \n",
       "Array5_30518_TTTTAAGCTCTA  MONDO_0018076            tuberculosis   \n",
       "Array5_30518_TTTTAATGTAAC  MONDO_0018076            tuberculosis   \n",
       "Array5_30518_TTTTACGGTGAT  MONDO_0018076            tuberculosis   \n",
       "Array5_30518_TTTTACGTTTTG  MONDO_0018076            tuberculosis   \n",
       "Array5_30518_TTTTAGATCTAA  MONDO_0018076            tuberculosis   \n",
       "Array5_30518_TTTTAGTACCTT  MONDO_0018076            tuberculosis   \n",
       "Array5_30518_TTTTAGTGGTCC  MONDO_0018076            tuberculosis   \n",
       "Array5_30518_TTTTCAAGTGTC  MONDO_0018076            tuberculosis   \n",
       "Array5_30518_TTTTCAATCCGG  MONDO_0018076            tuberculosis   \n",
       "Array5_30518_TTTTCACCCGTT  MONDO_0018076            tuberculosis   \n",
       "Array5_30518_TTTTCAGAAAGC  MONDO_0018076            tuberculosis   \n",
       "Array5_30518_TTTTCCACAGCA  MONDO_0018076            tuberculosis   \n",
       "Array5_30518_TTTTCCACGAAC  MONDO_0018076            tuberculosis   \n",
       "Array5_30518_TTTTCCATTCTG  MONDO_0018076            tuberculosis   \n",
       "Array5_30518_TTTTCGACTGTT  MONDO_0018076            tuberculosis   \n",
       "Array5_30518_TTTTCGAGACAG  MONDO_0018076            tuberculosis   \n",
       "Array5_30518_TTTTCTCATCTC  MONDO_0018076            tuberculosis   \n",
       "Array5_30518_TTTTGAGAGAAG  MONDO_0018076            tuberculosis   \n",
       "Array5_30518_TTTTGAGCTCGG  MONDO_0018076            tuberculosis   \n",
       "Array5_30518_TTTTGCCCAGAG  MONDO_0018076            tuberculosis   \n",
       "Array5_30518_TTTTGCGGGCCT  MONDO_0018076            tuberculosis   \n",
       "Array5_30518_TTTTTATTTGTT  MONDO_0018076            tuberculosis   \n",
       "\n",
       "                                    organ     organ__ontology_label  \\\n",
       "Array1_28818_AAAAAAGCGGTC  UBERON_0002170  upper lobe of right lung   \n",
       "Array1_28818_AAAAAATACGAC  UBERON_0002170  upper lobe of right lung   \n",
       "Array1_28818_AAAAACAAGGAG  UBERON_0002170  upper lobe of right lung   \n",
       "Array1_28818_AAAAACCCTTCT  UBERON_0002170  upper lobe of right lung   \n",
       "Array1_28818_AAAAACCTGGGA  UBERON_0002170  upper lobe of right lung   \n",
       "Array1_28818_AAAAACTGTGGG  UBERON_0002170  upper lobe of right lung   \n",
       "Array1_28818_AAAAAGGGATTG  UBERON_0002170  upper lobe of right lung   \n",
       "Array1_28818_AAAAAGTACACA  UBERON_0002170  upper lobe of right lung   \n",
       "Array1_28818_AAAAAGTGTGAC  UBERON_0002170  upper lobe of right lung   \n",
       "Array1_28818_AAAAATAAACAG  UBERON_0002170  upper lobe of right lung   \n",
       "Array1_28818_AAAAATCTGACG  UBERON_0002170  upper lobe of right lung   \n",
       "Array1_28818_AAAACACTGGAG  UBERON_0002170  upper lobe of right lung   \n",
       "Array1_28818_AAAACAGAGCGA  UBERON_0002170  upper lobe of right lung   \n",
       "Array1_28818_AAAACATGTCGT  UBERON_0002170  upper lobe of right lung   \n",
       "Array1_28818_AAAACCAAGGTG  UBERON_0002170  upper lobe of right lung   \n",
       "Array1_28818_AAAACCGATGTG  UBERON_0002170  upper lobe of right lung   \n",
       "Array1_28818_AAAACCTAGTCT  UBERON_0002170  upper lobe of right lung   \n",
       "Array1_28818_AAAACGAATCTC  UBERON_0002170  upper lobe of right lung   \n",
       "Array1_28818_AAAACGCTATAC  UBERON_0002170  upper lobe of right lung   \n",
       "Array1_28818_AAAACTTACGCG  UBERON_0002170  upper lobe of right lung   \n",
       "Array1_28818_AAAAGAATCACT  UBERON_0002170  upper lobe of right lung   \n",
       "Array1_28818_AAAAGCCAATGC  UBERON_0002170  upper lobe of right lung   \n",
       "Array1_28818_AAAAGCGCTTAT  UBERON_0002170  upper lobe of right lung   \n",
       "Array1_28818_AAAAGGAAGTAG  UBERON_0002170  upper lobe of right lung   \n",
       "Array1_28818_AAAAGGCAAAGG  UBERON_0002170  upper lobe of right lung   \n",
       "Array1_28818_AAAAGTAATGTG  UBERON_0002170  upper lobe of right lung   \n",
       "Array1_28818_AAAAGTACGTGT  UBERON_0002170  upper lobe of right lung   \n",
       "Array1_28818_AAAAGTATCCGT  UBERON_0002170  upper lobe of right lung   \n",
       "Array1_28818_AAAAGTCAGTCA  UBERON_0002170  upper lobe of right lung   \n",
       "Array1_28818_AAAAGTTAGTCC  UBERON_0002170  upper lobe of right lung   \n",
       "...                                   ...                       ...   \n",
       "Array5_30518_TTTGGTTTTGTA  UBERON_0008952   upper lobe of left lung   \n",
       "Array5_30518_TTTGTAACCACA  UBERON_0008952   upper lobe of left lung   \n",
       "Array5_30518_TTTGTATTTCAG  UBERON_0008952   upper lobe of left lung   \n",
       "Array5_30518_TTTGTCCGGCTC  UBERON_0008952   upper lobe of left lung   \n",
       "Array5_30518_TTTGTCGCGTAT  UBERON_0008952   upper lobe of left lung   \n",
       "Array5_30518_TTTGTCGTGCAC  UBERON_0008952   upper lobe of left lung   \n",
       "Array5_30518_TTTGTTTCTATT  UBERON_0008952   upper lobe of left lung   \n",
       "Array5_30518_TTTTAAATCAGG  UBERON_0008952   upper lobe of left lung   \n",
       "Array5_30518_TTTTAAGCTCTA  UBERON_0008952   upper lobe of left lung   \n",
       "Array5_30518_TTTTAATGTAAC  UBERON_0008952   upper lobe of left lung   \n",
       "Array5_30518_TTTTACGGTGAT  UBERON_0008952   upper lobe of left lung   \n",
       "Array5_30518_TTTTACGTTTTG  UBERON_0008952   upper lobe of left lung   \n",
       "Array5_30518_TTTTAGATCTAA  UBERON_0008952   upper lobe of left lung   \n",
       "Array5_30518_TTTTAGTACCTT  UBERON_0008952   upper lobe of left lung   \n",
       "Array5_30518_TTTTAGTGGTCC  UBERON_0008952   upper lobe of left lung   \n",
       "Array5_30518_TTTTCAAGTGTC  UBERON_0008952   upper lobe of left lung   \n",
       "Array5_30518_TTTTCAATCCGG  UBERON_0008952   upper lobe of left lung   \n",
       "Array5_30518_TTTTCACCCGTT  UBERON_0008952   upper lobe of left lung   \n",
       "Array5_30518_TTTTCAGAAAGC  UBERON_0008952   upper lobe of left lung   \n",
       "Array5_30518_TTTTCCACAGCA  UBERON_0008952   upper lobe of left lung   \n",
       "Array5_30518_TTTTCCACGAAC  UBERON_0008952   upper lobe of left lung   \n",
       "Array5_30518_TTTTCCATTCTG  UBERON_0008952   upper lobe of left lung   \n",
       "Array5_30518_TTTTCGACTGTT  UBERON_0008952   upper lobe of left lung   \n",
       "Array5_30518_TTTTCGAGACAG  UBERON_0008952   upper lobe of left lung   \n",
       "Array5_30518_TTTTCTCATCTC  UBERON_0008952   upper lobe of left lung   \n",
       "Array5_30518_TTTTGAGAGAAG  UBERON_0008952   upper lobe of left lung   \n",
       "Array5_30518_TTTTGAGCTCGG  UBERON_0008952   upper lobe of left lung   \n",
       "Array5_30518_TTTTGCCCAGAG  UBERON_0008952   upper lobe of left lung   \n",
       "Array5_30518_TTTTGCGGGCCT  UBERON_0008952   upper lobe of left lung   \n",
       "Array5_30518_TTTTTATTTGTT  UBERON_0008952   upper lobe of left lung   \n",
       "\n",
       "                           disease__time_since_onset is_living  \\\n",
       "Array1_28818_AAAAAAGCGGTC                        6.0        no   \n",
       "Array1_28818_AAAAAATACGAC                        6.0        no   \n",
       "Array1_28818_AAAAACAAGGAG                        6.0        no   \n",
       "Array1_28818_AAAAACCCTTCT                        6.0        no   \n",
       "Array1_28818_AAAAACCTGGGA                        6.0        no   \n",
       "Array1_28818_AAAAACTGTGGG                        6.0        no   \n",
       "Array1_28818_AAAAAGGGATTG                        6.0        no   \n",
       "Array1_28818_AAAAAGTACACA                        6.0        no   \n",
       "Array1_28818_AAAAAGTGTGAC                        6.0        no   \n",
       "Array1_28818_AAAAATAAACAG                        6.0        no   \n",
       "Array1_28818_AAAAATCTGACG                        6.0        no   \n",
       "Array1_28818_AAAACACTGGAG                        6.0        no   \n",
       "Array1_28818_AAAACAGAGCGA                        6.0        no   \n",
       "Array1_28818_AAAACATGTCGT                        6.0        no   \n",
       "Array1_28818_AAAACCAAGGTG                        6.0        no   \n",
       "Array1_28818_AAAACCGATGTG                        6.0        no   \n",
       "Array1_28818_AAAACCTAGTCT                        6.0        no   \n",
       "Array1_28818_AAAACGAATCTC                        6.0        no   \n",
       "Array1_28818_AAAACGCTATAC                        6.0        no   \n",
       "Array1_28818_AAAACTTACGCG                        6.0        no   \n",
       "Array1_28818_AAAAGAATCACT                        6.0        no   \n",
       "Array1_28818_AAAAGCCAATGC                        6.0        no   \n",
       "Array1_28818_AAAAGCGCTTAT                        6.0        no   \n",
       "Array1_28818_AAAAGGAAGTAG                        6.0        no   \n",
       "Array1_28818_AAAAGGCAAAGG                        6.0        no   \n",
       "Array1_28818_AAAAGTAATGTG                        6.0        no   \n",
       "Array1_28818_AAAAGTACGTGT                        6.0        no   \n",
       "Array1_28818_AAAAGTATCCGT                        6.0        no   \n",
       "Array1_28818_AAAAGTCAGTCA                        6.0        no   \n",
       "Array1_28818_AAAAGTTAGTCC                        6.0        no   \n",
       "...                                              ...       ...   \n",
       "Array5_30518_TTTGGTTTTGTA                        6.0        no   \n",
       "Array5_30518_TTTGTAACCACA                        6.0        no   \n",
       "Array5_30518_TTTGTATTTCAG                        6.0        no   \n",
       "Array5_30518_TTTGTCCGGCTC                        6.0        no   \n",
       "Array5_30518_TTTGTCGCGTAT                        6.0        no   \n",
       "Array5_30518_TTTGTCGTGCAC                        6.0        no   \n",
       "Array5_30518_TTTGTTTCTATT                        6.0        no   \n",
       "Array5_30518_TTTTAAATCAGG                        6.0        no   \n",
       "Array5_30518_TTTTAAGCTCTA                        6.0        no   \n",
       "Array5_30518_TTTTAATGTAAC                        6.0        no   \n",
       "Array5_30518_TTTTACGGTGAT                        6.0        no   \n",
       "Array5_30518_TTTTACGTTTTG                        6.0        no   \n",
       "Array5_30518_TTTTAGATCTAA                        6.0        no   \n",
       "Array5_30518_TTTTAGTACCTT                        6.0        no   \n",
       "Array5_30518_TTTTAGTGGTCC                        6.0        no   \n",
       "Array5_30518_TTTTCAAGTGTC                        6.0        no   \n",
       "Array5_30518_TTTTCAATCCGG                        6.0        no   \n",
       "Array5_30518_TTTTCACCCGTT                        6.0        no   \n",
       "Array5_30518_TTTTCAGAAAGC                        6.0        no   \n",
       "Array5_30518_TTTTCCACAGCA                        6.0        no   \n",
       "Array5_30518_TTTTCCACGAAC                        6.0        no   \n",
       "Array5_30518_TTTTCCATTCTG                        6.0        no   \n",
       "Array5_30518_TTTTCGACTGTT                        6.0        no   \n",
       "Array5_30518_TTTTCGAGACAG                        6.0        no   \n",
       "Array5_30518_TTTTCTCATCTC                        6.0        no   \n",
       "Array5_30518_TTTTGAGAGAAG                        6.0        no   \n",
       "Array5_30518_TTTTGAGCTCGG                        6.0        no   \n",
       "Array5_30518_TTTTGCCCAGAG                        6.0        no   \n",
       "Array5_30518_TTTTGCGGGCCT                        6.0        no   \n",
       "Array5_30518_TTTTTATTTGTT                        6.0        no   \n",
       "\n",
       "                                         sample_type  \\\n",
       "Array1_28818_AAAAAAGCGGTC  direct from donor - fresh   \n",
       "Array1_28818_AAAAAATACGAC  direct from donor - fresh   \n",
       "Array1_28818_AAAAACAAGGAG  direct from donor - fresh   \n",
       "Array1_28818_AAAAACCCTTCT  direct from donor - fresh   \n",
       "Array1_28818_AAAAACCTGGGA  direct from donor - fresh   \n",
       "Array1_28818_AAAAACTGTGGG  direct from donor - fresh   \n",
       "Array1_28818_AAAAAGGGATTG  direct from donor - fresh   \n",
       "Array1_28818_AAAAAGTACACA  direct from donor - fresh   \n",
       "Array1_28818_AAAAAGTGTGAC  direct from donor - fresh   \n",
       "Array1_28818_AAAAATAAACAG  direct from donor - fresh   \n",
       "Array1_28818_AAAAATCTGACG  direct from donor - fresh   \n",
       "Array1_28818_AAAACACTGGAG  direct from donor - fresh   \n",
       "Array1_28818_AAAACAGAGCGA  direct from donor - fresh   \n",
       "Array1_28818_AAAACATGTCGT  direct from donor - fresh   \n",
       "Array1_28818_AAAACCAAGGTG  direct from donor - fresh   \n",
       "Array1_28818_AAAACCGATGTG  direct from donor - fresh   \n",
       "Array1_28818_AAAACCTAGTCT  direct from donor - fresh   \n",
       "Array1_28818_AAAACGAATCTC  direct from donor - fresh   \n",
       "Array1_28818_AAAACGCTATAC  direct from donor - fresh   \n",
       "Array1_28818_AAAACTTACGCG  direct from donor - fresh   \n",
       "Array1_28818_AAAAGAATCACT  direct from donor - fresh   \n",
       "Array1_28818_AAAAGCCAATGC  direct from donor - fresh   \n",
       "Array1_28818_AAAAGCGCTTAT  direct from donor - fresh   \n",
       "Array1_28818_AAAAGGAAGTAG  direct from donor - fresh   \n",
       "Array1_28818_AAAAGGCAAAGG  direct from donor - fresh   \n",
       "Array1_28818_AAAAGTAATGTG  direct from donor - fresh   \n",
       "Array1_28818_AAAAGTACGTGT  direct from donor - fresh   \n",
       "Array1_28818_AAAAGTATCCGT  direct from donor - fresh   \n",
       "Array1_28818_AAAAGTCAGTCA  direct from donor - fresh   \n",
       "Array1_28818_AAAAGTTAGTCC  direct from donor - fresh   \n",
       "...                                              ...   \n",
       "Array5_30518_TTTGGTTTTGTA  direct from donor - fresh   \n",
       "Array5_30518_TTTGTAACCACA  direct from donor - fresh   \n",
       "Array5_30518_TTTGTATTTCAG  direct from donor - fresh   \n",
       "Array5_30518_TTTGTCCGGCTC  direct from donor - fresh   \n",
       "Array5_30518_TTTGTCGCGTAT  direct from donor - fresh   \n",
       "Array5_30518_TTTGTCGTGCAC  direct from donor - fresh   \n",
       "Array5_30518_TTTGTTTCTATT  direct from donor - fresh   \n",
       "Array5_30518_TTTTAAATCAGG  direct from donor - fresh   \n",
       "Array5_30518_TTTTAAGCTCTA  direct from donor - fresh   \n",
       "Array5_30518_TTTTAATGTAAC  direct from donor - fresh   \n",
       "Array5_30518_TTTTACGGTGAT  direct from donor - fresh   \n",
       "Array5_30518_TTTTACGTTTTG  direct from donor - fresh   \n",
       "Array5_30518_TTTTAGATCTAA  direct from donor - fresh   \n",
       "Array5_30518_TTTTAGTACCTT  direct from donor - fresh   \n",
       "Array5_30518_TTTTAGTGGTCC  direct from donor - fresh   \n",
       "Array5_30518_TTTTCAAGTGTC  direct from donor - fresh   \n",
       "Array5_30518_TTTTCAATCCGG  direct from donor - fresh   \n",
       "Array5_30518_TTTTCACCCGTT  direct from donor - fresh   \n",
       "Array5_30518_TTTTCAGAAAGC  direct from donor - fresh   \n",
       "Array5_30518_TTTTCCACAGCA  direct from donor - fresh   \n",
       "Array5_30518_TTTTCCACGAAC  direct from donor - fresh   \n",
       "Array5_30518_TTTTCCATTCTG  direct from donor - fresh   \n",
       "Array5_30518_TTTTCGACTGTT  direct from donor - fresh   \n",
       "Array5_30518_TTTTCGAGACAG  direct from donor - fresh   \n",
       "Array5_30518_TTTTCTCATCTC  direct from donor - fresh   \n",
       "Array5_30518_TTTTGAGAGAAG  direct from donor - fresh   \n",
       "Array5_30518_TTTTGAGCTCGG  direct from donor - fresh   \n",
       "Array5_30518_TTTTGCCCAGAG  direct from donor - fresh   \n",
       "Array5_30518_TTTTGCGGGCCT  direct from donor - fresh   \n",
       "Array5_30518_TTTTTATTTGTT  direct from donor - fresh   \n",
       "\n",
       "                          sequencing_instrument_manufacturer_model  \\\n",
       "Array1_28818_AAAAAAGCGGTC                              EFO_0008637   \n",
       "Array1_28818_AAAAAATACGAC                              EFO_0008637   \n",
       "Array1_28818_AAAAACAAGGAG                              EFO_0008637   \n",
       "Array1_28818_AAAAACCCTTCT                              EFO_0008637   \n",
       "Array1_28818_AAAAACCTGGGA                              EFO_0008637   \n",
       "Array1_28818_AAAAACTGTGGG                              EFO_0008637   \n",
       "Array1_28818_AAAAAGGGATTG                              EFO_0008637   \n",
       "Array1_28818_AAAAAGTACACA                              EFO_0008637   \n",
       "Array1_28818_AAAAAGTGTGAC                              EFO_0008637   \n",
       "Array1_28818_AAAAATAAACAG                              EFO_0008637   \n",
       "Array1_28818_AAAAATCTGACG                              EFO_0008637   \n",
       "Array1_28818_AAAACACTGGAG                              EFO_0008637   \n",
       "Array1_28818_AAAACAGAGCGA                              EFO_0008637   \n",
       "Array1_28818_AAAACATGTCGT                              EFO_0008637   \n",
       "Array1_28818_AAAACCAAGGTG                              EFO_0008637   \n",
       "Array1_28818_AAAACCGATGTG                              EFO_0008637   \n",
       "Array1_28818_AAAACCTAGTCT                              EFO_0008637   \n",
       "Array1_28818_AAAACGAATCTC                              EFO_0008637   \n",
       "Array1_28818_AAAACGCTATAC                              EFO_0008637   \n",
       "Array1_28818_AAAACTTACGCG                              EFO_0008637   \n",
       "Array1_28818_AAAAGAATCACT                              EFO_0008637   \n",
       "Array1_28818_AAAAGCCAATGC                              EFO_0008637   \n",
       "Array1_28818_AAAAGCGCTTAT                              EFO_0008637   \n",
       "Array1_28818_AAAAGGAAGTAG                              EFO_0008637   \n",
       "Array1_28818_AAAAGGCAAAGG                              EFO_0008637   \n",
       "Array1_28818_AAAAGTAATGTG                              EFO_0008637   \n",
       "Array1_28818_AAAAGTACGTGT                              EFO_0008637   \n",
       "Array1_28818_AAAAGTATCCGT                              EFO_0008637   \n",
       "Array1_28818_AAAAGTCAGTCA                              EFO_0008637   \n",
       "Array1_28818_AAAAGTTAGTCC                              EFO_0008637   \n",
       "...                                                            ...   \n",
       "Array5_30518_TTTGGTTTTGTA                              EFO_0008637   \n",
       "Array5_30518_TTTGTAACCACA                              EFO_0008637   \n",
       "Array5_30518_TTTGTATTTCAG                              EFO_0008637   \n",
       "Array5_30518_TTTGTCCGGCTC                              EFO_0008637   \n",
       "Array5_30518_TTTGTCGCGTAT                              EFO_0008637   \n",
       "Array5_30518_TTTGTCGTGCAC                              EFO_0008637   \n",
       "Array5_30518_TTTGTTTCTATT                              EFO_0008637   \n",
       "Array5_30518_TTTTAAATCAGG                              EFO_0008637   \n",
       "Array5_30518_TTTTAAGCTCTA                              EFO_0008637   \n",
       "Array5_30518_TTTTAATGTAAC                              EFO_0008637   \n",
       "Array5_30518_TTTTACGGTGAT                              EFO_0008637   \n",
       "Array5_30518_TTTTACGTTTTG                              EFO_0008637   \n",
       "Array5_30518_TTTTAGATCTAA                              EFO_0008637   \n",
       "Array5_30518_TTTTAGTACCTT                              EFO_0008637   \n",
       "Array5_30518_TTTTAGTGGTCC                              EFO_0008637   \n",
       "Array5_30518_TTTTCAAGTGTC                              EFO_0008637   \n",
       "Array5_30518_TTTTCAATCCGG                              EFO_0008637   \n",
       "Array5_30518_TTTTCACCCGTT                              EFO_0008637   \n",
       "Array5_30518_TTTTCAGAAAGC                              EFO_0008637   \n",
       "Array5_30518_TTTTCCACAGCA                              EFO_0008637   \n",
       "Array5_30518_TTTTCCACGAAC                              EFO_0008637   \n",
       "Array5_30518_TTTTCCATTCTG                              EFO_0008637   \n",
       "Array5_30518_TTTTCGACTGTT                              EFO_0008637   \n",
       "Array5_30518_TTTTCGAGACAG                              EFO_0008637   \n",
       "Array5_30518_TTTTCTCATCTC                              EFO_0008637   \n",
       "Array5_30518_TTTTGAGAGAAG                              EFO_0008637   \n",
       "Array5_30518_TTTTGAGCTCGG                              EFO_0008637   \n",
       "Array5_30518_TTTTGCCCAGAG                              EFO_0008637   \n",
       "Array5_30518_TTTTGCGGGCCT                              EFO_0008637   \n",
       "Array5_30518_TTTTTATTTGTT                              EFO_0008637   \n",
       "\n",
       "                          sequencing_instrument_manufacturer_model__ontology_label  \\\n",
       "Array1_28818_AAAAAAGCGGTC                              Illumina NovaSeq 6000         \n",
       "Array1_28818_AAAAAATACGAC                              Illumina NovaSeq 6000         \n",
       "Array1_28818_AAAAACAAGGAG                              Illumina NovaSeq 6000         \n",
       "Array1_28818_AAAAACCCTTCT                              Illumina NovaSeq 6000         \n",
       "Array1_28818_AAAAACCTGGGA                              Illumina NovaSeq 6000         \n",
       "Array1_28818_AAAAACTGTGGG                              Illumina NovaSeq 6000         \n",
       "Array1_28818_AAAAAGGGATTG                              Illumina NovaSeq 6000         \n",
       "Array1_28818_AAAAAGTACACA                              Illumina NovaSeq 6000         \n",
       "Array1_28818_AAAAAGTGTGAC                              Illumina NovaSeq 6000         \n",
       "Array1_28818_AAAAATAAACAG                              Illumina NovaSeq 6000         \n",
       "Array1_28818_AAAAATCTGACG                              Illumina NovaSeq 6000         \n",
       "Array1_28818_AAAACACTGGAG                              Illumina NovaSeq 6000         \n",
       "Array1_28818_AAAACAGAGCGA                              Illumina NovaSeq 6000         \n",
       "Array1_28818_AAAACATGTCGT                              Illumina NovaSeq 6000         \n",
       "Array1_28818_AAAACCAAGGTG                              Illumina NovaSeq 6000         \n",
       "Array1_28818_AAAACCGATGTG                              Illumina NovaSeq 6000         \n",
       "Array1_28818_AAAACCTAGTCT                              Illumina NovaSeq 6000         \n",
       "Array1_28818_AAAACGAATCTC                              Illumina NovaSeq 6000         \n",
       "Array1_28818_AAAACGCTATAC                              Illumina NovaSeq 6000         \n",
       "Array1_28818_AAAACTTACGCG                              Illumina NovaSeq 6000         \n",
       "Array1_28818_AAAAGAATCACT                              Illumina NovaSeq 6000         \n",
       "Array1_28818_AAAAGCCAATGC                              Illumina NovaSeq 6000         \n",
       "Array1_28818_AAAAGCGCTTAT                              Illumina NovaSeq 6000         \n",
       "Array1_28818_AAAAGGAAGTAG                              Illumina NovaSeq 6000         \n",
       "Array1_28818_AAAAGGCAAAGG                              Illumina NovaSeq 6000         \n",
       "Array1_28818_AAAAGTAATGTG                              Illumina NovaSeq 6000         \n",
       "Array1_28818_AAAAGTACGTGT                              Illumina NovaSeq 6000         \n",
       "Array1_28818_AAAAGTATCCGT                              Illumina NovaSeq 6000         \n",
       "Array1_28818_AAAAGTCAGTCA                              Illumina NovaSeq 6000         \n",
       "Array1_28818_AAAAGTTAGTCC                              Illumina NovaSeq 6000         \n",
       "...                                                                      ...         \n",
       "Array5_30518_TTTGGTTTTGTA                              Illumina NovaSeq 6000         \n",
       "Array5_30518_TTTGTAACCACA                              Illumina NovaSeq 6000         \n",
       "Array5_30518_TTTGTATTTCAG                              Illumina NovaSeq 6000         \n",
       "Array5_30518_TTTGTCCGGCTC                              Illumina NovaSeq 6000         \n",
       "Array5_30518_TTTGTCGCGTAT                              Illumina NovaSeq 6000         \n",
       "Array5_30518_TTTGTCGTGCAC                              Illumina NovaSeq 6000         \n",
       "Array5_30518_TTTGTTTCTATT                              Illumina NovaSeq 6000         \n",
       "Array5_30518_TTTTAAATCAGG                              Illumina NovaSeq 6000         \n",
       "Array5_30518_TTTTAAGCTCTA                              Illumina NovaSeq 6000         \n",
       "Array5_30518_TTTTAATGTAAC                              Illumina NovaSeq 6000         \n",
       "Array5_30518_TTTTACGGTGAT                              Illumina NovaSeq 6000         \n",
       "Array5_30518_TTTTACGTTTTG                              Illumina NovaSeq 6000         \n",
       "Array5_30518_TTTTAGATCTAA                              Illumina NovaSeq 6000         \n",
       "Array5_30518_TTTTAGTACCTT                              Illumina NovaSeq 6000         \n",
       "Array5_30518_TTTTAGTGGTCC                              Illumina NovaSeq 6000         \n",
       "Array5_30518_TTTTCAAGTGTC                              Illumina NovaSeq 6000         \n",
       "Array5_30518_TTTTCAATCCGG                              Illumina NovaSeq 6000         \n",
       "Array5_30518_TTTTCACCCGTT                              Illumina NovaSeq 6000         \n",
       "Array5_30518_TTTTCAGAAAGC                              Illumina NovaSeq 6000         \n",
       "Array5_30518_TTTTCCACAGCA                              Illumina NovaSeq 6000         \n",
       "Array5_30518_TTTTCCACGAAC                              Illumina NovaSeq 6000         \n",
       "Array5_30518_TTTTCCATTCTG                              Illumina NovaSeq 6000         \n",
       "Array5_30518_TTTTCGACTGTT                              Illumina NovaSeq 6000         \n",
       "Array5_30518_TTTTCGAGACAG                              Illumina NovaSeq 6000         \n",
       "Array5_30518_TTTTCTCATCTC                              Illumina NovaSeq 6000         \n",
       "Array5_30518_TTTTGAGAGAAG                              Illumina NovaSeq 6000         \n",
       "Array5_30518_TTTTGAGCTCGG                              Illumina NovaSeq 6000         \n",
       "Array5_30518_TTTTGCCCAGAG                              Illumina NovaSeq 6000         \n",
       "Array5_30518_TTTTGCGGGCCT                              Illumina NovaSeq 6000         \n",
       "Array5_30518_TTTTTATTTGTT                              Illumina NovaSeq 6000         \n",
       "\n",
       "                               sex  \n",
       "Array1_28818_AAAAAAGCGGTC  unknown  \n",
       "Array1_28818_AAAAAATACGAC  unknown  \n",
       "Array1_28818_AAAAACAAGGAG  unknown  \n",
       "Array1_28818_AAAAACCCTTCT  unknown  \n",
       "Array1_28818_AAAAACCTGGGA  unknown  \n",
       "Array1_28818_AAAAACTGTGGG  unknown  \n",
       "Array1_28818_AAAAAGGGATTG  unknown  \n",
       "Array1_28818_AAAAAGTACACA  unknown  \n",
       "Array1_28818_AAAAAGTGTGAC  unknown  \n",
       "Array1_28818_AAAAATAAACAG  unknown  \n",
       "Array1_28818_AAAAATCTGACG  unknown  \n",
       "Array1_28818_AAAACACTGGAG  unknown  \n",
       "Array1_28818_AAAACAGAGCGA  unknown  \n",
       "Array1_28818_AAAACATGTCGT  unknown  \n",
       "Array1_28818_AAAACCAAGGTG  unknown  \n",
       "Array1_28818_AAAACCGATGTG  unknown  \n",
       "Array1_28818_AAAACCTAGTCT  unknown  \n",
       "Array1_28818_AAAACGAATCTC  unknown  \n",
       "Array1_28818_AAAACGCTATAC  unknown  \n",
       "Array1_28818_AAAACTTACGCG  unknown  \n",
       "Array1_28818_AAAAGAATCACT  unknown  \n",
       "Array1_28818_AAAAGCCAATGC  unknown  \n",
       "Array1_28818_AAAAGCGCTTAT  unknown  \n",
       "Array1_28818_AAAAGGAAGTAG  unknown  \n",
       "Array1_28818_AAAAGGCAAAGG  unknown  \n",
       "Array1_28818_AAAAGTAATGTG  unknown  \n",
       "Array1_28818_AAAAGTACGTGT  unknown  \n",
       "Array1_28818_AAAAGTATCCGT  unknown  \n",
       "Array1_28818_AAAAGTCAGTCA  unknown  \n",
       "Array1_28818_AAAAGTTAGTCC  unknown  \n",
       "...                            ...  \n",
       "Array5_30518_TTTGGTTTTGTA  unknown  \n",
       "Array5_30518_TTTGTAACCACA  unknown  \n",
       "Array5_30518_TTTGTATTTCAG  unknown  \n",
       "Array5_30518_TTTGTCCGGCTC  unknown  \n",
       "Array5_30518_TTTGTCGCGTAT  unknown  \n",
       "Array5_30518_TTTGTCGTGCAC  unknown  \n",
       "Array5_30518_TTTGTTTCTATT  unknown  \n",
       "Array5_30518_TTTTAAATCAGG  unknown  \n",
       "Array5_30518_TTTTAAGCTCTA  unknown  \n",
       "Array5_30518_TTTTAATGTAAC  unknown  \n",
       "Array5_30518_TTTTACGGTGAT  unknown  \n",
       "Array5_30518_TTTTACGTTTTG  unknown  \n",
       "Array5_30518_TTTTAGATCTAA  unknown  \n",
       "Array5_30518_TTTTAGTACCTT  unknown  \n",
       "Array5_30518_TTTTAGTGGTCC  unknown  \n",
       "Array5_30518_TTTTCAAGTGTC  unknown  \n",
       "Array5_30518_TTTTCAATCCGG  unknown  \n",
       "Array5_30518_TTTTCACCCGTT  unknown  \n",
       "Array5_30518_TTTTCAGAAAGC  unknown  \n",
       "Array5_30518_TTTTCCACAGCA  unknown  \n",
       "Array5_30518_TTTTCCACGAAC  unknown  \n",
       "Array5_30518_TTTTCCATTCTG  unknown  \n",
       "Array5_30518_TTTTCGACTGTT  unknown  \n",
       "Array5_30518_TTTTCGAGACAG  unknown  \n",
       "Array5_30518_TTTTCTCATCTC  unknown  \n",
       "Array5_30518_TTTTGAGAGAAG  unknown  \n",
       "Array5_30518_TTTTGAGCTCGG  unknown  \n",
       "Array5_30518_TTTTGCCCAGAG  unknown  \n",
       "Array5_30518_TTTTGCGGGCCT  unknown  \n",
       "Array5_30518_TTTTTATTTGTT  unknown  \n",
       "\n",
       "[215238 rows x 19 columns]"
      ]
     },
     "execution_count": 50,
     "metadata": {},
     "output_type": "execute_result"
    }
   ],
   "source": [
    "cell_level_metadata"
   ]
  },
  {
   "cell_type": "code",
   "execution_count": 23,
   "metadata": {},
   "outputs": [
    {
     "data": {
      "text/plain": [
       "array(['BM01', 'BM02', 'BM03', 'BM04', 'BM05', 'BM06', 'BM07', 'BM08',\n",
       "       'BM10', 'poop', 'BM11'], dtype=object)"
      ]
     },
     "execution_count": 23,
     "metadata": {},
     "output_type": "execute_result"
    }
   ],
   "source": [
    "cell_level_metadata[\"donor_id\"].unique()"
   ]
  },
  {
   "cell_type": "markdown",
   "metadata": {},
   "source": [
    "Now if you have any more files to add, go back to _Step 3b_. If not go to the next cell"
   ]
  },
  {
   "cell_type": "markdown",
   "metadata": {},
   "source": [
    "## Step 3c: Check that all required keys are mapped"
   ]
  },
  {
   "cell_type": "code",
   "execution_count": 51,
   "metadata": {},
   "outputs": [],
   "source": [
    "required_keys = metadata_info.loc[metadata_info[\"required\"]==\"Yes\"].index"
   ]
  },
  {
   "cell_type": "code",
   "execution_count": null,
   "metadata": {},
   "outputs": [],
   "source": []
  },
  {
   "cell_type": "code",
   "execution_count": 52,
   "metadata": {},
   "outputs": [],
   "source": [
    "for k in required_keys:\n",
    "    if k not in cell_level_metadata.columns:\n",
    "        #default?\n",
    "        default_val = metadata_info.loc[k,\"default\"]\n",
    "        if type(default_val) is str: # this is sketchy but right now all the defaults are strings so whatevs\n",
    "            cell_level_metadata[k] = default_val\n",
    "        else:\n",
    "            print(\"You need to add a value for \"+k+\" before proceeding!\")"
   ]
  },
  {
   "cell_type": "markdown",
   "metadata": {},
   "source": [
    "To add these required values you should go back to Step 3b. "
   ]
  },
  {
   "cell_type": "markdown",
   "metadata": {},
   "source": [
    "## Step 3d: All numeric metadata needs units, so now add units..."
   ]
  },
  {
   "cell_type": "code",
   "execution_count": 53,
   "metadata": {},
   "outputs": [
    {
     "name": "stdout",
     "output_type": "stream",
     "text": [
      "1\n"
     ]
    },
    {
     "data": {
      "application/vnd.jupyter.widget-view+json": {
       "model_id": "659d9f3341d34f948f807434ac1ba4dd",
       "version_major": 2,
       "version_minor": 0
      },
      "text/plain": [
       "Dropdown(description='disease__time_since_onset__unit', options=((\"month: A time unit which is approximately e…"
      ]
     },
     "metadata": {},
     "output_type": "display_data"
    }
   ],
   "source": [
    "# make a list of unit metadata that you have\n",
    "my_metadata_info = metadata_info.loc[cell_level_metadata.columns]\n",
    "unit_dropdowns = {}\n",
    "name_id_dicts = {}\n",
    "for dep_metadata in my_metadata_info.loc[~my_metadata_info[\"dependent\"].isna()].index:\n",
    "    m_name = metadata_info.loc[dep_metadata,\"dependent\"]\n",
    "    \n",
    "    if metadata_info.loc[m_name, \"class\"] == \"ontology\":\n",
    "        ont = metadata_info.loc[m_name, \"ontology\"].split(\"/\")[-1]\n",
    "        list_for_dropdown, name_id_dict = uh.query_all_values_under_root(ont,metadata_info.loc[m_name, \"ontology_root\"])\n",
    "        unit_dropdowns[m_name] = uh.choose_metadata_name_dropdown(list_for_dropdown,m_name)\n",
    "        name_id_dicts[m_name] = name_id_dict\n",
    "    else:\n",
    "        unit_dropdowns[m_name] = widgets.Text(\n",
    "                    value=\"type unit here\",\n",
    "                    placeholder='type unit here',\n",
    "                    description=m_name,\n",
    "                    disabled=False\n",
    "                )\n",
    "    \n",
    "for n,v in unit_dropdowns.items():\n",
    "    display(v)"
   ]
  },
  {
   "cell_type": "code",
   "execution_count": 54,
   "metadata": {},
   "outputs": [],
   "source": [
    "unit_values = {}\n",
    "for n,v in unit_dropdowns.items():\n",
    "    cells_with_dep = cell_level_metadata.loc[~cell_level_metadata[metadata_info.loc[n,\"dependency\"]].isna()].index\n",
    "    val = v.value\n",
    "    if n in name_id_dicts:\n",
    "        cell_level_metadata.loc[cells_with_dep, n+\"_label\"] = name_id_dicts[n][val]\n",
    "    cell_level_metadata.loc[cells_with_dep,n] = val\n",
    "\n"
   ]
  },
  {
   "cell_type": "code",
   "execution_count": 307,
   "metadata": {},
   "outputs": [
    {
     "data": {
      "text/plain": [
       "(13341, 17)"
      ]
     },
     "execution_count": 307,
     "metadata": {},
     "output_type": "execute_result"
    }
   ],
   "source": []
  },
  {
   "cell_type": "code",
   "execution_count": 308,
   "metadata": {},
   "outputs": [
    {
     "data": {
      "text/plain": [
       "(4447, 8)"
      ]
     },
     "execution_count": 308,
     "metadata": {},
     "output_type": "execute_result"
    }
   ],
   "source": []
  },
  {
   "cell_type": "markdown",
   "metadata": {},
   "source": [
    "## Step 3e: Add in any unstructured metadata that you want to add (and their types)"
   ]
  },
  {
   "cell_type": "code",
   "execution_count": 55,
   "metadata": {},
   "outputs": [
    {
     "name": "stdout",
     "output_type": "stream",
     "text": [
      "here are all the metadata columns in your cell level files:\n",
      "Index(['Animal', 'Array', 'CellID', 'CellType', 'Granuloma', 'UMAP1', 'UMAP2',\n",
      "       'batch', 'louvain', 'n_counts', 'n_genes', 'sample', 'leiden',\n",
      "       'mapped_celltype', 'Date', 'treatment', 'infection dose', 'Tissue name',\n",
      "       'CFU/granuloma', 'total thoracic CFU', 'lung region', 'celltypes all',\n",
      "       'log1p_n_genes_by_counts', 'log1p_total_counts', 'n_genes_by_counts',\n",
      "       'pct_counts_in_top_100_genes', 'pct_counts_in_top_200_genes',\n",
      "       'pct_counts_in_top_500_genes', 'pct_counts_in_top_50_genes',\n",
      "       'percent_mito', 'total_counts', 'New', 'Gran State', 'sample_name'],\n",
      "      dtype='object')\n"
     ]
    }
   ],
   "source": [
    "print(\"here are all the metadata columns in your cell level files:\")\n",
    "\n",
    "print(mapping_options[\"cell level dataframe\"].columns)\n",
    "\n"
   ]
  },
  {
   "cell_type": "markdown",
   "metadata": {},
   "source": [
    "Metadata names need to have no spaces and only have alphanumeric and underscore characters. If some of the names you want to map do not meet this criteria, map them to acceptable values in the cell below"
   ]
  },
  {
   "cell_type": "code",
   "execution_count": 57,
   "metadata": {},
   "outputs": [],
   "source": [
    "mapping_options[\"cell level dataframe\"].rename(columns={\"n_genes_by_counts\":\"num_genes\",\"treatment\":\"depletion_type\",\"CFU/granuloma\":\"CFU_per_granuloma\",\n",
    "                                                       \"total thoracic CFU\":\"total_thoracic_CFU\",\"infection dose\":\"infection_dose\",\"lung region\":\"lung_region\",\n",
    "                                                       \"Gran State\":\"granuloma_state\"}, inplace=True)"
   ]
  },
  {
   "cell_type": "markdown",
   "metadata": {},
   "source": [
    "In the dictionary below, replace the keys with column names in the choices printed above and replace the values with the type: group or numeric, of the column. Add as many as you would like"
   ]
  },
  {
   "cell_type": "code",
   "execution_count": 58,
   "metadata": {},
   "outputs": [],
   "source": [
    "unstructured_metadata_types = {\"total_thoracic_CFU\":\"numeric\",\"infection_dose\": \"group\",\n",
    "                              \"depletion_type\":\"group\",\"CFU_per_granuloma\":\"numeric\",\n",
    "                              \"num_genes\":\"numeric\",\"lung_region\":\"group\",\"percent_mito\":\"numeric\",\n",
    "                              \"granuloma_state\":\"group\",\"total_counts\":\"numeric\"}"
   ]
  },
  {
   "cell_type": "code",
   "execution_count": 59,
   "metadata": {},
   "outputs": [],
   "source": [
    "for m in unstructured_metadata_types:\n",
    "    cell_level_metadata[m] = mapping_options[\"cell level dataframe\"].loc[cell_level_metadata.index, m]"
   ]
  },
  {
   "cell_type": "code",
   "execution_count": 61,
   "metadata": {},
   "outputs": [],
   "source": []
  },
  {
   "cell_type": "markdown",
   "metadata": {},
   "source": [
    "## Map the structured Alexandria metadata types"
   ]
  },
  {
   "cell_type": "code",
   "execution_count": 63,
   "metadata": {},
   "outputs": [],
   "source": [
    "metadata_info['alexandria type']=metadata_info['type'].map({\"string\":\"group\",\"number\":\"numeric\",\"boolean\":\"group\"})\n",
    "\n",
    "types_row = pd.DataFrame(index= [\"TYPE\"], columns = cell_level_metadata.columns)\n",
    "\n",
    "for column in cell_level_metadata.columns:\n",
    "    if column in metadata_info.index:\n",
    "        types_row.loc[\"TYPE\",column] = metadata_info.loc[column,'alexandria type']\n",
    "        \n",
    "    else:\n",
    "        types_row.loc[\"TYPE\", column] = unstructured_metadata_types[column]\n",
    "\n",
    "\n",
    "final_metadata_dataframe = pd.concat([types_row, cell_level_metadata])\n",
    "\n",
    "final_metadata_dataframe.index.name = \"CELL\"\n"
   ]
  },
  {
   "cell_type": "markdown",
   "metadata": {},
   "source": [
    "# Write file to Alexandria format"
   ]
  },
  {
   "cell_type": "code",
   "execution_count": null,
   "metadata": {},
   "outputs": [],
   "source": []
  },
  {
   "cell_type": "code",
   "execution_count": 66,
   "metadata": {},
   "outputs": [],
   "source": [
    "final_metadata_dataframe.to_csv(output_dir+\"/alexandria_structured_metadata.csv\")"
   ]
  },
  {
   "cell_type": "markdown",
   "metadata": {},
   "source": [
    "# Now what?"
   ]
  },
  {
   "cell_type": "markdown",
   "metadata": {},
   "source": [
    "This is a description of how to figure out how to upload these files and a like to SCP (and how to get it in the alexandria namespace)"
   ]
  }
 ],
 "metadata": {
  "kernelspec": {
   "display_name": "Python 3",
   "language": "python",
   "name": "python3"
  },
  "language_info": {
   "codemirror_mode": {
    "name": "ipython",
    "version": 3
   },
   "file_extension": ".py",
   "mimetype": "text/x-python",
   "name": "python",
   "nbconvert_exporter": "python",
   "pygments_lexer": "ipython3",
   "version": "3.6.8"
  }
 },
 "nbformat": 4,
 "nbformat_minor": 2
}
