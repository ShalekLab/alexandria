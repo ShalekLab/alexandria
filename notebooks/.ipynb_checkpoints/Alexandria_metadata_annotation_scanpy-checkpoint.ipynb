{
 "cells": [
  {
   "cell_type": "code",
   "execution_count": 7,
   "metadata": {},
   "outputs": [],
   "source": [
    "%matplotlib inline\n",
    "import matplotlib\n",
    "import scanpy as sc\n",
    "import pandas as pd\n",
    "import anndata\n",
    "import convert_adata_to_scp as conv\n",
    "import os\n",
    "import ipywidgets as widgets\n",
    "import requests\n",
    "import widget_helpers as uh\n",
    "import MetadataAdder as ma"
   ]
  },
  {
   "cell_type": "markdown",
   "metadata": {},
   "source": [
    "# Alexandria metadata annotation for scanpy or Seurat files\n",
    "\n",
    "For this notebook, you are expected to have the following inputs:\n",
    "\n",
    "\n",
    "* ONE AnnData (scanpy) object saved as an h5ad file with the following attributes: \n",
    "    * containing few enough cells that you are willing to save it in dense format\n",
    "    * with some dimensionality reduction already run (ex. UMAP or tSNE)\n",
    "    * with some metadata/clustering already done\n",
    "    * at least one metadata column with a value describing the sample of each cell such that all cells from that sample have an identical value in that column\n",
    "    \n",
    "    \n",
    "---OR---\n",
    "\n",
    "* ONE Seurat .RData object containing:\n",
    "    * ScaleData containing gene expression\n",
    "    * seurat_obs@meta.data containing cell-level metadata\n",
    "    * dimensionality reduction saved in the Seurat object\n",
    "\n",
    "\n",
    "---AND---\n",
    "* (optional) a per sample csv, txt, excel, or tsv file with the following attributes:\n",
    "    * one row per sample\n",
    "    * the values in at least one column are sample names, and these sample names exactly match the values in the sample column in the scanpy/seurat metadata\n",
    "    \n",
    "* (optional) a per donor csv, txt, excel, or tsv file with the following attributes:\n",
    "    * This is useful if you have multiple samples per donor and some metadata that is the same each sample from the same donor\n",
    "    * there should be a column in this file with values as donor identifiers that maps to a column in the sample csv or the scanpy/seurat object\n",
    "    \n",
    "    \n",
    "    \n",
    "    \n",
    "    \n",
    "## Troubleshooting:\n",
    "\n",
    "If you are not seeing graphical output try running ``jupyter labextension install @jupyter-widgets/jupyterlab-manager``"
   ]
  },
  {
   "cell_type": "markdown",
   "metadata": {},
   "source": [
    "## USER INPUT: Paths to files"
   ]
  },
  {
   "cell_type": "code",
   "execution_count": 14,
   "metadata": {},
   "outputs": [],
   "source": [
    "\n",
    "# path to anndata/scanpy object, leave as \"\" if you are not using it\n",
    "anndata_path = \"\"#\"../../epithelial_cell_clustering.h5ad\" #TODO allow for multiple objects!\n",
    "\n",
    "# path to sample file, leave as \"\" if you are not using it\n",
    "sample_metadata_path = \"/Users/jggatter/Desktop/Alexandria/alexandria_repository/uploadHelpers/combined_metadata\"\n",
    "\n",
    "# path to donor file, leave as \"\" if you are not using it\n",
    "donor_metadata_path = \"\"\n",
    "\n",
    "# TODO: NOT SUPPORTED YET\n",
    "# paths to cell level metadata files, leave as [] if you are not using it - this is for if you happened to save your cell metadata files separately\n",
    "# these should be: cells as rows and metadata/clusters as columns\n",
    "cell_metadata_paths = []\n",
    "\n",
    "# path to .Rds seurat object, leave as \"\" if you are not using it\n",
    "seurat_paths = [\"/Users/jggatter/Desktop/Alexandria/alexandria_repository/uploadHelpers/allergen.RData\"] #TODO allow for multiple objects!\n",
    "\n",
    "# desired output directory full path (leave as \"\" if you want to output to the directory containing this notebook)\n",
    "output_dir = \"\"\n",
    "\n",
    "output_file_names = {}"
   ]
  },
  {
   "cell_type": "code",
   "execution_count": 17,
   "metadata": {},
   "outputs": [
    {
     "name": "stdout",
     "output_type": "stream",
     "text": [
      "The rpy2.ipython extension is already loaded. To reload it, use:\n",
      "  %reload_ext rpy2.ipython\n",
      "2.9.4\n",
      "/Users/jggatter/Desktop/Alexandria/alexandria_repository/uploadHelpers/allergen.RData\n"
     ]
    },
    {
     "data": {
      "text/plain": [
       "'\\nif len(cell_metadata_paths) > 0:\\n    if \"cell level dataframe\" in mapping_options:# if you already have other cell level info here\\n        for p in cell_metadata_paths:\\n            if p.split(\".\")[-1] ==\"csv\":\\n                some_cell_level_metadata = pd.read_csv(p, index_col=0)\\n            else: # assume if it is not csv, it is tab-deliminated\\n                some_cell_level_metadata = pd.read_csv(p, index_col=0, sep=\"\\t\")\\n                \\n            if len(set(some_cell_level_metadata.index).intersection(set(mapping_options[\"cell level dataframe\"].index))) < len(some_cell_level_metadata.index):\\n                print(\"Some new cells are not in the existing cell level metadata!! This is probably not going to work!\")\\n            # you are going to overwrite the metadata columns in your other file if they are the same as the ones in this file\\n            for col in some_cell_level_metadata.columns:\\n                mapping_options[\"cell level dataframe\"][col] = \"\"\\n                mapping_options[\"cell level dataframe\"].loc[some_cell_level_metadata.index, ]\\n    if len(cell_metadata_paths) > 1: # you\\'re doing different stuff if you need to merge these or if there is just one\\n        mapping_options[\"cell level files\"] = cell_metadata_paths\\n    elif : # if you already have other cell level info here\\n        # if \\n'"
      ]
     },
     "execution_count": 17,
     "metadata": {},
     "output_type": "execute_result"
    }
   ],
   "source": [
    "# no editing required for this cell, just run it\n",
    "mapping_options = {}\n",
    "if len(anndata_path) > 0:\n",
    "    adata = sc.read_h5ad(anndata_path)\n",
    "    print(adata)\n",
    "    mapping_options[\"anndata\"] = adata\n",
    "    mapping_options[\"cell level dataframe\"] = adata.obs\n",
    "if len(sample_metadata_path) > 0:\n",
    "    mapping_options[\"sample_metadata_path\"] = sample_metadata_path\n",
    "    \n",
    "if len(donor_metadata_path) > 0:\n",
    "    mapping_options[\"donor_metadata_path\"] = donor_metadata_path\n",
    "\n",
    "if len(seurat_paths)  > 0:\n",
    "    %load_ext rpy2.ipython\n",
    "    print(rpy2.__version__)\n",
    "    seurat_objects = []\n",
    "    for path in seurat_paths:\n",
    "        seurat_objects.append(rpy2.robjects.r['load'](path))\n",
    "    print(seurat_objects)\n",
    "    \n",
    "    \n",
    "    # TODO - use rpy2 to read out metadata from seurat, hopefully make a function that accepts as input the name of this feature so this works for several versions of seurat\n",
    "    #seurat_metadata = conv.get_metadata_from_seurat(seurat_paths, \"meta.data\")\n",
    "    # TODO: because reading in seurat files a bunch of times might be way too slow, it could make sense for us to have one function that will open the file, save the expression and cluster files, and return the dataframe\n",
    "    #mapping_options[\"cell level dataframe\"] = seurat_metadata\n",
    "    \n",
    "'''\n",
    "if len(cell_metadata_paths) > 0:\n",
    "    if \"cell level dataframe\" in mapping_options:# if you already have other cell level info here\n",
    "        for p in cell_metadata_paths:\n",
    "            if p.split(\".\")[-1] ==\"csv\":\n",
    "                some_cell_level_metadata = pd.read_csv(p, index_col=0)\n",
    "            else: # assume if it is not csv, it is tab-deliminated\n",
    "                some_cell_level_metadata = pd.read_csv(p, index_col=0, sep=\"\\t\")\n",
    "                \n",
    "            if len(set(some_cell_level_metadata.index).intersection(set(mapping_options[\"cell level dataframe\"].index))) < len(some_cell_level_metadata.index):\n",
    "                print(\"Some new cells are not in the existing cell level metadata!! This is probably not going to work!\")\n",
    "            # you are going to overwrite the metadata columns in your other file if they are the same as the ones in this file\n",
    "            for col in some_cell_level_metadata.columns:\n",
    "                mapping_options[\"cell level dataframe\"][col] = \"\"\n",
    "                mapping_options[\"cell level dataframe\"].loc[some_cell_level_metadata.index, ]\n",
    "    if len(cell_metadata_paths) > 1: # you're doing different stuff if you need to merge these or if there is just one\n",
    "        mapping_options[\"cell level files\"] = cell_metadata_paths\n",
    "    elif : # if you already have other cell level info here\n",
    "        # if \n",
    "'''"
   ]
  },
  {
   "cell_type": "markdown",
   "metadata": {},
   "source": [
    "# Converting from R:\n",
    "\n",
    "Now we go into R and convert to text files. The 'scp_save_seruat.R' will take as input the path or paths to seurat objects saved as .Rdata files. Unfortunately, Seurat does not maintain backwards compatibility when it comes to the seurat object data structure. Since everyone is using different versions of seruat, this code might require quite a bit of editing from you. It currently makes the following assumptions:\n",
    "\n",
    "\n",
    "- EXPRESSION FILES: The expression value of interest is stored in seurat.object@data\n",
    "\n",
    "- DIMENSIONALITY REDUCTION: The tsne or umap values are stored in seurat.object@meta.data as columns named 'X_umap1', 'X_umap2', 'X_tsne1', 'X_tsne2' - this script will only automatically check for those two dimensionality reductions. If you have other ones, you will need to g\n",
    "\n",
    "- METADATA: The metadata is saved in seurat.object@meta.data - if there are columns that mean the same thing but have different names in your different seurat objects (ex. in object 1 you called the cell type column \"celltype\" and in object 2 you called the celltype column \"cell.type\") It will be best that you merge those. You will need to write your own code to do this\n",
    "        \n",
    "\n",
    "### IMPORTANT: This series of code blocks will automatically write files with your expression data and dimensionality reduction (cluster) results but not your metadata. This is expected to be passed back to python for annotation into the Alexandria format. Make sure you end up getting this file!!"
   ]
  },
  {
   "cell_type": "code",
   "execution_count": null,
   "metadata": {},
   "outputs": [],
   "source": [
    "%%R -i seurat_paths -i output_dir\n",
    "# Only run this if you data is in seurat\n",
    "# If your objects are huge, you are going to have to do this outside of the notebook\n",
    "source(\"scp_save_seurat.R\")\n",
    "# in case you have cells in your various objects that happen to have the same name, we add a prefix to the cell names.\n",
    "# this array is the prefix to your cell names which should correspond to the order in your 'seurat_paths' variable\n",
    "# keep this an array even if you only have one cell name\n",
    "\n",
    "proj_names <- c(\"Week25\",\"Week13\") #EDIT THIS\n",
    "output_prefix<-paste(output_dir, \"SCP\")"
   ]
  },
  {
   "cell_type": "markdown",
   "metadata": {},
   "source": [
    "If your seurat objects meet all of the assumptions described above, run the following block:\n",
    "\n",
    "Specifically:\n",
    "\n",
    "- expression stored in seurat.object@data\n",
    "\n",
    "- tsne or umap stored in seurat.object@meta.data as 'X_umap1' etc\n",
    "\n",
    "- metadata is in seurat.object@meta.data and you only have one object or you don't mind dealing with misaligned column names later"
   ]
  },
  {
   "cell_type": "code",
   "execution_count": null,
   "metadata": {},
   "outputs": [],
   "source": [
    "%%R -o merged_metadata \n",
    "# Run the line below if your seurat objects meet all the requirements above and you don't want to merge your metadata manually (or you only have one seurat object)\n",
    "merged_metadata <- load_multiple_seurat_files(seurat_paths, proj_name= proj_names, output_prefix=output_prefix)\n",
    "\n"
   ]
  },
  {
   "cell_type": "markdown",
   "metadata": {},
   "source": [
    "If you ran the above cell, skip down to 'OPTIONAL: Fix misaligned metadata'"
   ]
  },
  {
   "cell_type": "markdown",
   "metadata": {},
   "source": [
    "## Seurat object step 1: Save expression files\n",
    "\n",
    "If you have more than one seurat object, you will need to do this for each one. You can uncomment the for loop or just copy and paste the code a few times. Beware that the notebook might crash if you load in too much data, so it might be good to go through this whole process once per object (as long as you are saving your metadata as different variable names for each object)\n",
    "\n",
    "\n",
    "### Changes from user:\n",
    "\n",
    "If your data is not saved in your seurat object as seurat.object@data, you will need to change the 'exp.data' variable below"
   ]
  },
  {
   "cell_type": "code",
   "execution_count": 32,
   "metadata": {},
   "outputs": [],
   "source": [
    "%%R  \n",
    "i <- 1  # i is the index in the array 'seurat_paths'\n",
    "#for(i in 1:length(seurat_paths)){\n",
    "obj_<-load(seurat_paths[[path]])\n",
    "obj <- get(obj_)\n",
    "proj_name <- proj_names[i]\n",
    "#    dim_red_types <- c(\"tsne\", \"umap\") # if your dimensionality reduction is not saved in the format described in the text above this cell, remove the values from this array and run dimensionality reduction manually\n",
    "# USER INPUT: if your data is not saved in obj@data, run the following chunk (replacing obj@data with the correct thing)\n",
    "exp.data <-obj@data\n",
    "\n",
    "exp_filename <- paste(output_prefix, \"_norm_expression.txt.gz\",sep=\"\")\n",
    "exp_df <- add_gene_column(exp.data,proj_name) \n",
    "write.csv.gz(x=exp_df, file=exp_filename, quote = FALSE,sep = \"\\t\",col.names = TRUE)\n",
    "\n",
    "#}\n",
    "#"
   ]
  },
  {
   "cell_type": "markdown",
   "metadata": {},
   "source": [
    "## Seurat object step 2: Save cluster files\n",
    "\n",
    "This assumes that your seurat object is saved as 'obj' from the cell above"
   ]
  },
  {
   "cell_type": "code",
   "execution_count": null,
   "metadata": {},
   "outputs": [],
   "source": [
    "%%R\n",
    "\n",
    "# USER INPUT: change this if your dimensionality reduction info is not saved in @meta.data\n",
    "dim_red_dataframe <- obj@meta.data\n",
    "\n",
    "# USER INPUT: change these if the column names of your dimensionality reduction are not the ones used below\n",
    "X_name <- \"X_umap1\"\n",
    "Y_name <- \"X_umap2\"\n",
    "\n",
    "# USER INPUT: change this to reflect the name of your dimensionality reduction type\n",
    "cluster_file_prefix <- paste(output_prefix, proj_name, \"umap\", sep=\"_\")\n",
    "\n",
    "save_cluster_file(dim_red_dataframe, X_name, Y_name, proj_name)"
   ]
  },
  {
   "cell_type": "markdown",
   "metadata": {},
   "source": [
    "## Seurat object step 3: Get the metadata!"
   ]
  },
  {
   "cell_type": "code",
   "execution_count": null,
   "metadata": {},
   "outputs": [],
   "source": [
    "%%R -o merged_metadata \n",
    "\n",
    "# if your metadata is not in obj@meta.data, change this\n",
    "seurat_metadata <- obj@meta.data\n",
    "\n",
    "\n",
    "merged_metadata <- data.frame(CELLS=paste(proj_name, rownames(seurat_metadata), sep=\"_\"), seurat_metadata)\n"
   ]
  },
  {
   "cell_type": "code",
   "execution_count": null,
   "metadata": {},
   "outputs": [],
   "source": []
  },
  {
   "cell_type": "code",
   "execution_count": 5,
   "metadata": {},
   "outputs": [
    {
     "name": "stderr",
     "output_type": "stream",
     "text": [
      "/Users/nyquist/anaconda3/lib/python3.6/site-packages/IPython/core/interactiveshell.py:2785: DtypeWarning: Columns (4,20,21,23,26) have mixed types. Specify dtype option on import or set low_memory=False.\n",
      "  interactivity=interactivity, compiler=compiler, result=result)\n"
     ]
    }
   ],
   "source": [
    "# TODO get the metadata object from R\n",
    "mapping_options[\"cell level dataframe\"] = pd.read_csv(\"/Users/nyquist/Dropbox (MIT)/Shalek Lab (Team folder conflict)/Projects/Gates/NIH.Vaccine.Route.Comparison.2019/R_combined_metadata.txt\", sep=\"\\t\", index_col=0)"
   ]
  },
  {
   "cell_type": "code",
   "execution_count": null,
   "metadata": {},
   "outputs": [],
   "source": []
  },
  {
   "cell_type": "markdown",
   "metadata": {},
   "source": []
  },
  {
   "cell_type": "code",
   "execution_count": 6,
   "metadata": {},
   "outputs": [],
   "source": [
    "import numpy as np"
   ]
  },
  {
   "cell_type": "code",
   "execution_count": 7,
   "metadata": {
    "scrolled": true
   },
   "outputs": [],
   "source": [
    "mapping_options[\"cell level dataframe\"][\"celltype\"] = \"\"\n",
    "mapping_options[\"cell level dataframe\"].loc[mapping_options[\"cell level dataframe\"][\"Week25CellType2\"].isna(),\"celltype\"] = mapping_options[\"cell level dataframe\"].loc[mapping_options[\"cell level dataframe\"][\"Week25CellType2\"].isna(),\"Week13CellType\"]\n",
    "mapping_options[\"cell level dataframe\"].loc[mapping_options[\"cell level dataframe\"][\"Week13CellType\"].isna(),\"celltype\"] = mapping_options[\"cell level dataframe\"].loc[mapping_options[\"cell level dataframe\"][\"Week13CellType\"].isna(),\"Week25CellType2\"]\n",
    "\n",
    "\n",
    "\n"
   ]
  },
  {
   "cell_type": "code",
   "execution_count": null,
   "metadata": {},
   "outputs": [],
   "source": []
  },
  {
   "cell_type": "markdown",
   "metadata": {},
   "source": [
    "## Scanpy Step 1: Dimensionality reduction 'cluster files'\n",
    "\n",
    "The SCP expects one file per dimensionality reduction visualization, so the following code chunk will save a file for each dimensionality reduction stored in the ``obsm`` attribute of your ``AnnData`` object. The ``print(adata)`` command above should show you the available dimensionality reduction values. \n",
    "\n",
    "\n",
    "The upload interface allows you to input a minimum and maximum for each axis of each dimensionailty reduction. This next code chunk will also print out those results so you can enter them in the upload interface."
   ]
  },
  {
   "cell_type": "code",
   "execution_count": 4,
   "metadata": {},
   "outputs": [
    {
     "name": "stdout",
     "output_type": "stream",
     "text": [
      "min for X_pca X is -12.995701\n",
      "max for X_pca X is 56.850597\n",
      "min for X_pca Y is -12.995701\n",
      "max for X_pca Y is 56.850597\n",
      "min for X_umap X is -6.8291025920439345\n",
      "max for X_umap X is 9.507524406034713\n",
      "min for X_umap Y is -6.8291025920439345\n",
      "max for X_umap Y is 9.507524406034713\n"
     ]
    }
   ],
   "source": [
    "if len(anndata_path) > 0:\n",
    "    conv.save_cluster_dfs(adata, output_dir)\n",
    "    # TODO: save output file names\n"
   ]
  },
  {
   "cell_type": "markdown",
   "metadata": {},
   "source": []
  },
  {
   "cell_type": "code",
   "execution_count": null,
   "metadata": {},
   "outputs": [],
   "source": []
  },
  {
   "cell_type": "code",
   "execution_count": null,
   "metadata": {},
   "outputs": [],
   "source": [
    "# TODO: convert merged_metadata to dataframe\n",
    "\n"
   ]
  },
  {
   "cell_type": "markdown",
   "metadata": {},
   "source": [
    "## Scanpy Step 2: expression matrices\n",
    "\n",
    "Next you will save your expression matrix in the SCP format\n",
    "\n"
   ]
  },
  {
   "cell_type": "code",
   "execution_count": 6,
   "metadata": {},
   "outputs": [],
   "source": [
    "if len(anndata_path) > 0:\n",
    "    out_df = conv.make_expression_df(adata)\n",
    "    out_df.to_csv(os.path.join(output_dir, \"expression_file.txt.gz\"), compression='gzip')"
   ]
  },
  {
   "cell_type": "markdown",
   "metadata": {},
   "source": [
    "# Both Scanpy and Seurat: Set up metadata\n",
    "\n",
    "Now we will convert metadata in your object to the correct metadata format and naming scheme for Alexandria\n",
    "\n",
    "\n",
    "This includes 3 parts:\n",
    "\n",
    "* Global Metadata\n",
    "\n",
    "* Alexandria structured metadata to be mapped from your metadata tables\n",
    "\n",
    "* Units for numeric metadata\n",
    "\n",
    "* Unstructured metadata mapped from your metadata tables\n"
   ]
  },
  {
   "cell_type": "code",
   "execution_count": 8,
   "metadata": {},
   "outputs": [],
   "source": [
    "# TODO: adjust this if you are not looking for cell level and are doing sample level instead\n",
    "cell_level_metadata = pd.DataFrame(index=mapping_options[\"cell level dataframe\"].index)"
   ]
  },
  {
   "cell_type": "markdown",
   "metadata": {},
   "source": [
    "### Step 3a: Starting with global metadata\n",
    "\n",
    "These metadata attributes must be the same for all of your columns"
   ]
  },
  {
   "cell_type": "code",
   "execution_count": 9,
   "metadata": {},
   "outputs": [],
   "source": [
    "global_attributes = {}"
   ]
  },
  {
   "cell_type": "markdown",
   "metadata": {},
   "source": [
    "### Global Metadata: Select species for this data\n",
    "\n",
    "Type a search term in the drop down below (ex. 'homo' for human or 'mus' for mouse)\n",
    "\n",
    "then run the next code section and select the value from that drop-down\n",
    "\n",
    "If you do not see the value you were looking for and would like to search again, type in a new value in the text box and *rerun the code block that generates the species*"
   ]
  },
  {
   "cell_type": "code",
   "execution_count": 10,
   "metadata": {
    "scrolled": true
   },
   "outputs": [
    {
     "data": {
      "application/vnd.jupyter.widget-view+json": {
       "model_id": "223fb00c10a64ec286ce1e0881207f91",
       "version_major": 2,
       "version_minor": 0
      },
      "text/plain": [
       "Text(value='Species', description='Species:', placeholder='Species search')"
      ]
     },
     "metadata": {},
     "output_type": "display_data"
    },
    {
     "name": "stdout",
     "output_type": "stream",
     "text": [
      "enter a search term for the species in the box above then run the next notebook cell to see a dropdown of search results\n"
     ]
    }
   ],
   "source": [
    "s =widgets.Text(\n",
    "    value='Species',\n",
    "    placeholder='Species search',\n",
    "    description='Species:',\n",
    "    disabled=False\n",
    ")\n",
    "display(s)\n",
    "print(\"enter a search term for the species in the box above then run the next notebook cell to see a dropdown of search results\")"
   ]
  },
  {
   "cell_type": "code",
   "execution_count": 11,
   "metadata": {},
   "outputs": [
    {
     "data": {
      "application/vnd.jupyter.widget-view+json": {
       "model_id": "b850b6f6a11249fabc217cc4a2197941",
       "version_major": 2,
       "version_minor": 0
      },
      "text/plain": [
       "Dropdown(description='species', options=(('Theretra rhesus: ', 'NCBITaxon_1088310'), ('Polites rhesus: ', 'NCB…"
      ]
     },
     "metadata": {},
     "output_type": "display_data"
    }
   ],
   "source": [
    "list_for_dropdown, name_id_dict=uh.query_search_term('ncbitaxon',s.value)\n",
    "m=uh.choose_metadata_name_dropdown(list_for_dropdown,\"species\")\n",
    "display(m)"
   ]
  },
  {
   "cell_type": "markdown",
   "metadata": {},
   "source": [
    "### Once you are happy with your selection above, run the code block below!!"
   ]
  },
  {
   "cell_type": "code",
   "execution_count": 12,
   "metadata": {},
   "outputs": [],
   "source": [
    "global_attributes['species']=m.value\n",
    "global_attributes['species__ontology_label'] = name_id_dict[m.value]"
   ]
  },
  {
   "cell_type": "markdown",
   "metadata": {},
   "source": [
    "### Global Metadata: Select library preparation protocol for this data\n",
    "\n",
    "Just select from the dropdown below then run the code block under it"
   ]
  },
  {
   "cell_type": "code",
   "execution_count": 13,
   "metadata": {},
   "outputs": [
    {
     "name": "stdout",
     "output_type": "stream",
     "text": [
      "this takes a second if your internet connection isn't super fast\n",
      "11\n"
     ]
    },
    {
     "data": {
      "application/vnd.jupyter.widget-view+json": {
       "model_id": "a37c9e11e6b1422d94b178d34e59ee92",
       "version_major": 2,
       "version_minor": 0
      },
      "text/plain": [
       "Dropdown(description='experimental method', options=(('RARseq: Restriction site associated RNA sequencing', 'E…"
      ]
     },
     "metadata": {},
     "output_type": "display_data"
    },
    {
     "name": "stdout",
     "output_type": "stream",
     "text": [
      "select from dropdown above then run the next notebook cell. If you want to change the selection, you need to re-run the cell below\n"
     ]
    }
   ],
   "source": [
    "print(\"this takes a second if your internet connection isn't super fast\")\n",
    "list_for_dropdown, name_id_dict = uh.query_all_values_under_root(\"efo\",\"EFO_0001457\")\n",
    "exp_method_dpdn=uh.choose_metadata_name_dropdown(list_for_dropdown,\"experimental method\")\n",
    "display(exp_method_dpdn)\n",
    "print(\"select from dropdown above then run the next notebook cell. If you want to change the selection, you need to re-run the cell below\")"
   ]
  },
  {
   "cell_type": "code",
   "execution_count": 14,
   "metadata": {},
   "outputs": [
    {
     "name": "stdout",
     "output_type": "stream",
     "text": [
      "Seq-Well saved as library preparation protocol\n"
     ]
    }
   ],
   "source": [
    "global_attributes['library_preparation_protocol']=exp_method_dpdn.value\n",
    "global_attributes['library_preparation_protocol__ontology_label'] = name_id_dict[exp_method_dpdn.value]\n",
    "\n",
    "print(name_id_dict[exp_method_dpdn.value] +\" saved as library preparation protocol\")"
   ]
  },
  {
   "cell_type": "code",
   "execution_count": 15,
   "metadata": {},
   "outputs": [],
   "source": [
    "# explicitly saving the cellID column\n",
    "for k,v in global_attributes.items():\n",
    "    cell_level_metadata[k] = v\n",
    "\n",
    "cell_level_metadata[\"CellID\"] = cell_level_metadata.index"
   ]
  },
  {
   "cell_type": "code",
   "execution_count": 16,
   "metadata": {},
   "outputs": [],
   "source": [
    "# reading in all the metadata in the convention\n",
    "#TODO: make this work with JSON, for now it is just a table copy and pasted from the google sheets\n",
    "metadata_info = pd.read_csv(\"metadata_name_type_info.tsv\",sep=\"\\t\",index_col=0)\n",
    "metadata_info[\"is unit\"] = [\"unit\" in i for i in metadata_info.index] # removing units from this so people are less confused\n",
    "# removing the \"label\" types because we will add those automatically\n",
    "available_metadata = metadata_info[~metadata_info[\"class\"].isin([\"unit_label\", \"ontology_label\"]) & ~metadata_info[\"is unit\"]].index\n",
    "\n",
    "# we already added species and library prep so drop those as well\n",
    "available_metadata=available_metadata.drop(\"species\")\n",
    "available_metadata=available_metadata.drop('library_preparation_protocol')"
   ]
  },
  {
   "cell_type": "markdown",
   "metadata": {},
   "source": [
    "## Step 3b: Renaming metadata from your dataframe and files\n",
    "\n",
    "Now we will facilitate mapping any of your metadata to the Alexandria metadata convention.\n",
    "\n",
    "If there is required (or optional) metadata that you would like to add that is not already in one of your files AND is an ontology or controlled list metadata type AND follows the same pattern as some other metadata in your files (ex. sample level or donor level), you can do so by mapping the metadata from some unrelated metadata.\n",
    "\n",
    "For example, if you recorded the organ of each sample but did not save it as an explicit column, you can choose the sample column and map from that\n",
    "\n",
    "\n",
    "You should run this group of cells once per metadata source (as in sample level file, your cell level dataframe, etc)"
   ]
  },
  {
   "cell_type": "code",
   "execution_count": 42,
   "metadata": {},
   "outputs": [
    {
     "data": {
      "text/plain": [
       "Index(['required', 'default', 'type', 'array', 'class', 'ontology',\n",
       "       'ontology_root', 'controlled_list_entries', 'dependency',\n",
       "       'dependency_condition', 'dependent', 'attribute_description',\n",
       "       'is unit'],\n",
       "      dtype='object')"
      ]
     },
     "execution_count": 42,
     "metadata": {},
     "output_type": "execute_result"
    }
   ],
   "source": [
    "metadata_info.columns"
   ]
  },
  {
   "cell_type": "markdown",
   "metadata": {},
   "source": [
    "### The following metadata are required, make sure you add them:"
   ]
  },
  {
   "cell_type": "code",
   "execution_count": 43,
   "metadata": {},
   "outputs": [
    {
     "name": "stdout",
     "output_type": "stream",
     "text": [
      "attribute\n",
      "donor_id                                                                                                  NaN\n",
      "species                                                     species: The scientific binomial name for the ...\n",
      "species__ontology_label                                                      species: species__ontology_label\n",
      "ethnicity                                                   species: The ethnicity or ethnicities of the h...\n",
      "ethnicity__ontology_label                                                  species: ethnicity__ontology_label\n",
      "race                                                        species: An arbitrary classification of a taxo...\n",
      "race__ontology_label                                                            species: race__ontology_label\n",
      "mouse_strain                                                species: Mouse strain of the donor organism (e...\n",
      "mouse_strain__ontology_label                                            species: mouse_strain__ontology_label\n",
      "vaccination                                                 species: Any known vaccines administered to th...\n",
      "vaccination__ontology_label                                              species: vaccination__ontology_label\n",
      "vaccination__route                                          species: Intradermal, Intranasal, Intravenous,...\n",
      "vaccination__dosage                                            species: The dosage and units for the vaccine \n",
      "vaccination__adjuvants                                      species: Any adjuvants administered in the vac...\n",
      "vaccination__time_since                                     species: Amount of time since vaccine was admi...\n",
      "vaccination__time_since__unit                               species: Time since each vaccine in the vaccin...\n",
      "vaccination__time_since__unit_label                              species: vaccination__time_since__unit_label\n",
      "sex                                                                                   species: Biological sex\n",
      "is_living                                                   species: Whether organism was alive at time of...\n",
      "geographical_region                                         species: Location where the sample was collect...\n",
      "geographical_region__ontology_label                              species: geographical_region__ontology_label\n",
      "mhc_genotype                                                species: MHC genotype for humans and other spe...\n",
      "organism_age                                                species: Age of the organism at time of sample...\n",
      "organism_age__unit                                                                species: organism_age__unit\n",
      "organism_age__unit_label                                                    species: organism_age__unit_label\n",
      "bmi                                                                                  species: BMI of organism\n",
      "biosample_id                                                                                              NaN\n",
      "organ                                                       species: The organ that the biomaterial came from\n",
      "organ__ontology_label                                                          species: organ__ontology_label\n",
      "sample_type                                                 species: one of: cell line, organoid, direct f...\n",
      "                                                                                  ...                        \n",
      "end_bias                                                    species: The end bias of the library preparati...\n",
      "library_preparation_protocol                                species: The single cell RNA-sequencing protoc...\n",
      "library_preparation_protocol__ontology_label                species: library_preparation_protocol__ontolog...\n",
      "primer                                                       species: Primer used for cDNA synthesis from RNA\n",
      "strand                                                                          species: library strandedness\n",
      "sequencing_instrument_manufacturer_model                    species: name of sequencing instrument manufac...\n",
      "sequencing_instrument_manufacturer_model__ontology_label    species: sequencing_instrument_manufacturer_mo...\n",
      "paired_ends                                                 species: true if the sequence library has pair...\n",
      "read_length                                                 species: the read structure of the sequencing run\n",
      "small_molecule_perturbation                                 species: a small molecule added to a cell cult...\n",
      "small_molecule_perturbation__ontology_label                 species: small_molecule_perturbation__ontology...\n",
      "small_molecule_perturbation__concentration                  species: Concentration of each small molecule ...\n",
      "small_molecule_perturbation__concentration__unit_label      species: small_molecule_perturbation__concentr...\n",
      "small_molecule_perturbation__solvent                        species: Solvent in which the small molecule w...\n",
      "small_molecule_perturbation__source                         species: Source from which the small molecule ...\n",
      "growth_factor_perturbation                                  species: a growth factor added to a cell cultu...\n",
      "growth_factor_perturbation__ontology_label                  species: growth_factor_perturbation__ontology_...\n",
      "growth_factor_perturbation__concentration                   species: Concentration of of each growth facto...\n",
      "growth_factor_perturbation__concentration__unit_label       species: growth_factor_perturbation__concentra...\n",
      "growth_factor_perturbation__solvent                         species: Solvent in which the growth factor wa...\n",
      "growth_factor_perturbation__source                          species: Source from which the growth factor w...\n",
      "gene_perturbation                                           species: A perturbation to a gene done to a ce...\n",
      "gene_perturbation__ontology_label                                  species: gene_perturbation__ontology_label\n",
      "gene_perturbation__method                                   species: Process by which the gene was perturb...\n",
      "gene_perturbation__direction                                species: The type of perturbation of the gene ...\n",
      "gene_perturbation__dynamics                                 species: Description of the timing with respec...\n",
      "CellID                                                                                                    NaN\n",
      "cell_type                                                   species: Cell type name determined via unsuper...\n",
      "cell_type__ontology_label                                                  species: cell_type__ontology_label\n",
      "number_of_reads                                                  species: Number of reads mapped to that cell\n",
      "Name: attribute_description, Length: 83, dtype: object\n",
      "attribute\n",
      "donor_id                                                                                                  NaN\n",
      "species                                                     species__ontology_label: The scientific binomi...\n",
      "species__ontology_label                                      species__ontology_label: species__ontology_label\n",
      "ethnicity                                                   species__ontology_label: The ethnicity or ethn...\n",
      "ethnicity__ontology_label                                   species__ontology_label: ethnicity__ontology_l...\n",
      "race                                                        species__ontology_label: An arbitrary classifi...\n",
      "race__ontology_label                                            species__ontology_label: race__ontology_label\n",
      "mouse_strain                                                species__ontology_label: Mouse strain of the d...\n",
      "mouse_strain__ontology_label                                species__ontology_label: mouse_strain__ontolog...\n",
      "vaccination                                                 species__ontology_label: Any known vaccines ad...\n",
      "vaccination__ontology_label                                 species__ontology_label: vaccination__ontology...\n",
      "vaccination__route                                          species__ontology_label: Intradermal, Intranas...\n",
      "vaccination__dosage                                         species__ontology_label: The dosage and units ...\n",
      "vaccination__adjuvants                                      species__ontology_label: Any adjuvants adminis...\n",
      "vaccination__time_since                                     species__ontology_label: Amount of time since ...\n",
      "vaccination__time_since__unit                               species__ontology_label: Time since each vacci...\n",
      "vaccination__time_since__unit_label                         species__ontology_label: vaccination__time_sin...\n",
      "sex                                                                   species__ontology_label: Biological sex\n",
      "is_living                                                   species__ontology_label: Whether organism was ...\n",
      "geographical_region                                         species__ontology_label: Location where the sa...\n",
      "geographical_region__ontology_label                         species__ontology_label: geographical_region__...\n",
      "mhc_genotype                                                species__ontology_label: MHC genotype for huma...\n",
      "organism_age                                                species__ontology_label: Age of the organism a...\n",
      "organism_age__unit                                                species__ontology_label: organism_age__unit\n",
      "organism_age__unit_label                                    species__ontology_label: organism_age__unit_label\n",
      "bmi                                                                  species__ontology_label: BMI of organism\n",
      "biosample_id                                                                                              NaN\n",
      "organ                                                       species__ontology_label: The organ that the bi...\n",
      "organ__ontology_label                                          species__ontology_label: organ__ontology_label\n",
      "sample_type                                                 species__ontology_label: one of: cell line, or...\n",
      "                                                                                  ...                        \n",
      "end_bias                                                    species__ontology_label: The end bias of the l...\n",
      "library_preparation_protocol                                species__ontology_label: The single cell RNA-s...\n",
      "library_preparation_protocol__ontology_label                species__ontology_label: library_preparation_p...\n",
      "primer                                                      species__ontology_label: Primer used for cDNA ...\n",
      "strand                                                          species__ontology_label: library strandedness\n",
      "sequencing_instrument_manufacturer_model                    species__ontology_label: name of sequencing in...\n",
      "sequencing_instrument_manufacturer_model__ontology_label    species__ontology_label: sequencing_instrument...\n",
      "paired_ends                                                 species__ontology_label: true if the sequence ...\n",
      "read_length                                                 species__ontology_label: the read structure of...\n",
      "small_molecule_perturbation                                 species__ontology_label: a small molecule adde...\n",
      "small_molecule_perturbation__ontology_label                 species__ontology_label: small_molecule_pertur...\n",
      "small_molecule_perturbation__concentration                  species__ontology_label: Concentration of each...\n",
      "small_molecule_perturbation__concentration__unit_label      species__ontology_label: small_molecule_pertur...\n",
      "small_molecule_perturbation__solvent                        species__ontology_label: Solvent in which the ...\n",
      "small_molecule_perturbation__source                         species__ontology_label: Source from which the...\n",
      "growth_factor_perturbation                                  species__ontology_label: a growth factor added...\n",
      "growth_factor_perturbation__ontology_label                  species__ontology_label: growth_factor_perturb...\n",
      "growth_factor_perturbation__concentration                   species__ontology_label: Concentration of of e...\n",
      "growth_factor_perturbation__concentration__unit_label       species__ontology_label: growth_factor_perturb...\n",
      "growth_factor_perturbation__solvent                         species__ontology_label: Solvent in which the ...\n",
      "growth_factor_perturbation__source                          species__ontology_label: Source from which the...\n",
      "gene_perturbation                                           species__ontology_label: A perturbation to a g...\n",
      "gene_perturbation__ontology_label                           species__ontology_label: gene_perturbation__on...\n",
      "gene_perturbation__method                                   species__ontology_label: Process by which the ...\n",
      "gene_perturbation__direction                                species__ontology_label: The type of perturbat...\n",
      "gene_perturbation__dynamics                                 species__ontology_label: Description of the ti...\n",
      "CellID                                                                                                    NaN\n",
      "cell_type                                                   species__ontology_label: Cell type name determ...\n",
      "cell_type__ontology_label                                   species__ontology_label: cell_type__ontology_l...\n",
      "number_of_reads                                             species__ontology_label: Number of reads mappe...\n",
      "Name: attribute_description, Length: 83, dtype: object\n",
      "attribute\n",
      "donor_id                                                                                                  NaN\n",
      "species                                                     sex: The scientific binomial name for the spec...\n",
      "species__ontology_label                                                          sex: species__ontology_label\n",
      "ethnicity                                                   sex: The ethnicity or ethnicities of the human...\n",
      "ethnicity__ontology_label                                                      sex: ethnicity__ontology_label\n",
      "race                                                        sex: An arbitrary classification of a taxonomi...\n",
      "race__ontology_label                                                                sex: race__ontology_label\n",
      "mouse_strain                                                sex: Mouse strain of the donor organism (ex. C...\n",
      "mouse_strain__ontology_label                                                sex: mouse_strain__ontology_label\n",
      "vaccination                                                 sex: Any known vaccines administered to the do...\n",
      "vaccination__ontology_label                                                  sex: vaccination__ontology_label\n",
      "vaccination__route                                          sex: Intradermal, Intranasal, Intravenous, Aer...\n",
      "vaccination__dosage                                                sex: The dosage and units for the vaccine \n",
      "vaccination__adjuvants                                         sex: Any adjuvants administered in the vaccine\n",
      "vaccination__time_since                                     sex: Amount of time since vaccine was administ...\n",
      "vaccination__time_since__unit                               sex: Time since each vaccine in the vaccinatio...\n",
      "vaccination__time_since__unit_label                                  sex: vaccination__time_since__unit_label\n",
      "sex                                                                                       sex: Biological sex\n",
      "is_living                                                   sex: Whether organism was alive at time of bio...\n",
      "geographical_region                                         sex: Location where the sample was collected/d...\n",
      "geographical_region__ontology_label                                  sex: geographical_region__ontology_label\n",
      "mhc_genotype                                                   sex: MHC genotype for humans and other species\n",
      "organism_age                                                sex: Age of the organism at time of sample col...\n",
      "organism_age__unit                                                                    sex: organism_age__unit\n",
      "organism_age__unit_label                                                        sex: organism_age__unit_label\n",
      "bmi                                                                                      sex: BMI of organism\n",
      "biosample_id                                                                                              NaN\n",
      "organ                                                           sex: The organ that the biomaterial came from\n",
      "organ__ontology_label                                                              sex: organ__ontology_label\n",
      "sample_type                                                 sex: one of: cell line, organoid, direct from ...\n",
      "                                                                                  ...                        \n",
      "end_bias                                                    sex: The end bias of the library preparation p...\n",
      "library_preparation_protocol                                sex: The single cell RNA-sequencing protocol u...\n",
      "library_preparation_protocol__ontology_label                sex: library_preparation_protocol__ontology_label\n",
      "primer                                                           sex: Primer used for cDNA synthesis from RNA\n",
      "strand                                                                              sex: library strandedness\n",
      "sequencing_instrument_manufacturer_model                      sex: name of sequencing instrument manufacturer\n",
      "sequencing_instrument_manufacturer_model__ontology_label    sex: sequencing_instrument_manufacturer_model_...\n",
      "paired_ends                                                 sex: true if the sequence library has paired e...\n",
      "read_length                                                     sex: the read structure of the sequencing run\n",
      "small_molecule_perturbation                                 sex: a small molecule added to a cell culture ...\n",
      "small_molecule_perturbation__ontology_label                  sex: small_molecule_perturbation__ontology_label\n",
      "small_molecule_perturbation__concentration                  sex: Concentration of each small molecule in t...\n",
      "small_molecule_perturbation__concentration__unit_label      sex: small_molecule_perturbation__concentratio...\n",
      "small_molecule_perturbation__solvent                        sex: Solvent in which the small molecule was a...\n",
      "small_molecule_perturbation__source                         sex: Source from which the small molecule was ...\n",
      "growth_factor_perturbation                                  sex: a growth factor added to a cell culture m...\n",
      "growth_factor_perturbation__ontology_label                    sex: growth_factor_perturbation__ontology_label\n",
      "growth_factor_perturbation__concentration                   sex: Concentration of of each growth factor in...\n",
      "growth_factor_perturbation__concentration__unit_label       sex: growth_factor_perturbation__concentration...\n",
      "growth_factor_perturbation__solvent                         sex: Solvent in which the growth factor was ad...\n",
      "growth_factor_perturbation__source                          sex: Source from which the growth factor was p...\n",
      "gene_perturbation                                           sex: A perturbation to a gene done to a cell c...\n",
      "gene_perturbation__ontology_label                                      sex: gene_perturbation__ontology_label\n",
      "gene_perturbation__method                                   sex: Process by which the gene was perturbed. ...\n",
      "gene_perturbation__direction                                sex: The type of perturbation of the gene defi...\n",
      "gene_perturbation__dynamics                                 sex: Description of the timing with respect to...\n",
      "CellID                                                                                                    NaN\n",
      "cell_type                                                   sex: Cell type name determined via unsupervise...\n",
      "cell_type__ontology_label                                                      sex: cell_type__ontology_label\n",
      "number_of_reads                                                      sex: Number of reads mapped to that cell\n",
      "Name: attribute_description, Length: 83, dtype: object\n",
      "attribute\n",
      "donor_id                                                                                                  NaN\n",
      "species                                                     is_living: The scientific binomial name for th...\n",
      "species__ontology_label                                                    is_living: species__ontology_label\n",
      "ethnicity                                                   is_living: The ethnicity or ethnicities of the...\n",
      "ethnicity__ontology_label                                                is_living: ethnicity__ontology_label\n",
      "race                                                        is_living: An arbitrary classification of a ta...\n",
      "race__ontology_label                                                          is_living: race__ontology_label\n",
      "mouse_strain                                                is_living: Mouse strain of the donor organism ...\n",
      "mouse_strain__ontology_label                                          is_living: mouse_strain__ontology_label\n",
      "vaccination                                                 is_living: Any known vaccines administered to ...\n",
      "vaccination__ontology_label                                            is_living: vaccination__ontology_label\n",
      "vaccination__route                                          is_living: Intradermal, Intranasal, Intravenou...\n",
      "vaccination__dosage                                          is_living: The dosage and units for the vaccine \n",
      "vaccination__adjuvants                                      is_living: Any adjuvants administered in the v...\n",
      "vaccination__time_since                                     is_living: Amount of time since vaccine was ad...\n",
      "vaccination__time_since__unit                               is_living: Time since each vaccine in the vacc...\n",
      "vaccination__time_since__unit_label                            is_living: vaccination__time_since__unit_label\n",
      "sex                                                                                 is_living: Biological sex\n",
      "is_living                                                   is_living: Whether organism was alive at time ...\n",
      "geographical_region                                         is_living: Location where the sample was colle...\n",
      "geographical_region__ontology_label                            is_living: geographical_region__ontology_label\n",
      "mhc_genotype                                                is_living: MHC genotype for humans and other s...\n",
      "organism_age                                                is_living: Age of the organism at time of samp...\n",
      "organism_age__unit                                                              is_living: organism_age__unit\n",
      "organism_age__unit_label                                                  is_living: organism_age__unit_label\n",
      "bmi                                                                                is_living: BMI of organism\n",
      "biosample_id                                                                                              NaN\n",
      "organ                                                       is_living: The organ that the biomaterial came...\n",
      "organ__ontology_label                                                        is_living: organ__ontology_label\n",
      "sample_type                                                 is_living: one of: cell line, organoid, direct...\n",
      "                                                                                  ...                        \n",
      "end_bias                                                    is_living: The end bias of the library prepara...\n",
      "library_preparation_protocol                                is_living: The single cell RNA-sequencing prot...\n",
      "library_preparation_protocol__ontology_label                is_living: library_preparation_protocol__ontol...\n",
      "primer                                                      is_living: Primer used for cDNA synthesis from...\n",
      "strand                                                                        is_living: library strandedness\n",
      "sequencing_instrument_manufacturer_model                    is_living: name of sequencing instrument manuf...\n",
      "sequencing_instrument_manufacturer_model__ontology_label    is_living: sequencing_instrument_manufacturer_...\n",
      "paired_ends                                                 is_living: true if the sequence library has pa...\n",
      "read_length                                                 is_living: the read structure of the sequencin...\n",
      "small_molecule_perturbation                                 is_living: a small molecule added to a cell cu...\n",
      "small_molecule_perturbation__ontology_label                 is_living: small_molecule_perturbation__ontolo...\n",
      "small_molecule_perturbation__concentration                  is_living: Concentration of each small molecul...\n",
      "small_molecule_perturbation__concentration__unit_label      is_living: small_molecule_perturbation__concen...\n",
      "small_molecule_perturbation__solvent                        is_living: Solvent in which the small molecule...\n",
      "small_molecule_perturbation__source                         is_living: Source from which the small molecul...\n",
      "growth_factor_perturbation                                  is_living: a growth factor added to a cell cul...\n",
      "growth_factor_perturbation__ontology_label                  is_living: growth_factor_perturbation__ontolog...\n",
      "growth_factor_perturbation__concentration                   is_living: Concentration of of each growth fac...\n",
      "growth_factor_perturbation__concentration__unit_label       is_living: growth_factor_perturbation__concent...\n",
      "growth_factor_perturbation__solvent                         is_living: Solvent in which the growth factor ...\n",
      "growth_factor_perturbation__source                          is_living: Source from which the growth factor...\n",
      "gene_perturbation                                           is_living: A perturbation to a gene done to a ...\n",
      "gene_perturbation__ontology_label                                is_living: gene_perturbation__ontology_label\n",
      "gene_perturbation__method                                   is_living: Process by which the gene was pertu...\n",
      "gene_perturbation__direction                                is_living: The type of perturbation of the gen...\n",
      "gene_perturbation__dynamics                                 is_living: Description of the timing with resp...\n",
      "CellID                                                                                                    NaN\n",
      "cell_type                                                   is_living: Cell type name determined via unsup...\n",
      "cell_type__ontology_label                                                is_living: cell_type__ontology_label\n",
      "number_of_reads                                                is_living: Number of reads mapped to that cell\n",
      "Name: attribute_description, Length: 83, dtype: object\n",
      "attribute\n",
      "donor_id                                                                                                  NaN\n",
      "species                                                     organ: The scientific binomial name for the sp...\n",
      "species__ontology_label                                                        organ: species__ontology_label\n",
      "ethnicity                                                   organ: The ethnicity or ethnicities of the hum...\n",
      "ethnicity__ontology_label                                                    organ: ethnicity__ontology_label\n",
      "race                                                        organ: An arbitrary classification of a taxono...\n",
      "race__ontology_label                                                              organ: race__ontology_label\n",
      "mouse_strain                                                organ: Mouse strain of the donor organism (ex....\n",
      "mouse_strain__ontology_label                                              organ: mouse_strain__ontology_label\n",
      "vaccination                                                 organ: Any known vaccines administered to the ...\n",
      "vaccination__ontology_label                                                organ: vaccination__ontology_label\n",
      "vaccination__route                                          organ: Intradermal, Intranasal, Intravenous, A...\n",
      "vaccination__dosage                                              organ: The dosage and units for the vaccine \n",
      "vaccination__adjuvants                                       organ: Any adjuvants administered in the vaccine\n",
      "vaccination__time_since                                     organ: Amount of time since vaccine was admini...\n",
      "vaccination__time_since__unit                               organ: Time since each vaccine in the vaccinat...\n",
      "vaccination__time_since__unit_label                                organ: vaccination__time_since__unit_label\n",
      "sex                                                                                     organ: Biological sex\n",
      "is_living                                                   organ: Whether organism was alive at time of b...\n",
      "geographical_region                                         organ: Location where the sample was collected...\n",
      "geographical_region__ontology_label                                organ: geographical_region__ontology_label\n",
      "mhc_genotype                                                 organ: MHC genotype for humans and other species\n",
      "organism_age                                                organ: Age of the organism at time of sample c...\n",
      "organism_age__unit                                                                  organ: organism_age__unit\n",
      "organism_age__unit_label                                                      organ: organism_age__unit_label\n",
      "bmi                                                                                    organ: BMI of organism\n",
      "biosample_id                                                                                              NaN\n",
      "organ                                                         organ: The organ that the biomaterial came from\n",
      "organ__ontology_label                                                            organ: organ__ontology_label\n",
      "sample_type                                                 organ: one of: cell line, organoid, direct fro...\n",
      "                                                                                  ...                        \n",
      "end_bias                                                    organ: The end bias of the library preparation...\n",
      "library_preparation_protocol                                organ: The single cell RNA-sequencing protocol...\n",
      "library_preparation_protocol__ontology_label                organ: library_preparation_protocol__ontology_...\n",
      "primer                                                         organ: Primer used for cDNA synthesis from RNA\n",
      "strand                                                                            organ: library strandedness\n",
      "sequencing_instrument_manufacturer_model                    organ: name of sequencing instrument manufacturer\n",
      "sequencing_instrument_manufacturer_model__ontology_label    organ: sequencing_instrument_manufacturer_mode...\n",
      "paired_ends                                                 organ: true if the sequence library has paired...\n",
      "read_length                                                   organ: the read structure of the sequencing run\n",
      "small_molecule_perturbation                                 organ: a small molecule added to a cell cultur...\n",
      "small_molecule_perturbation__ontology_label                 organ: small_molecule_perturbation__ontology_l...\n",
      "small_molecule_perturbation__concentration                  organ: Concentration of each small molecule in...\n",
      "small_molecule_perturbation__concentration__unit_label      organ: small_molecule_perturbation__concentrat...\n",
      "small_molecule_perturbation__solvent                        organ: Solvent in which the small molecule was...\n",
      "small_molecule_perturbation__source                         organ: Source from which the small molecule wa...\n",
      "growth_factor_perturbation                                  organ: a growth factor added to a cell culture...\n",
      "growth_factor_perturbation__ontology_label                  organ: growth_factor_perturbation__ontology_label\n",
      "growth_factor_perturbation__concentration                   organ: Concentration of of each growth factor ...\n",
      "growth_factor_perturbation__concentration__unit_label       organ: growth_factor_perturbation__concentrati...\n",
      "growth_factor_perturbation__solvent                         organ: Solvent in which the growth factor was ...\n",
      "growth_factor_perturbation__source                          organ: Source from which the growth factor was...\n",
      "gene_perturbation                                           organ: A perturbation to a gene done to a cell...\n",
      "gene_perturbation__ontology_label                                    organ: gene_perturbation__ontology_label\n",
      "gene_perturbation__method                                   organ: Process by which the gene was perturbed...\n",
      "gene_perturbation__direction                                organ: The type of perturbation of the gene de...\n",
      "gene_perturbation__dynamics                                 organ: Description of the timing with respect ...\n",
      "CellID                                                                                                    NaN\n",
      "cell_type                                                   organ: Cell type name determined via unsupervi...\n",
      "cell_type__ontology_label                                                    organ: cell_type__ontology_label\n",
      "number_of_reads                                                    organ: Number of reads mapped to that cell\n",
      "Name: attribute_description, Length: 83, dtype: object\n",
      "attribute\n",
      "donor_id                                                                                                  NaN\n",
      "species                                                     organ__ontology_label: The scientific binomial...\n",
      "species__ontology_label                                        organ__ontology_label: species__ontology_label\n",
      "ethnicity                                                   organ__ontology_label: The ethnicity or ethnic...\n",
      "ethnicity__ontology_label                                    organ__ontology_label: ethnicity__ontology_label\n",
      "race                                                        organ__ontology_label: An arbitrary classifica...\n",
      "race__ontology_label                                              organ__ontology_label: race__ontology_label\n",
      "mouse_strain                                                organ__ontology_label: Mouse strain of the don...\n",
      "mouse_strain__ontology_label                                organ__ontology_label: mouse_strain__ontology_...\n",
      "vaccination                                                 organ__ontology_label: Any known vaccines admi...\n",
      "vaccination__ontology_label                                 organ__ontology_label: vaccination__ontology_l...\n",
      "vaccination__route                                          organ__ontology_label: Intradermal, Intranasal...\n",
      "vaccination__dosage                                         organ__ontology_label: The dosage and units fo...\n",
      "vaccination__adjuvants                                      organ__ontology_label: Any adjuvants administe...\n",
      "vaccination__time_since                                     organ__ontology_label: Amount of time since va...\n",
      "vaccination__time_since__unit                               organ__ontology_label: Time since each vaccine...\n",
      "vaccination__time_since__unit_label                         organ__ontology_label: vaccination__time_since...\n",
      "sex                                                                     organ__ontology_label: Biological sex\n",
      "is_living                                                   organ__ontology_label: Whether organism was al...\n",
      "geographical_region                                         organ__ontology_label: Location where the samp...\n",
      "geographical_region__ontology_label                         organ__ontology_label: geographical_region__on...\n",
      "mhc_genotype                                                organ__ontology_label: MHC genotype for humans...\n",
      "organism_age                                                organ__ontology_label: Age of the organism at ...\n",
      "organism_age__unit                                                  organ__ontology_label: organism_age__unit\n",
      "organism_age__unit_label                                      organ__ontology_label: organism_age__unit_label\n",
      "bmi                                                                    organ__ontology_label: BMI of organism\n",
      "biosample_id                                                                                              NaN\n",
      "organ                                                       organ__ontology_label: The organ that the biom...\n",
      "organ__ontology_label                                            organ__ontology_label: organ__ontology_label\n",
      "sample_type                                                 organ__ontology_label: one of: cell line, orga...\n",
      "                                                                                  ...                        \n",
      "end_bias                                                    organ__ontology_label: The end bias of the lib...\n",
      "library_preparation_protocol                                organ__ontology_label: The single cell RNA-seq...\n",
      "library_preparation_protocol__ontology_label                organ__ontology_label: library_preparation_pro...\n",
      "primer                                                      organ__ontology_label: Primer used for cDNA sy...\n",
      "strand                                                            organ__ontology_label: library strandedness\n",
      "sequencing_instrument_manufacturer_model                    organ__ontology_label: name of sequencing inst...\n",
      "sequencing_instrument_manufacturer_model__ontology_label    organ__ontology_label: sequencing_instrument_m...\n",
      "paired_ends                                                 organ__ontology_label: true if the sequence li...\n",
      "read_length                                                 organ__ontology_label: the read structure of t...\n",
      "small_molecule_perturbation                                 organ__ontology_label: a small molecule added ...\n",
      "small_molecule_perturbation__ontology_label                 organ__ontology_label: small_molecule_perturba...\n",
      "small_molecule_perturbation__concentration                  organ__ontology_label: Concentration of each s...\n",
      "small_molecule_perturbation__concentration__unit_label      organ__ontology_label: small_molecule_perturba...\n",
      "small_molecule_perturbation__solvent                        organ__ontology_label: Solvent in which the sm...\n",
      "small_molecule_perturbation__source                         organ__ontology_label: Source from which the s...\n",
      "growth_factor_perturbation                                  organ__ontology_label: a growth factor added t...\n",
      "growth_factor_perturbation__ontology_label                  organ__ontology_label: growth_factor_perturbat...\n",
      "growth_factor_perturbation__concentration                   organ__ontology_label: Concentration of of eac...\n",
      "growth_factor_perturbation__concentration__unit_label       organ__ontology_label: growth_factor_perturbat...\n",
      "growth_factor_perturbation__solvent                         organ__ontology_label: Solvent in which the gr...\n",
      "growth_factor_perturbation__source                          organ__ontology_label: Source from which the g...\n",
      "gene_perturbation                                           organ__ontology_label: A perturbation to a gen...\n",
      "gene_perturbation__ontology_label                           organ__ontology_label: gene_perturbation__onto...\n",
      "gene_perturbation__method                                   organ__ontology_label: Process by which the ge...\n",
      "gene_perturbation__direction                                organ__ontology_label: The type of perturbatio...\n",
      "gene_perturbation__dynamics                                 organ__ontology_label: Description of the timi...\n",
      "CellID                                                                                                    NaN\n",
      "cell_type                                                   organ__ontology_label: Cell type name determin...\n",
      "cell_type__ontology_label                                    organ__ontology_label: cell_type__ontology_label\n",
      "number_of_reads                                             organ__ontology_label: Number of reads mapped ...\n",
      "Name: attribute_description, Length: 83, dtype: object\n",
      "attribute\n",
      "donor_id                                                                                                  NaN\n",
      "species                                                     sample_type: The scientific binomial name for ...\n",
      "species__ontology_label                                                  sample_type: species__ontology_label\n",
      "ethnicity                                                   sample_type: The ethnicity or ethnicities of t...\n",
      "ethnicity__ontology_label                                              sample_type: ethnicity__ontology_label\n",
      "race                                                        sample_type: An arbitrary classification of a ...\n",
      "race__ontology_label                                                        sample_type: race__ontology_label\n",
      "mouse_strain                                                sample_type: Mouse strain of the donor organis...\n",
      "mouse_strain__ontology_label                                        sample_type: mouse_strain__ontology_label\n",
      "vaccination                                                 sample_type: Any known vaccines administered t...\n",
      "vaccination__ontology_label                                          sample_type: vaccination__ontology_label\n",
      "vaccination__route                                          sample_type: Intradermal, Intranasal, Intraven...\n",
      "vaccination__dosage                                         sample_type: The dosage and units for the vacc...\n",
      "vaccination__adjuvants                                      sample_type: Any adjuvants administered in the...\n",
      "vaccination__time_since                                     sample_type: Amount of time since vaccine was ...\n",
      "vaccination__time_since__unit                               sample_type: Time since each vaccine in the va...\n",
      "vaccination__time_since__unit_label                          sample_type: vaccination__time_since__unit_label\n",
      "sex                                                                               sample_type: Biological sex\n",
      "is_living                                                   sample_type: Whether organism was alive at tim...\n",
      "geographical_region                                         sample_type: Location where the sample was col...\n",
      "geographical_region__ontology_label                          sample_type: geographical_region__ontology_label\n",
      "mhc_genotype                                                sample_type: MHC genotype for humans and other...\n",
      "organism_age                                                sample_type: Age of the organism at time of sa...\n",
      "organism_age__unit                                                            sample_type: organism_age__unit\n",
      "organism_age__unit_label                                                sample_type: organism_age__unit_label\n",
      "bmi                                                                              sample_type: BMI of organism\n",
      "biosample_id                                                                                              NaN\n",
      "organ                                                       sample_type: The organ that the biomaterial ca...\n",
      "organ__ontology_label                                                      sample_type: organ__ontology_label\n",
      "sample_type                                                 sample_type: one of: cell line, organoid, dire...\n",
      "                                                                                  ...                        \n",
      "end_bias                                                    sample_type: The end bias of the library prepa...\n",
      "library_preparation_protocol                                sample_type: The single cell RNA-sequencing pr...\n",
      "library_preparation_protocol__ontology_label                sample_type: library_preparation_protocol__ont...\n",
      "primer                                                      sample_type: Primer used for cDNA synthesis fr...\n",
      "strand                                                                      sample_type: library strandedness\n",
      "sequencing_instrument_manufacturer_model                    sample_type: name of sequencing instrument man...\n",
      "sequencing_instrument_manufacturer_model__ontology_label    sample_type: sequencing_instrument_manufacture...\n",
      "paired_ends                                                 sample_type: true if the sequence library has ...\n",
      "read_length                                                 sample_type: the read structure of the sequenc...\n",
      "small_molecule_perturbation                                 sample_type: a small molecule added to a cell ...\n",
      "small_molecule_perturbation__ontology_label                 sample_type: small_molecule_perturbation__onto...\n",
      "small_molecule_perturbation__concentration                  sample_type: Concentration of each small molec...\n",
      "small_molecule_perturbation__concentration__unit_label      sample_type: small_molecule_perturbation__conc...\n",
      "small_molecule_perturbation__solvent                        sample_type: Solvent in which the small molecu...\n",
      "small_molecule_perturbation__source                         sample_type: Source from which the small molec...\n",
      "growth_factor_perturbation                                  sample_type: a growth factor added to a cell c...\n",
      "growth_factor_perturbation__ontology_label                  sample_type: growth_factor_perturbation__ontol...\n",
      "growth_factor_perturbation__concentration                   sample_type: Concentration of of each growth f...\n",
      "growth_factor_perturbation__concentration__unit_label       sample_type: growth_factor_perturbation__conce...\n",
      "growth_factor_perturbation__solvent                         sample_type: Solvent in which the growth facto...\n",
      "growth_factor_perturbation__source                          sample_type: Source from which the growth fact...\n",
      "gene_perturbation                                           sample_type: A perturbation to a gene done to ...\n",
      "gene_perturbation__ontology_label                              sample_type: gene_perturbation__ontology_label\n",
      "gene_perturbation__method                                   sample_type: Process by which the gene was per...\n",
      "gene_perturbation__direction                                sample_type: The type of perturbation of the g...\n",
      "gene_perturbation__dynamics                                 sample_type: Description of the timing with re...\n",
      "CellID                                                                                                    NaN\n",
      "cell_type                                                   sample_type: Cell type name determined via uns...\n",
      "cell_type__ontology_label                                              sample_type: cell_type__ontology_label\n",
      "number_of_reads                                              sample_type: Number of reads mapped to that cell\n",
      "Name: attribute_description, Length: 83, dtype: object\n",
      "attribute\n",
      "donor_id                                                                                                  NaN\n",
      "species                                                     disease: The scientific binomial name for the ...\n",
      "species__ontology_label                                                      disease: species__ontology_label\n",
      "ethnicity                                                   disease: The ethnicity or ethnicities of the h...\n",
      "ethnicity__ontology_label                                                  disease: ethnicity__ontology_label\n",
      "race                                                        disease: An arbitrary classification of a taxo...\n",
      "race__ontology_label                                                            disease: race__ontology_label\n",
      "mouse_strain                                                disease: Mouse strain of the donor organism (e...\n",
      "mouse_strain__ontology_label                                            disease: mouse_strain__ontology_label\n",
      "vaccination                                                 disease: Any known vaccines administered to th...\n",
      "vaccination__ontology_label                                              disease: vaccination__ontology_label\n",
      "vaccination__route                                          disease: Intradermal, Intranasal, Intravenous,...\n",
      "vaccination__dosage                                            disease: The dosage and units for the vaccine \n",
      "vaccination__adjuvants                                      disease: Any adjuvants administered in the vac...\n",
      "vaccination__time_since                                     disease: Amount of time since vaccine was admi...\n",
      "vaccination__time_since__unit                               disease: Time since each vaccine in the vaccin...\n",
      "vaccination__time_since__unit_label                              disease: vaccination__time_since__unit_label\n",
      "sex                                                                                   disease: Biological sex\n",
      "is_living                                                   disease: Whether organism was alive at time of...\n",
      "geographical_region                                         disease: Location where the sample was collect...\n",
      "geographical_region__ontology_label                              disease: geographical_region__ontology_label\n",
      "mhc_genotype                                                disease: MHC genotype for humans and other spe...\n",
      "organism_age                                                disease: Age of the organism at time of sample...\n",
      "organism_age__unit                                                                disease: organism_age__unit\n",
      "organism_age__unit_label                                                    disease: organism_age__unit_label\n",
      "bmi                                                                                  disease: BMI of organism\n",
      "biosample_id                                                                                              NaN\n",
      "organ                                                       disease: The organ that the biomaterial came from\n",
      "organ__ontology_label                                                          disease: organ__ontology_label\n",
      "sample_type                                                 disease: one of: cell line, organoid, direct f...\n",
      "                                                                                  ...                        \n",
      "end_bias                                                    disease: The end bias of the library preparati...\n",
      "library_preparation_protocol                                disease: The single cell RNA-sequencing protoc...\n",
      "library_preparation_protocol__ontology_label                disease: library_preparation_protocol__ontolog...\n",
      "primer                                                       disease: Primer used for cDNA synthesis from RNA\n",
      "strand                                                                          disease: library strandedness\n",
      "sequencing_instrument_manufacturer_model                    disease: name of sequencing instrument manufac...\n",
      "sequencing_instrument_manufacturer_model__ontology_label    disease: sequencing_instrument_manufacturer_mo...\n",
      "paired_ends                                                 disease: true if the sequence library has pair...\n",
      "read_length                                                 disease: the read structure of the sequencing run\n",
      "small_molecule_perturbation                                 disease: a small molecule added to a cell cult...\n",
      "small_molecule_perturbation__ontology_label                 disease: small_molecule_perturbation__ontology...\n",
      "small_molecule_perturbation__concentration                  disease: Concentration of each small molecule ...\n",
      "small_molecule_perturbation__concentration__unit_label      disease: small_molecule_perturbation__concentr...\n",
      "small_molecule_perturbation__solvent                        disease: Solvent in which the small molecule w...\n",
      "small_molecule_perturbation__source                         disease: Source from which the small molecule ...\n",
      "growth_factor_perturbation                                  disease: a growth factor added to a cell cultu...\n",
      "growth_factor_perturbation__ontology_label                  disease: growth_factor_perturbation__ontology_...\n",
      "growth_factor_perturbation__concentration                   disease: Concentration of of each growth facto...\n",
      "growth_factor_perturbation__concentration__unit_label       disease: growth_factor_perturbation__concentra...\n",
      "growth_factor_perturbation__solvent                         disease: Solvent in which the growth factor wa...\n",
      "growth_factor_perturbation__source                          disease: Source from which the growth factor w...\n",
      "gene_perturbation                                           disease: A perturbation to a gene done to a ce...\n",
      "gene_perturbation__ontology_label                                  disease: gene_perturbation__ontology_label\n",
      "gene_perturbation__method                                   disease: Process by which the gene was perturb...\n",
      "gene_perturbation__direction                                disease: The type of perturbation of the gene ...\n",
      "gene_perturbation__dynamics                                 disease: Description of the timing with respec...\n",
      "CellID                                                                                                    NaN\n",
      "cell_type                                                   disease: Cell type name determined via unsuper...\n",
      "cell_type__ontology_label                                                  disease: cell_type__ontology_label\n",
      "number_of_reads                                                  disease: Number of reads mapped to that cell\n",
      "Name: attribute_description, Length: 83, dtype: object\n",
      "attribute\n",
      "donor_id                                                                                                  NaN\n",
      "species                                                     disease__ontology_label: The scientific binomi...\n",
      "species__ontology_label                                      disease__ontology_label: species__ontology_label\n",
      "ethnicity                                                   disease__ontology_label: The ethnicity or ethn...\n",
      "ethnicity__ontology_label                                   disease__ontology_label: ethnicity__ontology_l...\n",
      "race                                                        disease__ontology_label: An arbitrary classifi...\n",
      "race__ontology_label                                            disease__ontology_label: race__ontology_label\n",
      "mouse_strain                                                disease__ontology_label: Mouse strain of the d...\n",
      "mouse_strain__ontology_label                                disease__ontology_label: mouse_strain__ontolog...\n",
      "vaccination                                                 disease__ontology_label: Any known vaccines ad...\n",
      "vaccination__ontology_label                                 disease__ontology_label: vaccination__ontology...\n",
      "vaccination__route                                          disease__ontology_label: Intradermal, Intranas...\n",
      "vaccination__dosage                                         disease__ontology_label: The dosage and units ...\n",
      "vaccination__adjuvants                                      disease__ontology_label: Any adjuvants adminis...\n",
      "vaccination__time_since                                     disease__ontology_label: Amount of time since ...\n",
      "vaccination__time_since__unit                               disease__ontology_label: Time since each vacci...\n",
      "vaccination__time_since__unit_label                         disease__ontology_label: vaccination__time_sin...\n",
      "sex                                                                   disease__ontology_label: Biological sex\n",
      "is_living                                                   disease__ontology_label: Whether organism was ...\n",
      "geographical_region                                         disease__ontology_label: Location where the sa...\n",
      "geographical_region__ontology_label                         disease__ontology_label: geographical_region__...\n",
      "mhc_genotype                                                disease__ontology_label: MHC genotype for huma...\n",
      "organism_age                                                disease__ontology_label: Age of the organism a...\n",
      "organism_age__unit                                                disease__ontology_label: organism_age__unit\n",
      "organism_age__unit_label                                    disease__ontology_label: organism_age__unit_label\n",
      "bmi                                                                  disease__ontology_label: BMI of organism\n",
      "biosample_id                                                                                              NaN\n",
      "organ                                                       disease__ontology_label: The organ that the bi...\n",
      "organ__ontology_label                                          disease__ontology_label: organ__ontology_label\n",
      "sample_type                                                 disease__ontology_label: one of: cell line, or...\n",
      "                                                                                  ...                        \n",
      "end_bias                                                    disease__ontology_label: The end bias of the l...\n",
      "library_preparation_protocol                                disease__ontology_label: The single cell RNA-s...\n",
      "library_preparation_protocol__ontology_label                disease__ontology_label: library_preparation_p...\n",
      "primer                                                      disease__ontology_label: Primer used for cDNA ...\n",
      "strand                                                          disease__ontology_label: library strandedness\n",
      "sequencing_instrument_manufacturer_model                    disease__ontology_label: name of sequencing in...\n",
      "sequencing_instrument_manufacturer_model__ontology_label    disease__ontology_label: sequencing_instrument...\n",
      "paired_ends                                                 disease__ontology_label: true if the sequence ...\n",
      "read_length                                                 disease__ontology_label: the read structure of...\n",
      "small_molecule_perturbation                                 disease__ontology_label: a small molecule adde...\n",
      "small_molecule_perturbation__ontology_label                 disease__ontology_label: small_molecule_pertur...\n",
      "small_molecule_perturbation__concentration                  disease__ontology_label: Concentration of each...\n",
      "small_molecule_perturbation__concentration__unit_label      disease__ontology_label: small_molecule_pertur...\n",
      "small_molecule_perturbation__solvent                        disease__ontology_label: Solvent in which the ...\n",
      "small_molecule_perturbation__source                         disease__ontology_label: Source from which the...\n",
      "growth_factor_perturbation                                  disease__ontology_label: a growth factor added...\n",
      "growth_factor_perturbation__ontology_label                  disease__ontology_label: growth_factor_perturb...\n",
      "growth_factor_perturbation__concentration                   disease__ontology_label: Concentration of of e...\n",
      "growth_factor_perturbation__concentration__unit_label       disease__ontology_label: growth_factor_perturb...\n",
      "growth_factor_perturbation__solvent                         disease__ontology_label: Solvent in which the ...\n",
      "growth_factor_perturbation__source                          disease__ontology_label: Source from which the...\n",
      "gene_perturbation                                           disease__ontology_label: A perturbation to a g...\n",
      "gene_perturbation__ontology_label                           disease__ontology_label: gene_perturbation__on...\n",
      "gene_perturbation__method                                   disease__ontology_label: Process by which the ...\n",
      "gene_perturbation__direction                                disease__ontology_label: The type of perturbat...\n",
      "gene_perturbation__dynamics                                 disease__ontology_label: Description of the ti...\n",
      "CellID                                                                                                    NaN\n",
      "cell_type                                                   disease__ontology_label: Cell type name determ...\n",
      "cell_type__ontology_label                                   disease__ontology_label: cell_type__ontology_l...\n",
      "number_of_reads                                             disease__ontology_label: Number of reads mappe...\n",
      "Name: attribute_description, Length: 83, dtype: object\n",
      "attribute\n",
      "donor_id                                                                                                  NaN\n",
      "species                                                     library_preparation_protocol: The scientific b...\n",
      "species__ontology_label                                     library_preparation_protocol: species__ontolog...\n",
      "ethnicity                                                   library_preparation_protocol: The ethnicity or...\n",
      "ethnicity__ontology_label                                   library_preparation_protocol: ethnicity__ontol...\n",
      "race                                                        library_preparation_protocol: An arbitrary cla...\n",
      "race__ontology_label                                        library_preparation_protocol: race__ontology_l...\n",
      "mouse_strain                                                library_preparation_protocol: Mouse strain of ...\n",
      "mouse_strain__ontology_label                                library_preparation_protocol: mouse_strain__on...\n",
      "vaccination                                                 library_preparation_protocol: Any known vaccin...\n",
      "vaccination__ontology_label                                 library_preparation_protocol: vaccination__ont...\n",
      "vaccination__route                                          library_preparation_protocol: Intradermal, Int...\n",
      "vaccination__dosage                                         library_preparation_protocol: The dosage and u...\n",
      "vaccination__adjuvants                                      library_preparation_protocol: Any adjuvants ad...\n",
      "vaccination__time_since                                     library_preparation_protocol: Amount of time s...\n",
      "vaccination__time_since__unit                               library_preparation_protocol: Time since each ...\n",
      "vaccination__time_since__unit_label                         library_preparation_protocol: vaccination__tim...\n",
      "sex                                                              library_preparation_protocol: Biological sex\n",
      "is_living                                                   library_preparation_protocol: Whether organism...\n",
      "geographical_region                                         library_preparation_protocol: Location where t...\n",
      "geographical_region__ontology_label                         library_preparation_protocol: geographical_reg...\n",
      "mhc_genotype                                                library_preparation_protocol: MHC genotype for...\n",
      "organism_age                                                library_preparation_protocol: Age of the organ...\n",
      "organism_age__unit                                           library_preparation_protocol: organism_age__unit\n",
      "organism_age__unit_label                                    library_preparation_protocol: organism_age__un...\n",
      "bmi                                                             library_preparation_protocol: BMI of organism\n",
      "biosample_id                                                                                              NaN\n",
      "organ                                                       library_preparation_protocol: The organ that t...\n",
      "organ__ontology_label                                       library_preparation_protocol: organ__ontology_...\n",
      "sample_type                                                 library_preparation_protocol: one of: cell lin...\n",
      "                                                                                  ...                        \n",
      "end_bias                                                    library_preparation_protocol: The end bias of ...\n",
      "library_preparation_protocol                                library_preparation_protocol: The single cell ...\n",
      "library_preparation_protocol__ontology_label                library_preparation_protocol: library_preparat...\n",
      "primer                                                      library_preparation_protocol: Primer used for ...\n",
      "strand                                                      library_preparation_protocol: library stranded...\n",
      "sequencing_instrument_manufacturer_model                    library_preparation_protocol: name of sequenci...\n",
      "sequencing_instrument_manufacturer_model__ontology_label    library_preparation_protocol: sequencing_instr...\n",
      "paired_ends                                                 library_preparation_protocol: true if the sequ...\n",
      "read_length                                                 library_preparation_protocol: the read structu...\n",
      "small_molecule_perturbation                                 library_preparation_protocol: a small molecule...\n",
      "small_molecule_perturbation__ontology_label                 library_preparation_protocol: small_molecule_p...\n",
      "small_molecule_perturbation__concentration                  library_preparation_protocol: Concentration of...\n",
      "small_molecule_perturbation__concentration__unit_label      library_preparation_protocol: small_molecule_p...\n",
      "small_molecule_perturbation__solvent                        library_preparation_protocol: Solvent in which...\n",
      "small_molecule_perturbation__source                         library_preparation_protocol: Source from whic...\n",
      "growth_factor_perturbation                                  library_preparation_protocol: a growth factor ...\n",
      "growth_factor_perturbation__ontology_label                  library_preparation_protocol: growth_factor_pe...\n",
      "growth_factor_perturbation__concentration                   library_preparation_protocol: Concentration of...\n",
      "growth_factor_perturbation__concentration__unit_label       library_preparation_protocol: growth_factor_pe...\n",
      "growth_factor_perturbation__solvent                         library_preparation_protocol: Solvent in which...\n",
      "growth_factor_perturbation__source                          library_preparation_protocol: Source from whic...\n",
      "gene_perturbation                                           library_preparation_protocol: A perturbation t...\n",
      "gene_perturbation__ontology_label                           library_preparation_protocol: gene_perturbatio...\n",
      "gene_perturbation__method                                   library_preparation_protocol: Process by which...\n",
      "gene_perturbation__direction                                library_preparation_protocol: The type of pert...\n",
      "gene_perturbation__dynamics                                 library_preparation_protocol: Description of t...\n",
      "CellID                                                                                                    NaN\n",
      "cell_type                                                   library_preparation_protocol: Cell type name d...\n",
      "cell_type__ontology_label                                   library_preparation_protocol: cell_type__ontol...\n",
      "number_of_reads                                             library_preparation_protocol: Number of reads ...\n",
      "Name: attribute_description, Length: 83, dtype: object\n",
      "attribute\n",
      "donor_id                                                                                                  NaN\n",
      "species                                                     library_preparation_protocol__ontology_label: ...\n",
      "species__ontology_label                                     library_preparation_protocol__ontology_label: ...\n",
      "ethnicity                                                   library_preparation_protocol__ontology_label: ...\n",
      "ethnicity__ontology_label                                   library_preparation_protocol__ontology_label: ...\n",
      "race                                                        library_preparation_protocol__ontology_label: ...\n",
      "race__ontology_label                                        library_preparation_protocol__ontology_label: ...\n",
      "mouse_strain                                                library_preparation_protocol__ontology_label: ...\n",
      "mouse_strain__ontology_label                                library_preparation_protocol__ontology_label: ...\n",
      "vaccination                                                 library_preparation_protocol__ontology_label: ...\n",
      "vaccination__ontology_label                                 library_preparation_protocol__ontology_label: ...\n",
      "vaccination__route                                          library_preparation_protocol__ontology_label: ...\n",
      "vaccination__dosage                                         library_preparation_protocol__ontology_label: ...\n",
      "vaccination__adjuvants                                      library_preparation_protocol__ontology_label: ...\n",
      "vaccination__time_since                                     library_preparation_protocol__ontology_label: ...\n",
      "vaccination__time_since__unit                               library_preparation_protocol__ontology_label: ...\n",
      "vaccination__time_since__unit_label                         library_preparation_protocol__ontology_label: ...\n",
      "sex                                                         library_preparation_protocol__ontology_label: ...\n",
      "is_living                                                   library_preparation_protocol__ontology_label: ...\n",
      "geographical_region                                         library_preparation_protocol__ontology_label: ...\n",
      "geographical_region__ontology_label                         library_preparation_protocol__ontology_label: ...\n",
      "mhc_genotype                                                library_preparation_protocol__ontology_label: ...\n",
      "organism_age                                                library_preparation_protocol__ontology_label: ...\n",
      "organism_age__unit                                          library_preparation_protocol__ontology_label: ...\n",
      "organism_age__unit_label                                    library_preparation_protocol__ontology_label: ...\n",
      "bmi                                                         library_preparation_protocol__ontology_label: ...\n",
      "biosample_id                                                                                              NaN\n",
      "organ                                                       library_preparation_protocol__ontology_label: ...\n",
      "organ__ontology_label                                       library_preparation_protocol__ontology_label: ...\n",
      "sample_type                                                 library_preparation_protocol__ontology_label: ...\n",
      "                                                                                  ...                        \n",
      "end_bias                                                    library_preparation_protocol__ontology_label: ...\n",
      "library_preparation_protocol                                library_preparation_protocol__ontology_label: ...\n",
      "library_preparation_protocol__ontology_label                library_preparation_protocol__ontology_label: ...\n",
      "primer                                                      library_preparation_protocol__ontology_label: ...\n",
      "strand                                                      library_preparation_protocol__ontology_label: ...\n",
      "sequencing_instrument_manufacturer_model                    library_preparation_protocol__ontology_label: ...\n",
      "sequencing_instrument_manufacturer_model__ontology_label    library_preparation_protocol__ontology_label: ...\n",
      "paired_ends                                                 library_preparation_protocol__ontology_label: ...\n",
      "read_length                                                 library_preparation_protocol__ontology_label: ...\n",
      "small_molecule_perturbation                                 library_preparation_protocol__ontology_label: ...\n",
      "small_molecule_perturbation__ontology_label                 library_preparation_protocol__ontology_label: ...\n",
      "small_molecule_perturbation__concentration                  library_preparation_protocol__ontology_label: ...\n",
      "small_molecule_perturbation__concentration__unit_label      library_preparation_protocol__ontology_label: ...\n",
      "small_molecule_perturbation__solvent                        library_preparation_protocol__ontology_label: ...\n",
      "small_molecule_perturbation__source                         library_preparation_protocol__ontology_label: ...\n",
      "growth_factor_perturbation                                  library_preparation_protocol__ontology_label: ...\n",
      "growth_factor_perturbation__ontology_label                  library_preparation_protocol__ontology_label: ...\n",
      "growth_factor_perturbation__concentration                   library_preparation_protocol__ontology_label: ...\n",
      "growth_factor_perturbation__concentration__unit_label       library_preparation_protocol__ontology_label: ...\n",
      "growth_factor_perturbation__solvent                         library_preparation_protocol__ontology_label: ...\n",
      "growth_factor_perturbation__source                          library_preparation_protocol__ontology_label: ...\n",
      "gene_perturbation                                           library_preparation_protocol__ontology_label: ...\n",
      "gene_perturbation__ontology_label                           library_preparation_protocol__ontology_label: ...\n",
      "gene_perturbation__method                                   library_preparation_protocol__ontology_label: ...\n",
      "gene_perturbation__direction                                library_preparation_protocol__ontology_label: ...\n",
      "gene_perturbation__dynamics                                 library_preparation_protocol__ontology_label: ...\n",
      "CellID                                                                                                    NaN\n",
      "cell_type                                                   library_preparation_protocol__ontology_label: ...\n",
      "cell_type__ontology_label                                   library_preparation_protocol__ontology_label: ...\n",
      "number_of_reads                                             library_preparation_protocol__ontology_label: ...\n",
      "Name: attribute_description, Length: 83, dtype: object\n",
      "attribute\n",
      "donor_id                                                                                                  NaN\n",
      "species                                                     CellID: The scientific binomial name for the s...\n",
      "species__ontology_label                                                       CellID: species__ontology_label\n",
      "ethnicity                                                   CellID: The ethnicity or ethnicities of the hu...\n",
      "ethnicity__ontology_label                                                   CellID: ethnicity__ontology_label\n",
      "race                                                        CellID: An arbitrary classification of a taxon...\n",
      "race__ontology_label                                                             CellID: race__ontology_label\n",
      "mouse_strain                                                CellID: Mouse strain of the donor organism (ex...\n",
      "mouse_strain__ontology_label                                             CellID: mouse_strain__ontology_label\n",
      "vaccination                                                 CellID: Any known vaccines administered to the...\n",
      "vaccination__ontology_label                                               CellID: vaccination__ontology_label\n",
      "vaccination__route                                          CellID: Intradermal, Intranasal, Intravenous, ...\n",
      "vaccination__dosage                                             CellID: The dosage and units for the vaccine \n",
      "vaccination__adjuvants                                      CellID: Any adjuvants administered in the vaccine\n",
      "vaccination__time_since                                     CellID: Amount of time since vaccine was admin...\n",
      "vaccination__time_since__unit                               CellID: Time since each vaccine in the vaccina...\n",
      "vaccination__time_since__unit_label                               CellID: vaccination__time_since__unit_label\n",
      "sex                                                                                    CellID: Biological sex\n",
      "is_living                                                   CellID: Whether organism was alive at time of ...\n",
      "geographical_region                                         CellID: Location where the sample was collecte...\n",
      "geographical_region__ontology_label                               CellID: geographical_region__ontology_label\n",
      "mhc_genotype                                                CellID: MHC genotype for humans and other species\n",
      "organism_age                                                CellID: Age of the organism at time of sample ...\n",
      "organism_age__unit                                                                 CellID: organism_age__unit\n",
      "organism_age__unit_label                                                     CellID: organism_age__unit_label\n",
      "bmi                                                                                   CellID: BMI of organism\n",
      "biosample_id                                                                                              NaN\n",
      "organ                                                        CellID: The organ that the biomaterial came from\n",
      "organ__ontology_label                                                           CellID: organ__ontology_label\n",
      "sample_type                                                 CellID: one of: cell line, organoid, direct fr...\n",
      "                                                                                  ...                        \n",
      "end_bias                                                    CellID: The end bias of the library preparatio...\n",
      "library_preparation_protocol                                CellID: The single cell RNA-sequencing protoco...\n",
      "library_preparation_protocol__ontology_label                CellID: library_preparation_protocol__ontology...\n",
      "primer                                                        CellID: Primer used for cDNA synthesis from RNA\n",
      "strand                                                                           CellID: library strandedness\n",
      "sequencing_instrument_manufacturer_model                    CellID: name of sequencing instrument manufact...\n",
      "sequencing_instrument_manufacturer_model__ontology_label    CellID: sequencing_instrument_manufacturer_mod...\n",
      "paired_ends                                                 CellID: true if the sequence library has paire...\n",
      "read_length                                                  CellID: the read structure of the sequencing run\n",
      "small_molecule_perturbation                                 CellID: a small molecule added to a cell cultu...\n",
      "small_molecule_perturbation__ontology_label                 CellID: small_molecule_perturbation__ontology_...\n",
      "small_molecule_perturbation__concentration                  CellID: Concentration of each small molecule i...\n",
      "small_molecule_perturbation__concentration__unit_label      CellID: small_molecule_perturbation__concentra...\n",
      "small_molecule_perturbation__solvent                        CellID: Solvent in which the small molecule wa...\n",
      "small_molecule_perturbation__source                         CellID: Source from which the small molecule w...\n",
      "growth_factor_perturbation                                  CellID: a growth factor added to a cell cultur...\n",
      "growth_factor_perturbation__ontology_label                  CellID: growth_factor_perturbation__ontology_l...\n",
      "growth_factor_perturbation__concentration                   CellID: Concentration of of each growth factor...\n",
      "growth_factor_perturbation__concentration__unit_label       CellID: growth_factor_perturbation__concentrat...\n",
      "growth_factor_perturbation__solvent                         CellID: Solvent in which the growth factor was...\n",
      "growth_factor_perturbation__source                          CellID: Source from which the growth factor wa...\n",
      "gene_perturbation                                           CellID: A perturbation to a gene done to a cel...\n",
      "gene_perturbation__ontology_label                                   CellID: gene_perturbation__ontology_label\n",
      "gene_perturbation__method                                   CellID: Process by which the gene was perturbe...\n",
      "gene_perturbation__direction                                CellID: The type of perturbation of the gene d...\n",
      "gene_perturbation__dynamics                                 CellID: Description of the timing with respect...\n",
      "CellID                                                                                                    NaN\n",
      "cell_type                                                   CellID: Cell type name determined via unsuperv...\n",
      "cell_type__ontology_label                                                   CellID: cell_type__ontology_label\n",
      "number_of_reads                                                   CellID: Number of reads mapped to that cell\n",
      "Name: attribute_description, Length: 83, dtype: object\n"
     ]
    }
   ],
   "source": [
    "for k in metadata_info.loc[metadata_info[\"required\"]==\"Yes\"].index:\n",
    "    print(k+\": \"+metadata_info[\"attribute_description\"])"
   ]
  },
  {
   "cell_type": "code",
   "execution_count": 41,
   "metadata": {},
   "outputs": [
    {
     "data": {
      "application/vnd.jupyter.widget-view+json": {
       "model_id": "8c561e2cee054312a50fd380f03be1c2",
       "version_major": 2,
       "version_minor": 0
      },
      "text/plain": [
       "Dropdown(description='table with metadata to map', options=('cell level dataframe',), style=DescriptionStyle(d…"
      ]
     },
     "metadata": {},
     "output_type": "display_data"
    },
    {
     "data": {
      "application/vnd.jupyter.widget-view+json": {
       "model_id": "80adeeaf60544375953a997f48b870cc",
       "version_major": 2,
       "version_minor": 0
      },
      "text/plain": [
       "Output()"
      ]
     },
     "metadata": {},
     "output_type": "display_data"
    },
    {
     "data": {
      "application/vnd.jupyter.widget-view+json": {
       "model_id": "8b259a1bbccc404a88b5ae42b01f2a1b",
       "version_major": 2,
       "version_minor": 0
      },
      "text/plain": [
       "Button(description='select table', layout=Layout(height='40px', width='auto'), style=ButtonStyle())"
      ]
     },
     "metadata": {},
     "output_type": "display_data"
    }
   ],
   "source": [
    "# this is the workhorse cell of the metadata adder!\n",
    "# TODO: make the labels for the dropdowns show the whole text\n",
    "# TODO: add some indication that you should just go back to the top and re-run for multiple files\n",
    "# TODO: give indication of which metadata has been added\n",
    "# TODO: non-controlled list doesnt bring you back to the starting dropdown\n",
    "meta_addr = ma.MetadataAdder(mapping_options, available_metadata, metadata_info, cell_level_metadata)"
   ]
  },
  {
   "cell_type": "code",
   "execution_count": 27,
   "metadata": {},
   "outputs": [],
   "source": [
    "cell_level_metadata = meta_addr.cell_level_metadata"
   ]
  },
  {
   "cell_type": "code",
   "execution_count": 29,
   "metadata": {},
   "outputs": [
    {
     "data": {
      "text/plain": [
       "array(['VO_0000771', ''], dtype=object)"
      ]
     },
     "execution_count": 29,
     "metadata": {},
     "output_type": "execute_result"
    }
   ],
   "source": [
    "cell_level_metadata[\"vaccination\"].unique()"
   ]
  },
  {
   "cell_type": "markdown",
   "metadata": {},
   "source": [
    "Now if you have any more files to add, go back to _Step 3b_. If not go to the next cell"
   ]
  },
  {
   "cell_type": "markdown",
   "metadata": {},
   "source": [
    "## Step 3c: Check that all required keys are mapped"
   ]
  },
  {
   "cell_type": "code",
   "execution_count": 279,
   "metadata": {},
   "outputs": [],
   "source": [
    "required_keys = metadata_info.loc[metadata_info[\"required\"]==\"Yes\"].index"
   ]
  },
  {
   "cell_type": "code",
   "execution_count": 290,
   "metadata": {},
   "outputs": [
    {
     "data": {
      "text/plain": [
       "str"
      ]
     },
     "execution_count": 290,
     "metadata": {},
     "output_type": "execute_result"
    }
   ],
   "source": []
  },
  {
   "cell_type": "code",
   "execution_count": 291,
   "metadata": {},
   "outputs": [
    {
     "name": "stdout",
     "output_type": "stream",
     "text": [
      "You need to add a value for is_living before proceeding!\n",
      "You need to add a value for sample_type before proceeding!\n",
      "You need to add a value for disease__ontology_label before proceeding!\n",
      "You need to add a value for CellID before proceeding!\n"
     ]
    }
   ],
   "source": [
    "for k in required_keys:\n",
    "    if k not in cell_level_metadata.columns:\n",
    "        #default?\n",
    "        default_val = metadata_info.loc[k,\"default\"]\n",
    "        if type(default_val) is str: # this is sketchy but right now all the defaults are strings so whatevs\n",
    "            cell_level_metadata[k] = default_val\n",
    "        else:\n",
    "            print(\"You need to add a value for \"+k+\" before proceeding!\")"
   ]
  },
  {
   "cell_type": "markdown",
   "metadata": {},
   "source": [
    "To add these required values you should go back to Step 3b. "
   ]
  },
  {
   "cell_type": "markdown",
   "metadata": {},
   "source": [
    "## Step 3d: All numeric metadata needs units, so now add units..."
   ]
  },
  {
   "cell_type": "code",
   "execution_count": 303,
   "metadata": {},
   "outputs": [
    {
     "name": "stdout",
     "output_type": "stream",
     "text": [
      "1\n"
     ]
    },
    {
     "data": {
      "application/vnd.jupyter.widget-view+json": {
       "model_id": "ab8bf8887bff4366a82bfec7ef517070",
       "version_major": 2,
       "version_minor": 0
      },
      "text/plain": [
       "Dropdown(description='organism_age__unit', options=((\"month: A time unit which is approximately equal to the l…"
      ]
     },
     "metadata": {},
     "output_type": "display_data"
    }
   ],
   "source": [
    "# make a list of unit metadata that you have\n",
    "my_metadata_info = metadata_info.loc[cell_level_metadata.columns]\n",
    "unit_dropdowns = {}\n",
    "name_id_dicts = {}\n",
    "for dep_metadata in my_metadata_info.loc[~my_metadata_info[\"dependent\"].isna()].index:\n",
    "    m_name = metadata_info.loc[dep_metadata,\"dependent\"]\n",
    "    \n",
    "    if metadata_info.loc[m_name, \"class\"] == \"ontology\":\n",
    "        ont = metadata_info.loc[m_name, \"ontology\"].split(\"/\")[-1]\n",
    "        list_for_dropdown, name_id_dict = uh.query_all_values_under_root(ont,metadata_info.loc[m_name, \"ontology_root\"])\n",
    "        unit_dropdowns[m_name] = uh.choose_metadata_name_dropdown(list_for_dropdown,m_name)\n",
    "        name_id_dicts[m_name] = name_id_dict\n",
    "    else:\n",
    "        unit_dropdowns[m_name] = widgets.Text(\n",
    "                    value=\"type unit here\",\n",
    "                    placeholder='type unit here',\n",
    "                    description=m_name,\n",
    "                    disabled=False\n",
    "                )\n",
    "    \n",
    "for n,v in unit_dropdowns.items():\n",
    "    display(v)"
   ]
  },
  {
   "cell_type": "code",
   "execution_count": 305,
   "metadata": {},
   "outputs": [],
   "source": [
    "unit_values = {}\n",
    "for n,v in unit_dropdowns.items():\n",
    "    cells_with_dep = cell_level_metadata.loc[~cell_level_metadata[metadata_info.loc[n,\"dependency\"]].isna()].index\n",
    "    val = v.value\n",
    "    if n in name_id_dicts:\n",
    "        cell_level_metadata.loc[cells_with_dep, n+\"__ontology_label\"] = name_id_dicts[n][val]\n",
    "    cell_level_metadata.loc[cells_with_dep,n] = val\n",
    "\n"
   ]
  },
  {
   "cell_type": "code",
   "execution_count": 307,
   "metadata": {},
   "outputs": [
    {
     "data": {
      "text/plain": [
       "(13341, 17)"
      ]
     },
     "execution_count": 307,
     "metadata": {},
     "output_type": "execute_result"
    }
   ],
   "source": []
  },
  {
   "cell_type": "code",
   "execution_count": 308,
   "metadata": {},
   "outputs": [
    {
     "data": {
      "text/plain": [
       "(4447, 8)"
      ]
     },
     "execution_count": 308,
     "metadata": {},
     "output_type": "execute_result"
    }
   ],
   "source": []
  },
  {
   "cell_type": "markdown",
   "metadata": {},
   "source": [
    "## Step 3e: Add in any unstructured metadata that you want to add (and their types)"
   ]
  },
  {
   "cell_type": "code",
   "execution_count": null,
   "metadata": {},
   "outputs": [],
   "source": [
    "print(\"here are all the metadata columns in your cell level files:\")\n",
    "\n",
    "print(mapping_options[\"cell level dataframe\"].columns)\n",
    "\n"
   ]
  },
  {
   "cell_type": "markdown",
   "metadata": {},
   "source": [
    "In the dictionary below, replace the keys with column names in the choices printed above and replace the values with the type: group or numeric, of the column. Add as many as you would like"
   ]
  },
  {
   "cell_type": "code",
   "execution_count": null,
   "metadata": {},
   "outputs": [],
   "source": [
    "unstructured_metadata_types = {\"columnname 1\":\"numeric\",\"columnname 2\": \"group\"}"
   ]
  },
  {
   "cell_type": "code",
   "execution_count": null,
   "metadata": {},
   "outputs": [],
   "source": [
    "for m in unstructured_metadata_types:\n",
    "    cell_level_metadata[m] = mapping_options[\"cell level dataframe\"].loc[cell_level_metadata.index, m]"
   ]
  },
  {
   "cell_type": "markdown",
   "metadata": {},
   "source": [
    "## Map the structured Alexandria metadata types"
   ]
  },
  {
   "cell_type": "code",
   "execution_count": 45,
   "metadata": {},
   "outputs": [
    {
     "data": {
      "text/plain": [
       "array(['string', 'number', 'boolean'], dtype=object)"
      ]
     },
     "execution_count": 45,
     "metadata": {},
     "output_type": "execute_result"
    }
   ],
   "source": [
    "metadata_info['alexandria type']=metadata_info['type'].map({\"string\":\"group\",\"number\":\"numeric\",\"boolean\":\"group\"})\n",
    "\n",
    "types_row = pd.DataFrame(index= [\"TYPE\"], columns = cell_level_metadata.columns)\n",
    "\n",
    "for column in cell_level_metadata.columns:\n",
    "    if column in metadata_info.index:\n",
    "        types_row.loc[\"TYPE\",column] = metadata_info.loc[column,'alexandria type']\n",
    "        \n",
    "    else:\n",
    "        types_row.loc[\"TYPE\", column] = unstructured_metadata_types[column]\n",
    "\n",
    "\n",
    "final_metadata_dataframe = pd.concatenate([types_row, cell_level_metadata])\n",
    "\n",
    "final_metadata_dataframe.index.name = \"CELL\"\n"
   ]
  },
  {
   "cell_type": "markdown",
   "metadata": {},
   "source": [
    "# Write file to Alexandria format"
   ]
  },
  {
   "cell_type": "code",
   "execution_count": null,
   "metadata": {},
   "outputs": [],
   "source": [
    "final_metadata_dataframe.to_csv(prefix+\"structured_metadata.csv\")"
   ]
  },
  {
   "cell_type": "markdown",
   "metadata": {},
   "source": [
    "# Now what?"
   ]
  },
  {
   "cell_type": "markdown",
   "metadata": {},
   "source": [
    "This is a description of how to figure out how to upload these files and a like to SCP (and how to get it in the alexandria namespace)"
   ]
  }
 ],
 "metadata": {
  "kernelspec": {
   "display_name": "Python 3",
   "language": "python",
   "name": "python3"
  },
  "language_info": {
   "codemirror_mode": {
    "name": "ipython",
    "version": 3
   },
   "file_extension": ".py",
   "mimetype": "text/x-python",
   "name": "python",
   "nbconvert_exporter": "python",
   "pygments_lexer": "ipython3",
   "version": "3.7.4"
  }
 },
 "nbformat": 4,
 "nbformat_minor": 2
}
